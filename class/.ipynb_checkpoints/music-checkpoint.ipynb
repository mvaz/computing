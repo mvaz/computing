{
 "cells": [
  {
   "cell_type": "markdown",
   "metadata": {},
   "source": [
    "# A crash course on IPython (jupyter) notebooks\n",
    "\n",
    "This file contains a tutorial on analyzing the music data using Spark.\n",
    "But first, a primer on how to use the notebook.\n",
    "\n",
    "## A notebook is divided into cells\n",
    "\n",
    "The boxes labeled with `In [ ]:` are called cells.  They contain Python code.\n",
    "To run the code in the cell, click on the cell and press **Shift + Enter**\n",
    "\n",
    "Try it now on the cell below:"
   ]
  },
  {
   "cell_type": "code",
   "execution_count": 1,
   "metadata": {
    "collapsed": false
   },
   "outputs": [
    {
     "data": {
      "text/plain": [
       "2"
      ]
     },
     "execution_count": 1,
     "metadata": {},
     "output_type": "execute_result"
    }
   ],
   "source": [
    "1 + 1"
   ]
  },
  {
   "cell_type": "markdown",
   "metadata": {},
   "source": [
    "You should see an output like `Out[1]: 2`.\n",
    "\n",
    "Next, edit the above cell to say `1 + 2` and run it.\n",
    "\n",
    "## Check that the SparkContext is loaded\n",
    "\n",
    "Since you launched the notebook with PySpark, an object called `sc` is automatically loaded.\n",
    "This object is the connection to the Spark cluster.\n",
    "Run the cell below.\n",
    "You *should* see an output like\n",
    "\n",
    "`<pyspark.context.SparkContext at  `  *some numbers*  `  >`\n",
    "\n",
    "Otherwise, it won't be possible to proceed."
   ]
  },
  {
   "cell_type": "code",
   "execution_count": 2,
   "metadata": {
    "collapsed": false
   },
   "outputs": [
    {
     "data": {
      "text/plain": [
       "<pyspark.context.SparkContext at 0x7f210455f950>"
      ]
     },
     "execution_count": 2,
     "metadata": {},
     "output_type": "execute_result"
    }
   ],
   "source": [
    "sc"
   ]
  },
  {
   "cell_type": "markdown",
   "metadata": {},
   "source": [
    "# Music recommendations with PySpark\n",
    "\n",
    "## 1. Load some modules (libraries)\n",
    "\n",
    "The following cell imports the modules we need"
   ]
  },
  {
   "cell_type": "code",
   "execution_count": 3,
   "metadata": {
    "collapsed": true
   },
   "outputs": [],
   "source": [
    "import os\n",
    "import numpy as np"
   ]
  },
  {
   "cell_type": "markdown",
   "metadata": {},
   "source": [
    "## 2. Load the artist info\n",
    "\n",
    "We will load the data in `/root/data/artist_data.txt` into Python itself as a *dictionary*\n",
    "(a hash table of key-value pairs).\n",
    "This allows us to make sense of the numeric IDs we will get in the analysis."
   ]
  },
  {
   "cell_type": "code",
   "execution_count": 4,
   "metadata": {
    "collapsed": false
   },
   "outputs": [
    {
     "data": {
      "text/plain": [
       "['1134999\\t06Crazy Life',\n",
       " '6821360\\tPang Nakarin',\n",
       " '10113088\\tTerfel, Bartoli- Mozart: Don',\n",
       " '10151459\\tThe Flaming Sidebur',\n",
       " '6826647\\tBodenstandig 3000']"
      ]
     },
     "execution_count": 4,
     "metadata": {},
     "output_type": "execute_result"
    }
   ],
   "source": [
    "# Load the lines of the text into a list of strings\n",
    "f = open('/root/data/artist_data.txt', 'r')\n",
    "txt = f.read().split('\\n')\n",
    "f.close\n",
    "txt[0:5]"
   ]
  },
  {
   "cell_type": "code",
   "execution_count": 6,
   "metadata": {
    "collapsed": false
   },
   "outputs": [],
   "source": [
    "# Process each line to a key-value pair\n",
    "artist_ids = dict()\n",
    "for line in txt:\n",
    "    split = line.split('\\t')\n",
    "    if len(split) > 1:\n",
    "        artist_ids[int(split[0])] = split[1]"
   ]
  },
  {
   "cell_type": "code",
   "execution_count": 12,
   "metadata": {
    "collapsed": false
   },
   "outputs": [
    {
     "data": {
      "text/plain": [
       "('Staple Singers', 'Hi-Tek feat. Buckshot')"
      ]
     },
     "execution_count": 12,
     "metadata": {},
     "output_type": "execute_result"
    }
   ],
   "source": [
    "# Check some IDs\n",
    "artist_ids[1291], artist_ids[1989]"
   ]
  },
  {
   "cell_type": "markdown",
   "metadata": {},
   "source": [
    "Chances are that some of your favorite artists are in the list.\n",
    "To find them, make another dict() which enables reverse search"
   ]
  },
  {
   "cell_type": "code",
   "execution_count": 14,
   "metadata": {
    "collapsed": true
   },
   "outputs": [],
   "source": [
    "# Construct the reverse search dict\n",
    "artist_to_id = dict((v,k) for k,v in artist_ids.iteritems())"
   ]
  },
  {
   "cell_type": "code",
   "execution_count": 16,
   "metadata": {
    "collapsed": false
   },
   "outputs": [
    {
     "data": {
      "text/plain": [
       "1000113"
      ]
     },
     "execution_count": 16,
     "metadata": {},
     "output_type": "execute_result"
    }
   ],
   "source": [
    "# Enter your favorite artist below!\n",
    "artist_to_id['The Beatles']"
   ]
  },
  {
   "cell_type": "code",
   "execution_count": null,
   "metadata": {
    "collapsed": true
   },
   "outputs": [],
   "source": []
  }
 ],
 "metadata": {
  "kernelspec": {
   "display_name": "Python 2",
   "language": "python",
   "name": "python2"
  },
  "language_info": {
   "codemirror_mode": {
    "name": "ipython",
    "version": 2
   },
   "file_extension": ".py",
   "mimetype": "text/x-python",
   "name": "python",
   "nbconvert_exporter": "python",
   "pygments_lexer": "ipython2",
   "version": "2.7.8"
  }
 },
 "nbformat": 4,
 "nbformat_minor": 0
}
