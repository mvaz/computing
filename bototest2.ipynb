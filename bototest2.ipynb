{
 "metadata": {
  "name": "",
  "signature": "sha256:2c9e12fcc6a0db02f0dbf8ebfa9ba18de3c351d9d00911d3cd1ebd14b7b917e0"
 },
 "nbformat": 3,
 "nbformat_minor": 0,
 "worksheets": [
  {
   "cells": [
    {
     "cell_type": "code",
     "collapsed": false,
     "input": [
      "# due to security reasons... need to remove from git cache before running\n",
      "# lalala\n",
      "import os\n",
      "os.system('git rm --cached bototest2.ipynb')\n",
      "import subprocess\n",
      "st1 = subprocess.check_output('git status', shell=True)\n",
      "print([v for v in st1.split('\\n') if 'bototest' in v][0])"
     ],
     "language": "python",
     "metadata": {},
     "outputs": [
      {
       "output_type": "stream",
       "stream": "stdout",
       "text": [
        "\tdeleted:    bototest2.ipynb\n"
       ]
      }
     ],
     "prompt_number": 1
    },
    {
     "cell_type": "code",
     "collapsed": false,
     "input": [
      "from __future__ import with_statement\n",
      "\n",
      "import logging\n",
      "import os\n",
      "import pipes\n",
      "import random\n",
      "import shutil\n",
      "import string\n",
      "import subprocess\n",
      "import sys\n",
      "import tempfile\n",
      "import time\n",
      "import urllib2\n",
      "# skip import OptionParser\n",
      "from sys import stderr\n",
      "import boto # version 2.35 rather than 2.41\n",
      "#from boto.ec2.blockdevicemapping import BlockDeviceMapping, BlockDeviceType, E\n",
      "from boto import ec2"
     ],
     "language": "python",
     "metadata": {},
     "outputs": [],
     "prompt_number": 2
    },
    {
     "cell_type": "code",
     "collapsed": false,
     "input": [
      "identity_file = '~/Downloads/HomePair.pem'\n",
      "keypair = 'HomePair'\n",
      "region = 'us-west-2'"
     ],
     "language": "python",
     "metadata": {},
     "outputs": [],
     "prompt_number": 3
    },
    {
     "cell_type": "code",
     "collapsed": false,
     "input": [
      "def read_aws_key():\n",
      "    f = open('/home/snarles/Downloads/awskey.txt','r')\n",
      "    str_key = f.read().strip()\n",
      "    f.close()\n",
      "    return str_key\n",
      "\n",
      "def read_aws_ID():\n",
      "    f = open('/home/snarles/Downloads/awsID.txt','r')\n",
      "    str_key = f.read().strip()\n",
      "    f.close()\n",
      "    return str_key"
     ],
     "language": "python",
     "metadata": {},
     "outputs": [],
     "prompt_number": 4
    },
    {
     "cell_type": "code",
     "collapsed": false,
     "input": [
      "os.environ['AWS_ACCESS_KEY_ID']=read_aws_key()\n",
      "os.environ['AWS_SECRET_ACCESS_KEY']=read_aws_ID()\n",
      "conn = ec2.connect_to_region('us-west-2')"
     ],
     "language": "python",
     "metadata": {},
     "outputs": [],
     "prompt_number": 5
    },
    {
     "cell_type": "code",
     "collapsed": false,
     "input": [
      "reservations = conn.get_all_instances()"
     ],
     "language": "python",
     "metadata": {},
     "outputs": [],
     "prompt_number": 6
    },
    {
     "cell_type": "code",
     "collapsed": false,
     "input": [
      "res = reservations[0]\n",
      "print(len(res.instances)) # if it's 3, slaves, if it's 1, master\n",
      "[g.name for g in res.instances[0].groups]"
     ],
     "language": "python",
     "metadata": {},
     "outputs": [
      {
       "output_type": "stream",
       "stream": "stdout",
       "text": [
        "3\n"
       ]
      },
      {
       "metadata": {},
       "output_type": "pyout",
       "prompt_number": 7,
       "text": [
        "[u'AutoSpark-slaves']"
       ]
      }
     ],
     "prompt_number": 7
    },
    {
     "cell_type": "code",
     "collapsed": false,
     "input": [
      "master_nodes = [i for i in reservations[1].instances]\n",
      "slave_nodes = [i for i in reservations[0].instances]"
     ],
     "language": "python",
     "metadata": {},
     "outputs": [],
     "prompt_number": 8
    },
    {
     "cell_type": "code",
     "collapsed": false,
     "input": [
      "for inst in master_nodes:\n",
      "    inst.start()\n",
      "\n",
      "for inst in slave_nodes:\n",
      "    inst.start()"
     ],
     "language": "python",
     "metadata": {},
     "outputs": [],
     "prompt_number": 9
    },
    {
     "cell_type": "code",
     "collapsed": false,
     "input": [
      "master_nodes[0].update()\n",
      "for inst in slave_nodes:\n",
      "    inst.update()\n",
      "master_name = master_nodes[0].public_dns_name\n",
      "slave_names = [i.public_dns_name for i in slave_nodes]\n",
      "cluster_url = 'spark://'+master_name + ':7077'\n",
      "master_name, slave_names, cluster_url"
     ],
     "language": "python",
     "metadata": {},
     "outputs": [
      {
       "metadata": {},
       "output_type": "pyout",
       "prompt_number": 10,
       "text": [
        "(u'ec2-54-191-203-113.us-west-2.compute.amazonaws.com',\n",
        " [u'ec2-54-201-17-0.us-west-2.compute.amazonaws.com',\n",
        "  u'ec2-54-149-44-134.us-west-2.compute.amazonaws.com',\n",
        "  u'ec2-54-200-86-239.us-west-2.compute.amazonaws.com'],\n",
        " u'spark://ec2-54-191-203-113.us-west-2.compute.amazonaws.com:7077')"
       ]
      }
     ],
     "prompt_number": 10
    },
    {
     "cell_type": "code",
     "collapsed": false,
     "input": [
      "# set up config script for master\n",
      "tempscript = ['#!/usr/bin/env bash', \n",
      "               'export SPARK_MASTER_IP='+master_name,\n",
      "               'export MASTER='+cluster_url,\n",
      "               'export SPARK_PUBLIC_DNS='+master_name]\n",
      "f = open('temp.txt', 'w')\n",
      "f.write('\\n'.join(tempscript))\n",
      "f.close()\n"
     ],
     "language": "python",
     "metadata": {},
     "outputs": [],
     "prompt_number": 21
    },
    {
     "cell_type": "code",
     "collapsed": false,
     "input": [
      "cmd = 'scp -o StrictHostKeyChecking=no -i '+identity_file+' temp.txt ubuntu@'+master_name+':~/spark-1.1.0/conf/spark-env.sh'\n",
      "subprocess.check_output(cmd, shell=True)"
     ],
     "language": "python",
     "metadata": {},
     "outputs": [
      {
       "metadata": {},
       "output_type": "pyout",
       "prompt_number": 22,
       "text": [
        "''"
       ]
      }
     ],
     "prompt_number": 22
    },
    {
     "cell_type": "code",
     "collapsed": false,
     "input": [
      "# set up slaves conf\n",
      "f = open('temp.txt', 'w')\n",
      "f.write('\\n'.join(slave_names))\n",
      "f.close()"
     ],
     "language": "python",
     "metadata": {},
     "outputs": [],
     "prompt_number": 13
    },
    {
     "cell_type": "code",
     "collapsed": false,
     "input": [
      "cmd = 'scp -o StrictHostKeyChecking=no -i '+identity_file+' temp.txt ubuntu@'+master_name+':~/spark-1.1.0/conf/slaves'\n",
      "subprocess.check_output(cmd, shell=True)"
     ],
     "language": "python",
     "metadata": {},
     "outputs": [
      {
       "metadata": {},
       "output_type": "pyout",
       "prompt_number": 14,
       "text": [
        "''"
       ]
      }
     ],
     "prompt_number": 14
    },
    {
     "cell_type": "code",
     "collapsed": false,
     "input": [
      "# set up config script for slaves\n",
      "for slave_name in slave_names:\n",
      "    tempscript = ['#!/usr/bin/env bash', \n",
      "                   'export SPARK_MASTER_IP='+master_name,\n",
      "                   'export MASTER='+cluster_url,\n",
      "                   'export SPARK_PUBLIC_DNS='+slave_name]\n",
      "    f = open('temp.txt', 'w')\n",
      "    f.write('\\n'.join(tempscript))\n",
      "    f.close()\n",
      "    cmd = 'scp -o StrictHostKeyChecking=no -i '+identity_file+' temp.txt ubuntu@'+slave_name+':~/spark-1.1.0/conf/spark-env.sh'\n",
      "    subprocess.check_output(cmd, shell=True)"
     ],
     "language": "python",
     "metadata": {},
     "outputs": [],
     "prompt_number": 15
    },
    {
     "cell_type": "code",
     "collapsed": false,
     "input": [
      "# set up slaves conf\n",
      "f = open('temp.txt', 'w')\n",
      "f.write('\\n'.join(slave_names))\n",
      "f.close()"
     ],
     "language": "python",
     "metadata": {},
     "outputs": [],
     "prompt_number": 9
    },
    {
     "cell_type": "code",
     "collapsed": false,
     "input": [
      "# script to start spark\n",
      "cmd = 'ssh -o StrictHostKeyChecking=no -i '+identity_file+' ubuntu@'+master_name+' ./spark-1.1.0/sbin/start-all.sh'\n",
      "subprocess.check_output(cmd, shell=True)"
     ],
     "language": "python",
     "metadata": {},
     "outputs": [
      {
       "metadata": {},
       "output_type": "pyout",
       "prompt_number": 26,
       "text": [
        "\"starting org.apache.spark.deploy.master.Master, logging to /home/ubuntu/spark-1.1.0/sbin/../logs/spark-ubuntu-org.apache.spark.deploy.master.Master-1-ip-172-31-12-177.out\\nec2-54-200-86-239.us-west-2.compute.amazonaws.com: Warning: Permanently added 'ec2-54-200-86-239.us-west-2.compute.amazonaws.com' (ECDSA) to the list of known hosts.\\r\\nec2-54-200-86-239.us-west-2.compute.amazonaws.com: starting org.apache.spark.deploy.worker.Worker, logging to /home/ubuntu/spark-1.1.0/sbin/../logs/spark-ubuntu-org.apache.spark.deploy.worker.Worker-1-ip-172-31-0-52.out\\nec2-54-201-17-0.us-west-2.compute.amazonaws.com: Warning: Permanently added 'ec2-54-201-17-0.us-west-2.compute.amazonaws.com' (ECDSA) to the list of known hosts.\\r\\nec2-54-201-17-0.us-west-2.compute.amazonaws.com: starting org.apache.spark.deploy.worker.Worker, logging to /home/ubuntu/spark-1.1.0/sbin/../logs/spark-ubuntu-org.apache.spark.deploy.worker.Worker-1-ip-172-31-0-54.out\\nec2-54-149-44-134.us-west-2.compute.amazonaws.com: Warning: Permanently added 'ec2-54-149-44-134.us-west-2.compute.amazonaws.com' (ECDSA) to the list of known hosts.\\r\\nec2-54-149-44-134.us-west-2.compute.amazonaws.com: starting org.apache.spark.deploy.worker.Worker, logging to /home/ubuntu/spark-1.1.0/sbin/../logs/spark-ubuntu-org.apache.spark.deploy.worker.Worker-1-ip-172-31-0-53.out\\n\""
       ]
      }
     ],
     "prompt_number": 26
    },
    {
     "cell_type": "code",
     "collapsed": false,
     "input": [],
     "language": "python",
     "metadata": {},
     "outputs": [],
     "prompt_number": 9
    },
    {
     "cell_type": "code",
     "collapsed": false,
     "input": [],
     "language": "python",
     "metadata": {},
     "outputs": [],
     "prompt_number": 9
    },
    {
     "cell_type": "code",
     "collapsed": false,
     "input": [
      "# no security leaks? add back to git\n",
      "os.system('git add bototest2.ipynb')\n",
      "st1 = subprocess.check_output('git status', shell=True)\n",
      "print([v for v in st1.split('\\n') if 'bototest' in v][0])\n",
      "os.system('git commit -a -m \"commited by python script\"')"
     ],
     "language": "python",
     "metadata": {},
     "outputs": [
      {
       "output_type": "stream",
       "stream": "stdout",
       "text": [
        "\tmodified:   bototest2.ipynb\n"
       ]
      },
      {
       "metadata": {},
       "output_type": "pyout",
       "prompt_number": 27,
       "text": [
        "0"
       ]
      }
     ],
     "prompt_number": 27
    },
    {
     "cell_type": "code",
     "collapsed": false,
     "input": [],
     "language": "python",
     "metadata": {},
     "outputs": []
    }
   ],
   "metadata": {}
  }
 ]
}