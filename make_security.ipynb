{
 "metadata": {
  "name": "",
  "signature": "sha256:034e42174cab9ab7b01bdc7b640406fae4a90e4494e3cbd27aa7f249782e841c"
 },
 "nbformat": 3,
 "nbformat_minor": 0,
 "worksheets": [
  {
   "cells": [
    {
     "cell_type": "code",
     "collapsed": false,
     "input": [
      "import subprocess\n",
      "from __future__ import with_statement\n",
      "import logging\n",
      "import os\n",
      "import pipes\n",
      "import random\n",
      "import shutil\n",
      "import string\n",
      "import subprocess\n",
      "import sys\n",
      "import tempfile\n",
      "import time\n",
      "import urllib2\n",
      "# skip import OptionParser\n",
      "from sys import stderr\n",
      "import boto # version 2.35 rather than 2.41\n",
      "#from boto.ec2.blockdevicemapping import BlockDeviceMapping, BlockDeviceType, E\n",
      "from boto import ec2"
     ],
     "language": "python",
     "metadata": {},
     "outputs": [],
     "prompt_number": 1
    },
    {
     "cell_type": "code",
     "collapsed": false,
     "input": [
      "def read_aws_key():\n",
      "    f = open('/Users/snarles/Downloads/awskey.txt','r')\n",
      "    str_key = f.read().strip()\n",
      "    f.close()\n",
      "    return str_key\n",
      "\n",
      "def read_aws_ID():\n",
      "    f = open('/Users/snarles/Downloads/awsID.txt','r')\n",
      "    str_key = f.read().strip()\n",
      "    f.close()\n",
      "    return str_key\n",
      "\n",
      "def is_holding(rese):\n",
      "    gs = rese.instances[0].groups\n",
      "    noms = [g.name for g in gs]\n",
      "    if len(noms) == 0:\n",
      "        return False\n",
      "    if 'class' in noms[0] and 'master' in noms[0]:\n",
      "        return True\n",
      "    return False\n",
      "\n",
      "def get_or_make_group(conn, name):\n",
      "    groups = conn.get_all_security_groups()\n",
      "    group = [g for g in groups if g.name == name]\n",
      "    if len(group) > 0:\n",
      "        return group[0]\n",
      "    else:\n",
      "        print \"Creating security group \" + name\n",
      "        return conn.create_security_group(name, \"Spark EC2 group\")\n",
      "\n",
      "def setup_groups(master_group, slave_group):\n",
      "    authorized_address = '0.0.0.0/0'\n",
      "    master_group.authorize('tcp', 0, 65535, src_group=master_group)\n",
      "    master_group.authorize('tcp', 0, 65535, src_group=slave_group)\n",
      "    slave_group.authorize('tcp', 0, 65535, src_group=master_group)\n",
      "    slave_group.authorize('tcp', 0, 65535, src_group=slave_group)\n",
      "    master_group.authorize('tcp', 22, 22, authorized_address)\n",
      "    master_group.authorize('tcp', 8000, 9000, authorized_address)\n",
      "    master_group.authorize('tcp', 18080, 18080, authorized_address)\n",
      "    master_group.authorize('tcp', 19999, 19999, authorized_address)\n",
      "    master_group.authorize('tcp', 50030, 50030, authorized_address)\n",
      "    master_group.authorize('tcp', 50070, 50070, authorized_address)\n",
      "    master_group.authorize('tcp', 60070, 60070, authorized_address)\n",
      "    master_group.authorize('tcp', 4040, 4045, authorized_address)\n",
      "    master_group.authorize('tcp', 5080, 5080, authorized_address)\n",
      "    slave_group.authorize('tcp', 22, 22, authorized_address)\n",
      "    slave_group.authorize('tcp', 8080, 8081, authorized_address)\n",
      "    slave_group.authorize('tcp', 50060, 50060, authorized_address)\n",
      "    slave_group.authorize('tcp', 50075, 50075, authorized_address)\n",
      "    slave_group.authorize('tcp', 60060, 60060, authorized_address)\n",
      "    slave_group.authorize('tcp', 60075, 60075, authorized_address)\n",
      "    return\n",
      "    \n",
      "def delete_groups(master_group, slave_group):\n",
      "    master_group.revoke('tcp', 0, 65535, src_group=master_group)\n",
      "    master_group.revoke('tcp', 0, 65535, src_group=slave_group)\n",
      "    slave_group.revoke('tcp', 0, 65535, src_group=master_group)\n",
      "    slave_group.revoke('tcp', 0, 65535, src_group=slave_group)\n",
      "    master_group.delete()\n",
      "    slave_group.delete()\n",
      "    return\n",
      "\n",
      "def get_ip(inst):\n",
      "    return str(inst.dns_name). \\\n",
      "        replace('ec2-',''). \\\n",
      "        replace('.us-west-2.compute.amazonaws.com','').replace('-','.')\n",
      "\n",
      "os.environ['AWS_ACCESS_KEY_ID']=read_aws_ID()\n",
      "os.environ['AWS_SECRET_ACCESS_KEY']=read_aws_key()"
     ],
     "language": "python",
     "metadata": {},
     "outputs": [],
     "prompt_number": 132
    },
    {
     "cell_type": "code",
     "collapsed": false,
     "input": [
      "conn = ec2.connect_to_region('us-west-2')"
     ],
     "language": "python",
     "metadata": {},
     "outputs": [],
     "prompt_number": 10
    },
    {
     "cell_type": "code",
     "collapsed": false,
     "input": [
      "ninst = 4"
     ],
     "language": "python",
     "metadata": {},
     "outputs": [],
     "prompt_number": 140
    },
    {
     "cell_type": "code",
     "collapsed": false,
     "input": [
      "for i in range(ninst):\n",
      "    master_group = get_or_make_group(conn, 'class' + str(i) + '-master')\n",
      "    slave_group = get_or_make_group(conn, 'class' + str(i) + '-slaves')\n",
      "    delete_groups(master_group, slave_group)"
     ],
     "language": "python",
     "metadata": {},
     "outputs": [],
     "prompt_number": 137
    },
    {
     "cell_type": "code",
     "collapsed": false,
     "input": [
      "for i in range(ninst):\n",
      "    master_group = get_or_make_group(conn, 'class' + str(i) + '-master')\n",
      "    slave_group = get_or_make_group(conn, 'class' + str(i) + '-slaves')\n",
      "    setup_groups(master_group, slave_group)"
     ],
     "language": "python",
     "metadata": {},
     "outputs": [
      {
       "output_type": "stream",
       "stream": "stdout",
       "text": [
        "Creating security group class0-master\n",
        "Creating security group class0-slaves"
       ]
      },
      {
       "output_type": "stream",
       "stream": "stdout",
       "text": [
        "\n",
        "Creating security group class1-master"
       ]
      },
      {
       "output_type": "stream",
       "stream": "stdout",
       "text": [
        "\n",
        "Creating security group class1-slaves"
       ]
      },
      {
       "output_type": "stream",
       "stream": "stdout",
       "text": [
        "\n",
        "Creating security group class2-master"
       ]
      },
      {
       "output_type": "stream",
       "stream": "stdout",
       "text": [
        "\n",
        "Creating security group class2-slaves"
       ]
      },
      {
       "output_type": "stream",
       "stream": "stdout",
       "text": [
        "\n",
        "Creating security group class3-master"
       ]
      },
      {
       "output_type": "stream",
       "stream": "stdout",
       "text": [
        "\n",
        "Creating security group class3-slaves"
       ]
      },
      {
       "output_type": "stream",
       "stream": "stdout",
       "text": [
        "\n"
       ]
      }
     ],
     "prompt_number": 138
    },
    {
     "cell_type": "code",
     "collapsed": false,
     "input": [
      "for i in range(ninst):\n",
      "    master_group = get_or_make_group(conn, 'class' + str(i) + '-master')\n",
      "    slave_group = get_or_make_group(conn, 'class' + str(i) + '-slaves')\n",
      "    conn.request_spot_instances(price = 0.1, image_id = 'ami-6d6e4d5d',\n",
      "                                placement = 'us-west-2c', count = 1,\n",
      "                                key_name = 'class', security_groups = [master_group],\n",
      "                                instance_type = 'm3.large')\n",
      "    conn.request_spot_instances(price = 0.1, image_id = 'ami-6d6e4d5d',\n",
      "                                placement = 'us-west-2c', count = 1,\n",
      "                                key_name = 'class', security_groups = [slave_group],\n",
      "                                instance_type = 'm3.2xlarge')"
     ],
     "language": "python",
     "metadata": {},
     "outputs": [],
     "prompt_number": 141
    },
    {
     "cell_type": "code",
     "collapsed": false,
     "input": [
      "res = conn.get_all_reservations()"
     ],
     "language": "python",
     "metadata": {},
     "outputs": [],
     "prompt_number": 147
    },
    {
     "cell_type": "code",
     "collapsed": false,
     "input": [
      "res2 = [rese for rese in res if is_holding(rese)]"
     ],
     "language": "python",
     "metadata": {},
     "outputs": [],
     "prompt_number": 148
    },
    {
     "cell_type": "code",
     "collapsed": false,
     "input": [
      "instances = [rese.instances[0] for rese in res2]"
     ],
     "language": "python",
     "metadata": {},
     "outputs": [],
     "prompt_number": 149
    },
    {
     "cell_type": "code",
     "collapsed": false,
     "input": [
      "ips = [get_ip(inst) for inst in instances]"
     ],
     "language": "python",
     "metadata": {},
     "outputs": [],
     "prompt_number": 150
    },
    {
     "cell_type": "code",
     "collapsed": false,
     "input": [
      "ips"
     ],
     "language": "python",
     "metadata": {},
     "outputs": [
      {
       "metadata": {},
       "output_type": "pyout",
       "prompt_number": 151,
       "text": [
        "['52.11.171.95', '52.11.171.76', '52.11.172.29', '52.11.171.166']"
       ]
      }
     ],
     "prompt_number": 151
    },
    {
     "cell_type": "code",
     "collapsed": false,
     "input": [
      "f = open('/Users/snarles/ips.txt', 'w')\n",
      "f.write('\\n'.join(ips))\n",
      "f.close()"
     ],
     "language": "python",
     "metadata": {},
     "outputs": [],
     "prompt_number": 154
    },
    {
     "cell_type": "code",
     "collapsed": false,
     "input": [],
     "language": "python",
     "metadata": {},
     "outputs": []
    }
   ],
   "metadata": {}
  }
 ]
}