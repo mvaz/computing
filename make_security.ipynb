{
 "metadata": {
  "name": "",
  "signature": "sha256:ec08514c2b619218bd1be9f892bdef5b14b37424e836b2503d5cf08df3c31cfe"
 },
 "nbformat": 3,
 "nbformat_minor": 0,
 "worksheets": [
  {
   "cells": [
    {
     "cell_type": "code",
     "collapsed": false,
     "input": [
      "import subprocess\n",
      "from __future__ import with_statement\n",
      "import logging\n",
      "import os\n",
      "import pipes\n",
      "import random\n",
      "import shutil\n",
      "import string\n",
      "import subprocess\n",
      "import sys\n",
      "import tempfile\n",
      "import time\n",
      "import urllib2\n",
      "# skip import OptionParser\n",
      "from sys import stderr\n",
      "import boto # version 2.35 rather than 2.41\n",
      "#from boto.ec2.blockdevicemapping import BlockDeviceMapping, BlockDeviceType, E\n",
      "from boto import ec2"
     ],
     "language": "python",
     "metadata": {},
     "outputs": [],
     "prompt_number": 1
    },
    {
     "cell_type": "code",
     "collapsed": false,
     "input": [
      "def read_aws_key():\n",
      "    f = open('/Users/snarles/Downloads/awskey.txt','r')\n",
      "    str_key = f.read().strip()\n",
      "    f.close()\n",
      "    return str_key\n",
      "\n",
      "def read_aws_ID():\n",
      "    f = open('/Users/snarles/Downloads/awsID.txt','r')\n",
      "    str_key = f.read().strip()\n",
      "    f.close()\n",
      "    return str_key\n",
      "\n",
      "def is_holding(rese):\n",
      "    gs = rese.instances[0].groups\n",
      "    noms = [g.name for g in gs]\n",
      "    if len(noms) == 0:\n",
      "        return False\n",
      "    if noms[0]=='holding':\n",
      "        return True\n",
      "    return False\n",
      "\n",
      "def get_or_make_group(conn, name):\n",
      "    groups = conn.get_all_security_groups()\n",
      "    group = [g for g in groups if g.name == name]\n",
      "    if len(group) > 0:\n",
      "        return group[0]\n",
      "    else:\n",
      "        print \"Creating security group \" + name\n",
      "        return conn.create_security_group(name, \"Spark EC2 group\")\n",
      "\n",
      "def setup_groups(master_group, slave_group):\n",
      "    authorized_address = '0.0.0.0/0'\n",
      "    master_group.authorize('tcp', 0, 65535, src_group=master_group)\n",
      "    master_group.authorize('tcp', 0, 65535, src_group=slave_group)\n",
      "    slave_group.authorize('tcp', 0, 65535, src_group=master_group)\n",
      "    slave_group.authorize('tcp', 0, 65535, src_group=slave_group)\n",
      "    master_group.authorize('tcp', 22, 22, authorized_address)\n",
      "    master_group.authorize('tcp', 8000, 9000, authorized_address)\n",
      "    master_group.authorize('tcp', 18080, 18080, authorized_address)\n",
      "    master_group.authorize('tcp', 19999, 19999, authorized_address)\n",
      "    master_group.authorize('tcp', 50030, 50030, authorized_address)\n",
      "    master_group.authorize('tcp', 50070, 50070, authorized_address)\n",
      "    master_group.authorize('tcp', 60070, 60070, authorized_address)\n",
      "    master_group.authorize('tcp', 4040, 4045, authorized_address)\n",
      "    master_group.authorize('tcp', 5080, 5080, authorized_address)\n",
      "    slave_group.authorize('tcp', 22, 22, authorized_address)\n",
      "    slave_group.authorize('tcp', 8080, 8081, authorized_address)\n",
      "    slave_group.authorize('tcp', 50060, 50060, authorized_address)\n",
      "    slave_group.authorize('tcp', 50075, 50075, authorized_address)\n",
      "    slave_group.authorize('tcp', 60060, 60060, authorized_address)\n",
      "    slave_group.authorize('tcp', 60075, 60075, authorized_address)\n",
      "    return\n",
      "    \n",
      "def delete_groups(master_group, slave_group):\n",
      "    master_group.revoke('tcp', 0, 65535, src_group=master_group)\n",
      "    master_group.revoke('tcp', 0, 65535, src_group=slave_group)\n",
      "    slave_group.revoke('tcp', 0, 65535, src_group=master_group)\n",
      "    slave_group.revoke('tcp', 0, 65535, src_group=slave_group)\n",
      "    master_group.delete()\n",
      "    slave_group.delete()\n",
      "    return\n",
      "\n",
      "os.environ['AWS_ACCESS_KEY_ID']=read_aws_ID()\n",
      "os.environ['AWS_SECRET_ACCESS_KEY']=read_aws_key()"
     ],
     "language": "python",
     "metadata": {},
     "outputs": [],
     "prompt_number": 9
    },
    {
     "cell_type": "code",
     "collapsed": false,
     "input": [
      "conn = ec2.connect_to_region('us-west-2')"
     ],
     "language": "python",
     "metadata": {},
     "outputs": [],
     "prompt_number": 10
    },
    {
     "cell_type": "code",
     "collapsed": false,
     "input": [
      "groups = conn.get_all_security_groups()"
     ],
     "language": "python",
     "metadata": {},
     "outputs": [],
     "prompt_number": 17
    },
    {
     "cell_type": "code",
     "collapsed": false,
     "input": [
      "groups"
     ],
     "language": "python",
     "metadata": {},
     "outputs": [
      {
       "metadata": {},
       "output_type": "pyout",
       "prompt_number": 12,
       "text": [
        "[SecurityGroup:TestClust-master,\n",
        " SecurityGroup:AutoSpark-slaves,\n",
        " SecurityGroup:launch-wizard-2,\n",
        " SecurityGroup:class1-master,\n",
        " SecurityGroup:BrainClust-master,\n",
        " SecurityGroup:AutoSpark-master,\n",
        " SecurityGroup:class2-slaves,\n",
        " SecurityGroup:launch-wizard-1,\n",
        " SecurityGroup:BrainClust-slaves,\n",
        " SecurityGroup:default,\n",
        " SecurityGroup:TestClust-slaves,\n",
        " SecurityGroup:class2-master,\n",
        " SecurityGroup:class1-slaves]"
       ]
      }
     ],
     "prompt_number": 12
    },
    {
     "cell_type": "code",
     "collapsed": false,
     "input": [],
     "language": "python",
     "metadata": {},
     "outputs": [],
     "prompt_number": 14
    },
    {
     "cell_type": "code",
     "collapsed": false,
     "input": [],
     "language": "python",
     "metadata": {},
     "outputs": [],
     "prompt_number": 20
    },
    {
     "cell_type": "code",
     "collapsed": false,
     "input": [
      "master_group = get_or_make_group(conn, 'class3-master')\n",
      "slave_group = get_or_make_group(conn, 'class3-slaves')"
     ],
     "language": "python",
     "metadata": {},
     "outputs": [
      {
       "output_type": "stream",
       "stream": "stdout",
       "text": [
        "Creating security group class3-master\n",
        "Creating security group class3-slaves"
       ]
      },
      {
       "output_type": "stream",
       "stream": "stdout",
       "text": [
        "\n"
       ]
      }
     ],
     "prompt_number": 51
    },
    {
     "cell_type": "code",
     "collapsed": false,
     "input": [],
     "language": "python",
     "metadata": {},
     "outputs": [
      {
       "metadata": {},
       "output_type": "pyout",
       "prompt_number": 52,
       "text": [
        "True"
       ]
      }
     ],
     "prompt_number": 52
    },
    {
     "cell_type": "code",
     "collapsed": false,
     "input": [],
     "language": "python",
     "metadata": {},
     "outputs": [
      {
       "metadata": {},
       "output_type": "pyout",
       "prompt_number": 48,
       "text": [
        "True"
       ]
      }
     ],
     "prompt_number": 48
    },
    {
     "cell_type": "code",
     "collapsed": false,
     "input": [
      "res = conn.get_all_reservations()"
     ],
     "language": "python",
     "metadata": {},
     "outputs": [],
     "prompt_number": 91
    },
    {
     "cell_type": "code",
     "collapsed": false,
     "input": [],
     "language": "python",
     "metadata": {},
     "outputs": [],
     "prompt_number": 92
    },
    {
     "cell_type": "code",
     "collapsed": false,
     "input": [
      "gs = [rese.instances[0].groups for rese in res]\n",
      "noms = [[str(g.name) for g in gg] for gg in gs]"
     ],
     "language": "python",
     "metadata": {},
     "outputs": [],
     "prompt_number": 85
    },
    {
     "cell_type": "code",
     "collapsed": false,
     "input": [
      "noms"
     ],
     "language": "python",
     "metadata": {},
     "outputs": [
      {
       "metadata": {},
       "output_type": "pyout",
       "prompt_number": 86,
       "text": [
        "[['holding'],\n",
        " ['default'],\n",
        " ['default'],\n",
        " ['launch-wizard-2'],\n",
        " ['TestClust-master'],\n",
        " ['holding'],\n",
        " ['holding'],\n",
        " ['holding'],\n",
        " ['default'],\n",
        " ['launch-wizard-1'],\n",
        " [],\n",
        " ['default']]"
       ]
      }
     ],
     "prompt_number": 86
    },
    {
     "cell_type": "code",
     "collapsed": false,
     "input": [],
     "language": "python",
     "metadata": {},
     "outputs": [],
     "prompt_number": 93
    },
    {
     "cell_type": "code",
     "collapsed": false,
     "input": [
      "res2 = [rese for rese in res if is_holding(rese)]"
     ],
     "language": "python",
     "metadata": {},
     "outputs": [],
     "prompt_number": 94
    },
    {
     "cell_type": "code",
     "collapsed": false,
     "input": [
      "instances = []"
     ],
     "language": "python",
     "metadata": {},
     "outputs": [
      {
       "metadata": {},
       "output_type": "pyout",
       "prompt_number": 95,
       "text": [
        "[Reservation:r-6227046d,\n",
        " Reservation:r-9227049d,\n",
        " Reservation:r-9d270492,\n",
        " Reservation:r-7227047d]"
       ]
      }
     ],
     "prompt_number": 95
    },
    {
     "cell_type": "code",
     "collapsed": false,
     "input": [],
     "language": "python",
     "metadata": {},
     "outputs": [
      {
       "metadata": {},
       "output_type": "pyout",
       "prompt_number": 96,
       "text": [
        "[Instance:i-2d118ae4]"
       ]
      }
     ],
     "prompt_number": 96
    },
    {
     "cell_type": "code",
     "collapsed": false,
     "input": [],
     "language": "python",
     "metadata": {},
     "outputs": []
    }
   ],
   "metadata": {}
  }
 ]
}