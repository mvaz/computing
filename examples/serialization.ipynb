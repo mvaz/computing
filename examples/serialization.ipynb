{
 "metadata": {
  "name": "",
  "signature": "sha256:de905e05fc7e9fadfa45a4a606e9ac646bc52a9baa4b6681f01ea9667b12734d"
 },
 "nbformat": 3,
 "nbformat_minor": 0,
 "worksheets": [
  {
   "cells": [
    {
     "cell_type": "markdown",
     "metadata": {},
     "source": [
      "# Serialization and deserialization\n",
      "## Using numpy, pickle, and custom formats"
     ]
    },
    {
     "cell_type": "code",
     "collapsed": false,
     "input": [
      "import numpy as np\n",
      "import time\n",
      "import numpy.random as npr\n",
      "from StringIO import StringIO\n",
      "import math\n",
      "import numpy.testing as npt"
     ],
     "language": "python",
     "metadata": {},
     "outputs": [],
     "prompt_number": 5
    },
    {
     "cell_type": "code",
     "collapsed": false,
     "input": [
      "sc"
     ],
     "language": "python",
     "metadata": {},
     "outputs": [
      {
       "metadata": {},
       "output_type": "pyout",
       "prompt_number": 6,
       "text": [
        "<pyspark.context.SparkContext at 0x7f65a8d25710>"
       ]
      }
     ],
     "prompt_number": 6
    },
    {
     "cell_type": "markdown",
     "metadata": {},
     "source": [
      "## Functions to generate synthetic data"
     ]
    },
    {
     "cell_type": "code",
     "collapsed": false,
     "input": [
      "# generates a random voxel given dimensions X,Y,Z x W\n",
      "\n",
      "def gen_vox(ind, dims):\n",
      "    dims0 = tuple(dims[:3])\n",
      "    coords = np.unravel_index(ind, dims0)\n",
      "    data = npr.randn(dims[3])\n",
      "    return np.array(np.hstack([coords, data]), dtype=float16)"
     ],
     "language": "python",
     "metadata": {},
     "outputs": [],
     "prompt_number": 26
    },
    {
     "cell_type": "markdown",
     "metadata": {},
     "source": [
      "## My own custom serialization functions"
     ]
    },
    {
     "cell_type": "code",
     "collapsed": false,
     "input": [
      "def int_to_str(z):\n",
      "    z = int(z)\n",
      "    if (z < 0):\n",
      "        return chr(124) + int_to_str(-z)\n",
      "    if (z < 90):\n",
      "        return chr(z+33)\n",
      "    else:\n",
      "        resid = int(z % 90)\n",
      "        z = int(z-resid)/90\n",
      "        return int_to_str(z)+chr(90+33)+chr(resid+33)\n",
      "    \n",
      "def ints_to_str(zs):\n",
      "    return ''.join(int_to_str(z) for z in zs)\n",
      "\n",
      "def floats_to_str(xs, precision):\n",
      "    zs = np.array(np.array(xs) * float(10**precision), dtype=int)\n",
      "    return int_to_str(precision) + '}' + ints_to_str(zs)\n",
      "\n",
      "def str_to_ints(st, maxlen = -1):\n",
      "    os = [ord(c[0])-33 for c in st]\n",
      "    assert(min(os) >= 0 and max(os) <= 91) \n",
      "    zs = []\n",
      "    counter = 0\n",
      "    if maxlen == -1:\n",
      "        maxlen = len(os)\n",
      "    while (counter < len(os)) and (len(zs) < maxlen):\n",
      "        if os[counter] == 90: # 'join' symbol\n",
      "            zs[-1] = zs[-1] * 90 + math.copysign(1, zs[-1]) * os[counter + 1]\n",
      "            counter = counter + 1\n",
      "        elif os[counter] == 91: # 'minus' symbol\n",
      "            zs.append(-os[counter+1])    \n",
      "            counter = counter + 1\n",
      "        else:\n",
      "            zs.append(os[counter])\n",
      "        counter = counter + 1\n",
      "    return [int(z) for z in zs]\n",
      "\n",
      "def str_to_floats(stt):\n",
      "    st = stt.split('}')\n",
      "    if len(st)==1:\n",
      "        return np.array(str_to_ints(st[-1]), dtype=float)\n",
      "    if len(st)==2:\n",
      "        precision = str_to_ints(st[0])[0]\n",
      "        return np.array(str_to_ints(st[-1]), dtype=float)/float(10**precision)\n",
      "    \n",
      "def vox_to_str(vox):\n",
      "    return ints_to_str(vox[:3]) + '~' + floats_to_str(vox[3:], 3)\n",
      "\n",
      "def str_to_vox(st):\n",
      "    return np.hstack([str_to_floats(st) for st in st.split('~')])"
     ],
     "language": "python",
     "metadata": {},
     "outputs": [],
     "prompt_number": 8
    },
    {
     "cell_type": "markdown",
     "metadata": {},
     "source": [
      "### Demonstration"
     ]
    },
    {
     "cell_type": "code",
     "collapsed": false,
     "input": [
      "dims = (10, 10, 10, 20)\n",
      "ndata = np.prod(dims[:3])\n",
      "# generate data\n",
      "voxes = np.array([gen_vox(ind, dims) for ind in xrange(ndata)])\n",
      "# write to file\n",
      "fi = '\\n'.join([vox_to_str(vox) for vox in voxes])\n",
      "si = StringIO(fi)\n",
      "# read file\n",
      "sts = si.getvalue().split('\\n')\n",
      "print('============Original==============')\n",
      "print(voxes[0])\n",
      "print('============Compressed==============')\n",
      "print(sts[0])\n",
      "print('============Restored==============')\n",
      "print(str_to_vox(sts[0]))"
     ],
     "language": "python",
     "metadata": {},
     "outputs": [
      {
       "output_type": "stream",
       "stream": "stdout",
       "text": [
        "============Original==============\n",
        "[ 0.          0.          0.         -1.25745512 -0.38605601 -0.88571066\n",
        " -1.07809742  1.38232536  1.56528711  0.35100128  1.1332901  -1.68831182\n",
        " -0.16898727 -0.20058794 -0.25316035  0.09028763  0.04414123 -1.15985809\n",
        "  0.6529508   0.97641136 -0.98072462 -0.49020404 -0.71844601]\n",
        "============Compressed==============\n",
        "!!!~$}|.{x|%{;|*{l|,{y0{A2{D${r-{V|3{e|\"{o|#{5|#{j\"{!M|-{p({7+{m|+{q|&{I|({y\n",
        "============Restored==============\n",
        "[ 0.     0.     0.    -1.257 -0.386 -0.885 -1.078  1.382  1.565  0.351\n",
        "  1.133 -1.688 -0.168 -0.2   -0.253  0.09   0.044 -1.159  0.652  0.976\n",
        " -0.98  -0.49  -0.718]\n"
       ]
      }
     ],
     "prompt_number": 9
    },
    {
     "cell_type": "markdown",
     "metadata": {},
     "source": [
      "## Serialization functions based on numpy binary format"
     ]
    },
    {
     "cell_type": "markdown",
     "metadata": {},
     "source": [
      "### Functions for lossless conversion of one substring into another"
     ]
    },
    {
     "cell_type": "code",
     "collapsed": false,
     "input": [
      "def lossless_replace(st, a, b='[', c=']', d = '|'):\n",
      "    \"\"\"\n",
      "    Replaces all occurrences of a with b + c,\n",
      "    all occurrences of b + c with b + d + c,\n",
      "    all occurrences of b + d + c with b + d + d + c, etc.\n",
      "    \"\"\"\n",
      "    # find the longest sequence b + d + d .... + d + c\n",
      "    count = -1\n",
      "    while (b + d * (count+1) + c in st):\n",
      "        count = count+1\n",
      "    # elongate the b + d + ... + d + c\n",
      "    for z in list(reversed(range(count + 1))):\n",
      "        st = st.replace(b + d * z + c, b + d * (z+1) + c)\n",
      "    # replace a with b + c\n",
      "    st = st.replace(a, b + c)\n",
      "    return st\n",
      "\n",
      "def reverse_replace(st, a, b='[', c=']', d = '|'):\n",
      "    \"\"\"\n",
      "    Undoes the operation of lossless_replace, replacing b+c with a,\n",
      "    b+ d + c with b+c, b + d + d + c with b + d + c, etc.\n",
      "    \"\"\"\n",
      "    # find the longest sequence b + d + d .... + d + c\n",
      "    count = -1\n",
      "    while (b + d * (count+1) + c in st):\n",
      "        count = count+1\n",
      "    # replace b+c with a\n",
      "    st = st.replace(b + c, a)\n",
      "    # delongate the b + d + ... + d + c\n",
      "    for z in range(1, count+1):\n",
      "        st = st.replace(b + d * z + c, b + d * (z-1) + c)\n",
      "    return st"
     ],
     "language": "python",
     "metadata": {},
     "outputs": [],
     "prompt_number": 10
    },
    {
     "cell_type": "markdown",
     "metadata": {},
     "source": [
      "### Numpy's save and load functions modified to exclude newlines"
     ]
    },
    {
     "cell_type": "code",
     "collapsed": false,
     "input": [
      "def np_to_str(a):\n",
      "    \"\"\"\n",
      "    Converts an np array to a binary string without newline\n",
      "    \"\"\"\n",
      "    a = np.array(a, dtype = float16)\n",
      "    si = StringIO()\n",
      "    np.save(si, a)\n",
      "    st =  si.getvalue()\n",
      "    ans = lossless_replace(st, '\\n')\n",
      "    assert '\\n' not in ans\n",
      "    return ans\n",
      "\n",
      "def str_to_np(st): \n",
      "    \"\"\"\n",
      "    Converts a binary string without newline to an np array\n",
      "    \"\"\"\n",
      "    assert '\\n' not in st\n",
      "    st = reverse_replace(st, '\\n')\n",
      "    return np.load(StringIO(st))\n",
      "\n",
      "def array_to_multi_line(a, k = 20):\n",
      "    \"\"\"\n",
      "    Converts an np array to a string with multiple newlines,\n",
      "    each line corresponding to a chunk of k rows\n",
      "    \"\"\"\n",
      "    assert len(np.shape(a)) == 2\n",
      "    ndata = np.shape(a)[1]\n",
      "    sts = []\n",
      "    for pt in range(int(math.ceil(ndata/k))):\n",
      "        lb = pt * k\n",
      "        ub = min(ndata, pt * k + k)\n",
      "        suba = a[lb:ub, :]\n",
      "        st = np_to_str(suba)\n",
      "        sts.append(st)\n",
      "    return '\\n'.join(sts)\n",
      "\n",
      "def multi_line_to_array(st):\n",
      "    return np.vstack([str_to_np(stt) for stt in st.split('\\n')])\n",
      "\n",
      "def part2str(iterator):\n",
      "    arr = np.vstack(list(iterator))\n",
      "    st = np_to_str(arr)\n",
      "    return [st]\n",
      "\n",
      "def str2part(sts):\n",
      "    return np.vstack([multi_line_to_array(str(st)) for st in sts])"
     ],
     "language": "python",
     "metadata": {},
     "outputs": [],
     "prompt_number": 11
    },
    {
     "cell_type": "markdown",
     "metadata": {},
     "source": [
      "### Demonstration"
     ]
    },
    {
     "cell_type": "code",
     "collapsed": false,
     "input": [
      "dims = (10, 10, 10, 20)\n",
      "ndata = np.prod(dims[:3])\n",
      "# generate data\n",
      "voxes = np.array([gen_vox(ind, dims) for ind in xrange(ndata)])\n",
      "st = array_to_multi_line(voxes, 20)\n",
      "voxes2 = multi_line_to_array(st)\n",
      "\n",
      "print('============Original==============')\n",
      "print(voxes[0])\n",
      "print('============Compressed==============')\n",
      "print(st.split('\\n')[0])\n",
      "print('============Restored==============')\n",
      "print(voxes2[0])"
     ],
     "language": "python",
     "metadata": {},
     "outputs": [
      {
       "output_type": "stream",
       "stream": "stdout",
       "text": [
        "============Original==============\n",
        "[ 0.          0.          0.         -0.23443406  1.0732074   0.22187984\n",
        " -0.36000806 -0.40217648 -0.75483298  1.56589077  0.65279311  0.41772052\n",
        " -0.36820273  0.77509409  1.03615803 -1.49115201 -0.7111272  -1.73576268\n",
        " -0.05518522  0.15026018 -0.80525988 -1.25698933 -2.60792569]\n",
        "============Compressed==============\n",
        "\ufffdNUMPY\u0001\u0000F\u0000{'descr': '<f2', 'fortran_order': False, 'shape': (20, 23), }        []\u0000\u0000\u0000\u0000\u0000\u0000\ufffd\ufffdK<\u001a3\u00f5o\ufffd[]\ufffdC>99\ufffd6\ufffd3:%<\ufffd\ufffd\ufffd\ufffd\ufffd\u0010\ufffd\ufffd0q\ufffd\u0007\ufffd7\ufffd\u0000\u0000\u0000\u0000\u0000<1\ufffd\u07b5T\ufffd\ufffd5\u001a<b\ufffd\ufffd\ufffdW\ufffd[8^5\u0000\ufffdG7\r",
        "\ufffd\ufffd\ufffd\ufffd1\ufffd\ufffd\ufffd\ufffd\ufffd\u000b",
        "\ufffdm\ufffd\u0000\u0000\u0000\u0000\u0000@\ufffd\ufffd$=\ufffdA\ufffd\ufffd\ufffd\ufffd?\u001c",
        "\ufffd\u0001\ufffd\ufffd7\ufffd>3\ufffd\u0001\ufffd\u05bc/>R6\ufffd\ufffd\u0015\ufffd\ufffd:{4\u02f9\u0000\u0000\u0000\u0000\u0000BI:\u0005=~\ufffd\u00027t2Z@8\ufffd\ufffd\ufffd>\ufffd?K\ufffd\ufffd\ufffd\u00148\u0639\ufffd\u02f4\ufffd4\ufffd\u0016\ufffd\ufffd9\u0000\u0000\u0000\u0000\u0000DY>\u001a\ufffd\ufffd1\u0476*<!\ufffd@<\u0178\ufffd\ufffd^;-@\u001e",
        "\ufffd\ufffd\ufffd\ufffd-\ufffd:\ufffd\ufffd}\ufffd\ufffd\ufffd&=(4\u0000\u0000\u0000\u0000\u0000E\ufffd\ufffd\ufffd=J<\ufffd\ufffdt,\ufffd0\ufffd.\ufffde4k\ufffd\ufffd9\u07ba\u0734\u00193\u000e5X\ufffd\ufffd\ufffd\ufffd<c\ufffd\ufffd\ufffd\u0000\u0000\u0000\u0000\u0000F*\ufffdO\ufffd\u001c",
        "<\ufffd\ufffd\ufffd\u00038\ufffd4\ufffd\ufffd[\ufffd07@7\u04f2\ufffd<\ufffd\ufffda'28g\ufffdh85\ufffdX@\u0000\u0000\u0000\u0000\u0000G3;\u0019\ufffd\ufffd\ufffdH\ufffd\ufffd>\u03b7\ufffd=I\ufffdh\ufffd5\ufffdV7\ufffd\ufffd\ufffd/\u9c33\ufffd'8P;\ufffd=\ufffd8\ufffd\u0000\u0000\u0000\u0000\u0000H\ufffd>\ufffd?\ufffd\ufffdu;\ufffd\ufffd\ufffd\ufffd~\ufffd\u0174\ufffd:\ufffd=I\ufffdmB\ufffd?\ufffd<\ufffd?\ucce5\ufffd\ufffd;(=\u07ac\u0000\u0000\u0000\u0000\ufffdHX\ufffdR3\ufffd;<9g\ufffdF4\u06f0\ufffd9\ufffde7l\ufffd\ufffd\ufffd\u05a0\ufffd9\ufffd7\ufffd81\ufffd\r",
        "\ufffdC\ufffd~?\u0000\u0000\u0000<\u0000\u0000\ufffd\ufffd\\\ufffd\u0012\ufffd\ufffd9\ufffd.C9l\ufffdH3\u0003.v5\ufffd3\ufffd>\ufffd:l0\ufffd=\ufffd>\u0775\ufffd:N\ufffd,,\u0000\u0000\u0000<\u0000<\u0019\ufffd\u001d",
        "=8\ufffds\ufffd\ufffd\ufffdl\ufffd<2\ufffd\ufffd9\ufffdL,\ufffd==\ufffdL1_4/\ufffd6\ufffdo\ufffdm\ufffd1=\ufffd\ufffd\u0000\u0000\u0000<\u0000@\ufffd8a\ufffda\ufffd\u0003\ufffd\ufffd3\ufffd9\u000f\ufffdFA\ufffd\ufffd\ube85\ufffd.\ufffd\u0019\ufffd\ufffd\ufffdQ6x:=5_9d\ufffd\ufffd,\u0000\u0000\u0000<\u0000BQ\ufffd\u0003\ufffdR8k\ufffd\ufffd\ufffd\ufffd<\u0011\ufffd\ufffd\ufffdB9\u001b<y\ufffd\ufffd@\ufffd\u0016\ufffdm,\u001d",
        "9\ufffd9\ufffd\ufffdl+9\ufffd\u0000\u0000\u0000<\u0000DR;>\ufffd\ufffd=Z=\ufffd\ufffd\u04bb\ufffd7\u001a5,\ufffd\ufffd}\ufffd1=\ufffd\ufffd\ufffd5\ufffd;\ufffd<\ubd12\ufffd[]\ufffd\ufffd\ufffd\u0000\u0000\u0000<\u0000E\u4e088\ufffd\ufffd\ufffd>m<\u022f\ufffd>\u0013\ufffd98\\\ufffd\ufffdw9\ufffd:\u067dU\ufffd\ufffd5\ufffd9\u00040\ufffd297\u0000\u0000\u0000<\u0000F[(O\ufffd\ufffd;:\ufffdB6\ufffd=\ufffd<\ufffd2\ufffd8\ufffd-\ufffd5\ufffd>\ufffd\ufffd30\u000e<3\ufffd\u0005:\ufffd\ufffd\ufffd6\ufffd%\u0000\u0000\u0000<\u0000G)0\ufffd<\ufffd;\ufffd\ufffd{\ufffd\ufffd3\u001a\ufffdv>\ufffd55+\ufffd\ufffd5\u0001Ac5\ufffd\ufffd\ufffd@M\ufffd)5\u0003\ufffdp\ufffd\u0000\u0000\u0000<\u0000H`,\ufffd\ufffd'\u0002\ufffd@;\ufffd\ufffd\ufffd8\u0016'\ufffd\ufffd*$'\ufffd\ufffd\ufffd\ufffd)\u00074\ufffd\ufffd\u063dg\ufffd\u0000\ufffd\u0171\ufffd\ufffd\u0000\u0000\u0000<\ufffdH(7[]=\u0337\ufffd@r7$\ufffd\u00b4 \ufffdk<\ufffd:\u001c",
        "\ufffd\u0005\ufffdU/\u0019\ufffd\u000f8\ufffd1\u0004\ufffd\ufffd\ufffd\u000b",
        "<S:\n",
        "============Restored==============\n",
        "[ 0.          0.          0.         -0.234375    1.07324219  0.22192383\n",
        " -0.36010742 -0.40209961 -0.75488281  1.56542969  0.65283203  0.41772461\n",
        " -0.36816406  0.77490234  1.03613281 -1.49121094 -0.7109375  -1.73535156\n",
        " -0.05517578  0.15026855 -0.80517578 -1.25683594 -2.60742188]\n"
       ]
      }
     ],
     "prompt_number": 12
    },
    {
     "cell_type": "markdown",
     "metadata": {},
     "source": [
      "# Testing in Spark"
     ]
    },
    {
     "cell_type": "code",
     "collapsed": false,
     "input": [
      "parts = 50\n",
      "dims = (10, 10, 10, 20)\n",
      "ndata = np.prod(dims[:3])"
     ],
     "language": "python",
     "metadata": {},
     "outputs": [],
     "prompt_number": 27
    },
    {
     "cell_type": "markdown",
     "metadata": {},
     "source": [
      "## Generate the data"
     ]
    },
    {
     "cell_type": "code",
     "collapsed": false,
     "input": [
      "voxes = [gen_vox(ind, dims) for ind in xrange(ndata)]\n",
      "np.savetxt('temp.txt', voxes)\n",
      "t1 = time.clock()\n",
      "voxdata = sc.parallelize(voxes, parts)\n",
      "time_genData = time.clock() - t1\n",
      "time_genData"
     ],
     "language": "python",
     "metadata": {},
     "outputs": [
      {
       "metadata": {},
       "output_type": "pyout",
       "prompt_number": 28,
       "text": [
        "0.020000000000000018"
       ]
      }
     ],
     "prompt_number": 28
    },
    {
     "cell_type": "markdown",
     "metadata": {},
     "source": [
      "## Save using pickle"
     ]
    },
    {
     "cell_type": "code",
     "collapsed": false,
     "input": [
      "fname_pickle = 'vox.pickle'\n",
      "t1 = time.clock()\n",
      "voxdata.saveAsPickleFile(fname_pickle)\n",
      "time_pickle_saveData = time.clock() - t1\n",
      "time_pickle_saveData"
     ],
     "language": "python",
     "metadata": {},
     "outputs": [
      {
       "metadata": {},
       "output_type": "pyout",
       "prompt_number": 29,
       "text": [
        "0.010000000000000009"
       ]
      }
     ],
     "prompt_number": 29
    },
    {
     "cell_type": "markdown",
     "metadata": {},
     "source": [
      "#### Restore using pickle"
     ]
    },
    {
     "cell_type": "code",
     "collapsed": false,
     "input": [
      "t1 = time.clock()\n",
      "voxdata2 = sc.pickleFile(fname_pickle, 10)\n",
      "voxes2 = voxdata2.collect()\n",
      "time_pickle_loadData = time.clock() - t1\n",
      "print(time_pickle_loadData)\n",
      "voxes = np.loadtxt('temp.txt')\n",
      "npt.assert_almost_equal(voxes[0, :], np.array(voxes2[0]))"
     ],
     "language": "python",
     "metadata": {},
     "outputs": [
      {
       "output_type": "stream",
       "stream": "stdout",
       "text": [
        "0.0\n"
       ]
      }
     ],
     "prompt_number": 30
    },
    {
     "cell_type": "markdown",
     "metadata": {},
     "source": [
      "## Save using numpy"
     ]
    },
    {
     "cell_type": "code",
     "collapsed": false,
     "input": [
      "voxdata = sc.pickleFile(fname_pickle, 10)\n",
      "voxes = voxdata.collect()"
     ],
     "language": "python",
     "metadata": {},
     "outputs": [],
     "prompt_number": 31
    },
    {
     "cell_type": "code",
     "collapsed": false,
     "input": [
      "fname = 'vox_np.pickle'\n",
      "t1 = time.clock()\n",
      "voxdata.mapPartitions(part2str).saveAsPickleFile(fname)\n",
      "time_np_saveData = time.clock() - t1\n",
      "time_np_saveData"
     ],
     "language": "python",
     "metadata": {},
     "outputs": [
      {
       "metadata": {},
       "output_type": "pyout",
       "prompt_number": 32,
       "text": [
        "0.010000000000000009"
       ]
      }
     ],
     "prompt_number": 32
    },
    {
     "cell_type": "markdown",
     "metadata": {},
     "source": [
      "#### Restore using numpy"
     ]
    },
    {
     "cell_type": "code",
     "collapsed": false,
     "input": [
      "t1 = time.clock()\n",
      "npdata = sc.pickleFile(fname, 10).mapPartitions(str2part)\n",
      "voxes2 = npdata.collect()\n",
      "time_np_loadData = time.clock() - t1\n",
      "print(time_np_loadData)\n",
      "voxes = voxdata.collect()\n",
      "npt.assert_almost_equal(voxes[0], np.array(voxes2[0]), decimal = 3)"
     ],
     "language": "python",
     "metadata": {},
     "outputs": [
      {
       "output_type": "stream",
       "stream": "stdout",
       "text": [
        "0.01\n"
       ]
      }
     ],
     "prompt_number": 33
    },
    {
     "cell_type": "markdown",
     "metadata": {},
     "source": [
      "## Save using custom format"
     ]
    },
    {
     "cell_type": "code",
     "collapsed": false,
     "input": [
      "voxdata = sc.pickleFile(fname_pickle, 10)\n",
      "voxes = voxdata.collect()"
     ],
     "language": "python",
     "metadata": {},
     "outputs": [],
     "prompt_number": 34
    },
    {
     "cell_type": "code",
     "collapsed": false,
     "input": [
      "fname = 'vox.cff'\n",
      "t1 = time.clock()\n",
      "voxdata.map(vox_to_str).saveAsTextFile(fname)\n",
      "time_cff_saveData = time.clock() - t1\n",
      "time_cff_saveData"
     ],
     "language": "python",
     "metadata": {},
     "outputs": [
      {
       "metadata": {},
       "output_type": "pyout",
       "prompt_number": 35,
       "text": [
        "0.010000000000000009"
       ]
      }
     ],
     "prompt_number": 35
    },
    {
     "cell_type": "markdown",
     "metadata": {},
     "source": [
      "#### Restore using custom format"
     ]
    },
    {
     "cell_type": "code",
     "collapsed": false,
     "input": [
      "t1 = time.clock()\n",
      "cffdata = sc.textFile(fname, 10, use_unicode = False).map(str_to_vox)\n",
      "voxes2 = cffdata.collect()\n",
      "time_cff_loadData = time.clock() - t1\n",
      "print(time_cff_loadData)"
     ],
     "language": "python",
     "metadata": {},
     "outputs": [
      {
       "output_type": "stream",
       "stream": "stdout",
       "text": [
        "0.02\n"
       ]
      }
     ],
     "prompt_number": 36
    },
    {
     "cell_type": "code",
     "collapsed": false,
     "input": [
      "zip(voxes[0], voxes2[0])"
     ],
     "language": "python",
     "metadata": {},
     "outputs": [
      {
       "metadata": {},
       "output_type": "pyout",
       "prompt_number": 37,
       "text": [
        "[(0.0, 0.0),\n",
        " (0.0, 0.0),\n",
        " (0.0, 0.0),\n",
        " (-0.86865, -0.86799999999999999),\n",
        " (-1.2832, -1.2829999999999999),\n",
        " (0.82812, 0.82799999999999996),\n",
        " (1.1807, 1.181),\n",
        " (1.2012, 1.2010000000000001),\n",
        " (1.9814, 1.9810000000000001),\n",
        " (2.7383, 2.738),\n",
        " (0.30469, 0.30399999999999999),\n",
        " (-1.1016, -1.1020000000000001),\n",
        " (-0.39771, -0.39700000000000002),\n",
        " (0.15857, 0.158),\n",
        " (0.53711, 0.53700000000000003),\n",
        " (-0.60449, -0.60399999999999998),\n",
        " (0.30444, 0.30399999999999999),\n",
        " (-0.92969, -0.92900000000000005),\n",
        " (2.1074, 2.1080000000000001),\n",
        " (0.027893, 0.027),\n",
        " (-0.68896, -0.68899999999999995),\n",
        " (-0.75684, -0.75700000000000001),\n",
        " (1.6006, 1.601)]"
       ]
      }
     ],
     "prompt_number": 37
    },
    {
     "cell_type": "markdown",
     "metadata": {},
     "source": [
      "# Sanity check"
     ]
    },
    {
     "cell_type": "code",
     "collapsed": false,
     "input": [
      "np.loadtxt('temp.txt')[0, :]"
     ],
     "language": "python",
     "metadata": {},
     "outputs": [
      {
       "metadata": {},
       "output_type": "pyout",
       "prompt_number": 38,
       "text": [
        "array([ 0.        ,  0.        ,  0.        , -0.86865234, -1.28320312,\n",
        "        0.828125  ,  1.18066406,  1.20117188,  1.98144531,  2.73828125,\n",
        "        0.3046875 , -1.1015625 , -0.39770508,  0.15856934,  0.53710938,\n",
        "       -0.60449219,  0.30444336, -0.9296875 ,  2.10742188,  0.02789307,\n",
        "       -0.68896484, -0.75683594,  1.60058594])"
       ]
      }
     ],
     "prompt_number": 38
    },
    {
     "cell_type": "code",
     "collapsed": false,
     "input": [
      "voxes[0]"
     ],
     "language": "python",
     "metadata": {},
     "outputs": [
      {
       "metadata": {},
       "output_type": "pyout",
       "prompt_number": 39,
       "text": [
        "array([ 0.        ,  0.        ,  0.        , -0.86865234, -1.28320312,\n",
        "        0.828125  ,  1.18066406,  1.20117188,  1.98144531,  2.73828125,\n",
        "        0.3046875 , -1.1015625 , -0.39770508,  0.15856934,  0.53710938,\n",
        "       -0.60449219,  0.30444336, -0.9296875 ,  2.10742188,  0.02789307,\n",
        "       -0.68896484, -0.75683594,  1.60058594], dtype=float16)"
       ]
      }
     ],
     "prompt_number": 39
    },
    {
     "cell_type": "markdown",
     "metadata": {},
     "source": [
      "# Filesizes\n",
      "\n",
      "```\n",
      "-rwxrwxrwx 1 root root  74167 Feb 10 20:31 vox.cff\n",
      "-rwxrwxrwx 1 root root  58751 Feb 10 20:32 vox_np.pickle\n",
      "-rwxrwxrwx 1 root root 123600 Feb 10 20:31 vox.pickle\n",
      "```"
     ]
    }
   ],
   "metadata": {}
  }
 ]
}