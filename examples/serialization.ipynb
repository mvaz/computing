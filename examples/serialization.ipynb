{
 "metadata": {
  "name": "",
  "signature": "sha256:121a2a28f7f829462cc6176293e87793cd5d01634b82598c94a30835a1942e73"
 },
 "nbformat": 3,
 "nbformat_minor": 0,
 "worksheets": [
  {
   "cells": [
    {
     "cell_type": "markdown",
     "metadata": {},
     "source": [
      "# Serialization and deserialization\n",
      "## Using numpy, pickle, and custom formats"
     ]
    },
    {
     "cell_type": "code",
     "collapsed": false,
     "input": [
      "import numpy as np\n",
      "import time\n",
      "import numpy.random as npr\n",
      "from StringIO import StringIO\n",
      "import math\n",
      "import numpy.testing as npt"
     ],
     "language": "python",
     "metadata": {},
     "outputs": [],
     "prompt_number": 175
    },
    {
     "cell_type": "code",
     "collapsed": false,
     "input": [
      "sc"
     ],
     "language": "python",
     "metadata": {},
     "outputs": [
      {
       "metadata": {},
       "output_type": "pyout",
       "prompt_number": 6,
       "text": [
        "<pyspark.context.SparkContext at 0x7ffb65062710>"
       ]
      }
     ],
     "prompt_number": 6
    },
    {
     "cell_type": "markdown",
     "metadata": {},
     "source": [
      "## Functions to generate synthetic data"
     ]
    },
    {
     "cell_type": "code",
     "collapsed": false,
     "input": [
      "# generates a random voxel given dimensions X,Y,Z x W\n",
      "\n",
      "def gen_vox(ind, dims):\n",
      "    dims0 = tuple(dims[:3])\n",
      "    coords = np.unravel_index(ind, dims0)\n",
      "    data = npr.randn(dims[3])\n",
      "    return np.hstack([coords, data])"
     ],
     "language": "python",
     "metadata": {},
     "outputs": [],
     "prompt_number": 7
    },
    {
     "cell_type": "markdown",
     "metadata": {},
     "source": [
      "## My own custom serialization functions"
     ]
    },
    {
     "cell_type": "code",
     "collapsed": false,
     "input": [
      "def int_to_str(z):\n",
      "    z = int(z)\n",
      "    if (z < 0):\n",
      "        return chr(124) + int_to_str(-z)\n",
      "    if (z < 90):\n",
      "        return chr(z+33)\n",
      "    else:\n",
      "        resid = int(z % 90)\n",
      "        z = int(z-resid)/90\n",
      "        return int_to_str(z)+chr(90+33)+chr(resid+33)\n",
      "    \n",
      "def ints_to_str(zs):\n",
      "    return ''.join(int_to_str(z) for z in zs)\n",
      "\n",
      "def floats_to_str(xs, precision):\n",
      "    zs = np.array(np.array(xs) * float(10**precision), dtype=int)\n",
      "    return int_to_str(precision) + '}' + ints_to_str(zs)\n",
      "\n",
      "def str_to_ints(st, maxlen = -1):\n",
      "    os = [ord(c[0])-33 for c in st]\n",
      "    assert(min(os) >= 0 and max(os) <= 91) \n",
      "    zs = []\n",
      "    counter = 0\n",
      "    if maxlen == -1:\n",
      "        maxlen = len(os)\n",
      "    while (counter < len(os)) and (len(zs) < maxlen):\n",
      "        if os[counter] == 90: # 'join' symbol\n",
      "            zs[-1] = zs[-1] * 90 + math.copysign(1, zs[-1]) * os[counter + 1]\n",
      "            counter = counter + 1\n",
      "        elif os[counter] == 91: # 'minus' symbol\n",
      "            zs.append(-os[counter+1])    \n",
      "            counter = counter + 1\n",
      "        else:\n",
      "            zs.append(os[counter])\n",
      "        counter = counter + 1\n",
      "    return [int(z) for z in zs]\n",
      "\n",
      "def str_to_floats(stt):\n",
      "    st = stt.split('}')\n",
      "    if len(st)==1:\n",
      "        return np.array(str_to_ints(st[-1]), dtype=float)\n",
      "    if len(st)==2:\n",
      "        precision = str_to_ints(st[0])[0]\n",
      "        return np.array(str_to_ints(st[-1]), dtype=float)/float(10**precision)\n",
      "    \n",
      "def vox_to_str(vox):\n",
      "    return ints_to_str(vox[:3]) + '~' + floats_to_str(vox[3:], 3)\n",
      "\n",
      "def str_to_vox(st):\n",
      "    return np.hstack([str_to_floats(st) for st in st.split('~')])"
     ],
     "language": "python",
     "metadata": {},
     "outputs": [],
     "prompt_number": 1
    },
    {
     "cell_type": "markdown",
     "metadata": {},
     "source": [
      "### Demonstration"
     ]
    },
    {
     "cell_type": "code",
     "collapsed": false,
     "input": [
      "dims = (10, 10, 10, 20)\n",
      "ndata = np.prod(dims[:3])\n",
      "# generate data\n",
      "voxes = np.array([gen_vox(ind, dims) for ind in xrange(ndata)])\n",
      "# write to file\n",
      "fi = '\\n'.join([vox_to_str(vox) for vox in voxes])\n",
      "si = StringIO(fi)\n",
      "# read file\n",
      "sts = si.getvalue().split('\\n')\n",
      "print('============Original==============')\n",
      "print(voxes[0])\n",
      "print('============Compressed==============')\n",
      "print(sts[0])\n",
      "print('============Restored==============')\n",
      "print(str_to_vox(sts[0]))"
     ],
     "language": "python",
     "metadata": {},
     "outputs": [
      {
       "output_type": "stream",
       "stream": "stdout",
       "text": [
        "============Original==============\n",
        "[ 0.          0.          0.         -0.33579819  2.25679231  1.59638793\n",
        "  1.13281044 -0.85465097  0.15307826 -0.74646663  0.08299558  0.08684418\n",
        "  0.81638093  0.415849   -0.71074057  1.59813872  1.3466038  -0.47102263\n",
        " -0.14460504  0.83196986 -2.48135875 -0.5296583   1.66752617]\n",
        "============Compressed==============\n",
        "!!!~$}|${b:{'2{c-{U|*{M\"{`|){;sw*{'%{X|({q2{e/{w|&{6|\"{W*{6|<{T|&{p3{P\n",
        "============Restored==============\n",
        "[ 0.     0.     0.    -0.335  2.256  1.596  1.132 -0.854  0.153 -0.746\n",
        "  0.082  0.086  0.816  0.415 -0.71   1.598  1.346 -0.471 -0.144  0.831\n",
        " -2.481 -0.529  1.667]\n"
       ]
      }
     ],
     "prompt_number": 14
    },
    {
     "cell_type": "markdown",
     "metadata": {},
     "source": [
      "## Serialization functions based on numpy binary format"
     ]
    },
    {
     "cell_type": "markdown",
     "metadata": {},
     "source": [
      "### Functions for lossless conversion of one substring into another"
     ]
    },
    {
     "cell_type": "code",
     "collapsed": false,
     "input": [
      "def lossless_replace(st, a, b='[', c=']', d = '|'):\n",
      "    \"\"\"\n",
      "    Replaces all occurrences of a with b + c,\n",
      "    all occurrences of b + c with b + d + c,\n",
      "    all occurrences of b + d + c with b + d + d + c, etc.\n",
      "    \"\"\"\n",
      "    # find the longest sequence b + d + d .... + d + c\n",
      "    count = -1\n",
      "    while (b + d * (count+1) + c in st):\n",
      "        count = count+1\n",
      "    # elongate the b + d + ... + d + c\n",
      "    for z in list(reversed(range(count + 1))):\n",
      "        st = st.replace(b + d * z + c, b + d * (z+1) + c)\n",
      "    # replace a with b + c\n",
      "    st = st.replace(a, b + c)\n",
      "    return st\n",
      "\n",
      "def reverse_replace(st, a, b='[', c=']', d = '|'):\n",
      "    \"\"\"\n",
      "    Undoes the operation of lossless_replace, replacing b+c with a,\n",
      "    b+ d + c with b+c, b + d + d + c with b + d + c, etc.\n",
      "    \"\"\"\n",
      "    # find the longest sequence b + d + d .... + d + c\n",
      "    count = -1\n",
      "    while (b + d * (count+1) + c in st):\n",
      "        count = count+1\n",
      "    # replace b+c with a\n",
      "    st = st.replace(b + c, a)\n",
      "    # delongate the b + d + ... + d + c\n",
      "    for z in range(1, count+1):\n",
      "        st = st.replace(b + d * z + c, b + d * (z-1) + c)\n",
      "    return st"
     ],
     "language": "python",
     "metadata": {},
     "outputs": [],
     "prompt_number": 87
    },
    {
     "cell_type": "markdown",
     "metadata": {},
     "source": [
      "### Numpy's save and load functions modified to exclude newlines"
     ]
    },
    {
     "cell_type": "code",
     "collapsed": false,
     "input": [
      "def np_to_str(a):\n",
      "    \"\"\"\n",
      "    Converts an np array to a binary string without newline\n",
      "    \"\"\"\n",
      "    si = StringIO()\n",
      "    np.save(si, a)\n",
      "    st =  si.getvalue()\n",
      "    ans = lossless_replace(st, '\\n')\n",
      "    assert '\\n' not in ans\n",
      "    return ans\n",
      "\n",
      "def str_to_np(st): \n",
      "    \"\"\"\n",
      "    Converts a binary string without newline to an np array\n",
      "    \"\"\"\n",
      "    assert '\\n' not in st\n",
      "    st = reverse_replace(st, '\\n')\n",
      "    return np.load(StringIO(st))\n",
      "\n",
      "def array_to_multi_line(a, k = 20):\n",
      "    \"\"\"\n",
      "    Converts an np array to a string with multiple newlines,\n",
      "    each line corresponding to a chunk of k rows\n",
      "    \"\"\"\n",
      "    assert len(np.shape(a)) == 2\n",
      "    ndata = np.shape(a)[1]\n",
      "    sts = []\n",
      "    for pt in range(int(math.ceil(ndata/k))):\n",
      "        lb = pt * k\n",
      "        ub = min(ndata, pt * k + k)\n",
      "        suba = a[lb:ub, :]\n",
      "        st = np_to_str(suba)\n",
      "        sts.append(st)\n",
      "    return '\\n'.join(sts)\n",
      "\n",
      "def multi_line_to_array(st):\n",
      "    return np.vstack([str_to_np(stt) for stt in st.split('\\n')])\n",
      "\n",
      "def part2str(iterator):\n",
      "    arr = np.vstack(list(iterator))\n",
      "    st = np_to_str(arr)\n",
      "    return [st]\n",
      "\n",
      "def str2part(sts):\n",
      "    return np.vstack([multi_line_to_array(str(st)) for st in sts])"
     ],
     "language": "python",
     "metadata": {},
     "outputs": [],
     "prompt_number": 106
    },
    {
     "cell_type": "markdown",
     "metadata": {},
     "source": [
      "### Demonstration"
     ]
    },
    {
     "cell_type": "code",
     "collapsed": false,
     "input": [
      "dims = (10, 10, 10, 20)\n",
      "ndata = np.prod(dims[:3])\n",
      "# generate data\n",
      "voxes = np.array([gen_vox(ind, dims) for ind in xrange(ndata)])\n",
      "st = array_to_multi_line(voxes, 20)\n",
      "voxes2 = multi_line_to_array(st)\n",
      "\n",
      "print('============Original==============')\n",
      "print(voxes[0])\n",
      "print('============Compressed==============')\n",
      "print(st.split('\\n')[0])\n",
      "print('============Restored==============')\n",
      "print(voxes2[0])"
     ],
     "language": "python",
     "metadata": {},
     "outputs": [
      {
       "output_type": "stream",
       "stream": "stdout",
       "text": [
        "============Original==============\n",
        "[ 0.          0.          0.         -0.4810793  -0.96622419  0.71068403\n",
        " -0.70290032  0.00903618  2.06230981  1.05907386 -0.3156516  -0.63261163\n",
        " -0.1678246  -1.71185661  0.50365425  1.51758369  1.02881171 -1.35752122\n",
        " -0.35042412 -1.62309875 -1.33578129  0.23079524 -0.77564994]\n",
        "============Compressed==============\n",
        "\ufffdNUMPY\u0001\u0000F\u0000{'descr': '<f8', 'fortran_order': False, 'shape': (20, 23), }        []\u0000\u0000\u0000\u0000\u0000\u0000\u0000\u0000\u0000\u0000\u0000\u0000\u0000\u0000\u0000\u0000\u0000\u0000\u0000\u0000\u0000\u0000\u0000\u0000\ufffdp\ufffd\ufffd\u0000\ufffd\u07bf\u0005sn\ufffdN\ufffd\ufffd\u0154\ufffdm\ufffd\ufffd?\ufffd|\r",
        "\ufffd(~\u6fcf\ufffd\ufffd\u014f\ufffd\ufffd?\u0007m\ufffdI\ufffd\u007f\u0000@\"\ufffduo\ufffd\ufffd\ufffd?\ufffd+\ufffd\u02623\u053f\\K#\ufffdZ>\ufffd\ufffd\ufffd\ufffdF{\u017f$\ufffdS\ufffd\ufffdc\ufffd\ufffd\ufffd\u0014\ufffd\ufffd\ufffd\u001d",
        "\ufffd?\ufffd2\ufffd\ufffd\u0005H\ufffd?\ufffd\ufffd\ufffdD\u0003v\ufffd?\u017f\ufffd+h\ufffd\ufffd\ufffd\ufffd\u01f6HYm\u05bf\ufffd\ufffdd6\ufffd\ufffd\ufffd\ufffd\ufffd\ufffd2\\_\ufffd\ufffdp\ufffd,\u03f2\ufffd\ufffd?P\ufffd\ufffd\ufffd\u001f\ufffd\ufffd\u0000\u0000\u0000\u0000\u0000\u0000\u0000\u0000\u0000\u0000\u0000\u0000\u0000\u0000\u0000\u0000\u0000\u0000\u0000\u0000\u0000\u0000\ufffd?m{\ufffd]\ufffd\ufffd\ufffd?\ufffd\ba\ufffd\ufffd\ufffd\ufffdj\ufffd\ufffdz\ufffd\ufffd?\ufffdiG\ufffd\ufffd\ufffd\ufffd\ufffd\ufffd\ufffd\ufffd\u0000\ufffdJ\ufffd\ufffd\ufffd\f",
        "\ufffd\ufffd\ufffd\ufffdw\ufffd\ufffd\ufffd\ufffd\ufffd\ufffd\ufffd-F\ufffdI\ufffdL\ufffd!\ufffdw6>\ufffd\ufffd?\u01be\ufffdP+q\u01bfn$1\ufffd\ufffd\ufffd\ufffd?q\u0016DF\ufffd\"\ufffd?\ufffd\u000e\ufffd\\\ufffd.\ufffd\ufffdR\ufffd\ufffd$Y\ufffd\ufffdOn4!\ufffd\ufffd\ufffd\ufffd\u0012\ufffd)'\ufffd\ufffd?\u001e",
        "{Z\ufffdU\ufffd\ufffd?)jdL\ufffd\ufffd\ufffd?0\u0001\ufffd\ufffd\ufffd\ufffd\ufffd??\ufffd\ufffdK\u05da\ufffd?\u0000\u0000\u0000\u0000\u0000\u0000\u0000\u0000\u0000\u0000\u0000\u0000\u0000\u0000\u0000\u0000\u0000\u0000\u0000\u0000\u0000\u0000\u0000@\ufffdqzXCj\ufffd?\ufffd]\ufffd\ufffd!$\ufffd?V\ufffd(\ufffd\ufffd&\ufffd\ufffd@\ufffdm\ufffdb\u0011\u01bf\ufffdrk\ufffdk\ufffd?\ufffd\ufffdV\ufffd@8\ufffd\r",
        "\ufffdr\u0005\ufffd\ufffd\u0010v\u0004:H\ufffd\ufffdv\ufffd\ufffdgy\u000f\ufffd\ufffdZXB0\ufffd?\t\ufffd\ufffd\ufffd\u001f\ufffd\ufffd?\ua445\ufffd>Q\ufffd\ufffd|\ufffd\ufffdV\ufffd\ufffd?[k\ufffd\ufffd\ufffd,\ufffd?\ufffd\ufffdq\ufffd\ufffd\ufffd\ufffd\ufffd\ufffdtH\ufffd\ufffd?\ufffd\ufffd\ufffd\ufffd{\ufffd_)\u000e\ufffd\ufffdH\ufffdV\ufffd\ufffd\ufffd6L\ufffd\ufffd\u0005\r",
        "\ufffdU\ufffd\ufffd?\u0000\u0000\u0000\u0000\u0000\u0000\u0000\u0000\u0000\u0000\u0000\u0000\u0000\u0000\u0000\u0000\u0000\u0000\u0000\u0000\u0000\u0000\b@\ufffd\u0000R\u0004\ufffd\ufffd\ufffd?\ufffd>,\ufffd\ufffdm\ufffd?\ufffd\ufffdO\ufffdB{\ufffd?/\ufffd\ufffd\ufffd9}\ufffd\ufffd;Z\u0018\ufffd6\ufffd?\ufffd\ufffd\ufffd\u0005\ufffd\u0000j?!2Ct\u000b",
        "P\ufffd?\ufffdF7\ufffd\ufffd#\ufffd\ufffd=L\f",
        "\tr\ufffd?OG\u001b\ufffd\ufffdr\u06ff\ufffdW\ufffd\u0017\ufffd=\ufffd?,\ufffd\ufffd\ufffdPw\ufffd\ufffdHi\ufffd)\u000f\ufffd?\ufffd\tV\u06b2\ufffd\u027f\ufffd\ufffd/\ufffd\ufffd?l\u06c7Z\ufffd\ufffd\ufffd?\ufffd\u0004!\ufffd%,\u0fe9\\\ufffd`\ufffdv\ufffd\ufffd\ufffd\u0011\ufffd0\ufffd6\ufffd?vg\u0003-\ufffdA\ufffd?\u0000\u0000\u0000\u0000\u0000\u0000\u0000\u0000\u0000\u0000\u0000\u0000\u0000\u0000\u0000\u0000\u0000\u0000\u0000\u0000\u0000\u0000\u0010@$\u0007*\ufffdR\ufffd\ufffd\u0002\ufffd\f",
        "\ufffd\ufffd\ufffd\u001c",
        "4\ufffd+\ufffd\ufffd\u04bf\ufffd\ufffd\ufffd\ufffd\ufffd\u0017\u0fff?\ufffd\ufffd$\ufffd\ufffd\ufffd-\ufffdj\u000f\ufffd\ufffd\ufffd!\ufffd\ufffdtZ\ufffd?\ufffd}\ufffdI?\ufffd\ufffd?\f",
        "\ufffd\ufffd#\ufffd\ufffd\u0015o\ufffdh\ufffd\ufffd\ufffd\ufffd0h\u001c",
        "\ufffd?\u0003\ufffd\u0004;\ufffds\ufffd?j\ufffd\ufffd\ufffd\ufffd\u0006\ufffd\ufffd@\ufffdju\ufffd\ufffd?s\ufffd\u000f\ufffd\ufffd\ufffd\u05ffS\u0016\ufffd\r",
        "\ufffd\ufffd\ufffd?\ufffdO\ufffd\\\ufffdm\ufffd?\ufffdA\ufffd\u0014\ufffd\ufffd\u02bf\ufffd\ufffd\ufffd\ufffdJ\ufffd\u0002\ufffd9b\ufffd2*\u0015\ufffd?\u0000\u0000\u0000\u0000\u0000\u0000\u0000\u0000\u0000\u0000\u0000\u0000\u0000\u0000\u0000\u0000\u0000\u0000\u0000\u0000\u0000\u0000\u0014@2\ufffd\u001f\ufffd\ufffd\u0014\u04ff\u0002\ufffd\ufffd\u06bbY\ufffd?\ufffd\ufffd.\u0013ss\ufffd?[]\ufffd\ufffd\u001a&T\ufffd\ufffdR\ufffd|\ufffd1\ufffd\ufffd?pR\u0003\ufffd:\ufffd\ufffdH\ufffd\ufffd\ufffd\u0017\ufffd\ufffd\r",
        "+\ufffdu\u001fm\ufffd?q\ufffdL\ufffd\u0012\ufffd\ufffd?\u0001\ufffd\u0012+\ufffdi\ufffdo\ufffd\u0018\ufffd\u000f\f",
        "\ufffd?\ufffd\u0018>\u0017$K\u05bf\ufffd\ufffd\u0016\ufffd\ufffdK\ufffd?\ufffd\ufffdl\ufffdn\ufffd\u06bf\ufffd\ufffd\ufffd\ufffd\u0002x\ufffd?=\ufffd\ufffdv\ufffd\ufffd\ufff7\ufffd_j\ufffd\ufffd\ufffd\ufffduC \ufffdm\u0010\u03ff\ufffd\ufffdNm\ufffd\ufffd\ufffd?.[]\ufffdx\u0018z\ufffd?\u0000\u0000\u0000\u0000\u0000\u0000\u0000\u0000\u0000\u0000\u0000\u0000\u0000\u0000\u0000\u0000\u0000\u0000\u0000\u0000\u0000\u0000\u0018@%\ufffd\u0015\ufffd\u0258\ufffd\ufffd\ufffdvd\u008d\ufffd\ufffd?4\ufffd\ufffd\ufffds\ufffd\ufffd\ufffd\ufffd\ufffd\ufffdB\ufffd\ufffd?41\ufffd\ufffd<V\ufffd?Ey:\ufffdF\ufffd\ufffd?\ufffdjn\ufffd\u0013\ufffd\ufffd}t3V\ufffd\u001f\ufffdl9\ufffd\u0001z\ufffd\ufffd?\ufffd\ufffd\ufffd\ufffd\ufffd\ufffd\u00bfd@%^vR\ufffd}\ufffdG\ufffdD`\ufffd?>\ufffd\ufffd\ufffd\ufffd\ufffd\u0000@Y\ufffdoy\u0011{\ufffd?\u0001gpZ\ufffd\ufffd\u0002@\ufffd$\ufffd\u0012\ufffdp\ufffd\ufffdh_\ufffd\u0011\ufffdf\ufffdPb\ufffd\ufffd\ufffdm\u067fv\u000b",
        "\ufffd\u007f;@\ufffd?\ufffd\u0012v\ufffd\ufffd\ufffd\ufffd?\u0000\u0000\u0000\u0000\u0000\u0000\u0000\u0000\u0000\u0000\u0000\u0000\u0000\u0000\u0000\u0000\u0000\u0000\u0000\u0000\u0000\u0000\u001c",
        "@(&\u01ef\ufffd\ufffd\ufffd?_Px\ufffd\u001a\ufffd\u05ff9\ufffd\ufffdu\ufffd \ufffd?0\ufffdv\ufffde\ufffd\ufffd?\ufffdb\u000f\ufffd\u0007\ufffd\ufffd\u001b\ufffd\u001e",
        "g\ufffd\u0019\ufffd?\ufffd\ufffd\tN(\ufffd\ufffd<u[](\ufffd0\ufffd\ufffdD/2\ufffd\ufffd\ufffd\ufffd?\u0003\ufffda|\ufffdA\ufffd?@\ufffd.\ufffd+\ufffd\u07ffO\ufffdW\ufffd\ufffd\u0001\ufffd?\ufffd\u0015\ufffd)\ufffd\u04ff\ufffd\u0017\ufffdkYd\u057f\u02a4\ufffdp\ufffd\ufffd\ufffd?0\u000b",
        "\ufffd]Za\ufffd?\ufffd\u07e3+pp\ufffd?=\ufffdZ\ufffd\ufffd\ufffd\ufffd?\ufffd\ufffd\ufffd\ufffd*\u07ff\u0011\ufffd\ufffd@(+\ufffd\u0000\u0000\u0000\u0000\u0000\u0000\u0000\u0000\u0000\u0000\u0000\u0000\u0000\u0000\u0000\u0000\u0000\u0000\u0000\u0000\u0000\u0000 @\u0001/<0o\ufffd\ufffd\ufffdR\ufffd\ufffd)Om\u06bf\ufffdZ\ufffd>NY\u067f\ufffd\ufffdU\ufffds\u0016\u1ff7\f",
        "E\ufffd~\ufffd\u0003@i\\Y\ufffd\ufffdN\ufffd?E\ufffd'{^[]\u063f\ufffd\u024d\ufffd$\u0010\ufffd?\ufffd6\ufffd\ufffd }\ufffd\ufffd\ufffd.\ufffd\u0016\ufffd\ufffd\ufffd?\ufffdt\r",
        "*\ufffdO\ufffd?\u0012\ufffd\u0004y\ufffd\ufffd\ufffd[]\ufffd\u0002\ufffd\u0010\ufffd?p\u0018\ufffdq\u0010J\ufffd?F\ufffd3\"7\ufffd\u9fdd\ufffdND\u0012\ufffd\ufffd?\ufffd\ufffdJ\ufffd4\ufffd\ufffd?t\u001f\ufffd\ufffdx\ufffd\ufffd\ufffdp23}\u033c\ufffd=?/f\ufffd\u001e",
        "\ufffd\ufffd\u0000\u0000\u0000\u0000\u0000\u0000\u0000\u0000\u0000\u0000\u0000\u0000\u0000\u0000\u0000\u0000\u0000\u0000\u0000\u0000\u0000\u0000\"@m\ufffdA\ufffdS\ufffd\ufffd\u0006\ufffdX\ufffd\ufffd\ufffd\ufffd?G}D\u01df\ufffd\ufffd\bks\ufffd\ufffd\u0004\ufffd`\ufffd\ufffdE\ufffd\ufffd\ufffd\ufffdg\u0001\ufffd\ufffdr\ufffd?(LZ\ufffd\ufffdk\ufffd\ufffdA_-\ufffdh\ufffd\ufffd9=t\ufffd6\ufffd?Y\f",
        "\u0243\ufffd\ufffd\ufffd?\ufffd\ufffd\ufffdy&\u0012\uffd8\ufffd\r",
        "56 \ufffd?RL\u0012\ufffd%\ufffd\ufffd?\u0019:-\ufffd\ufffd\u001a\ufffd\ufffd&3\ufffd%\ufffd7\u0fe2[_6\ufffd\ufffd\ufffd?\u0011\ufffdb\ufffd\ufffd\ufffd?\ufffd\ufffd3\ufffd\ufffdX\ufffd?kx\ufffdU\u044c\ufffd\ufffdX}\ufd1a\ufffd\ufffd?\u0000\u0000\u0000\u0000\u0000\u0000\u0000\u0000\u0000\u0000\u0000\u0000\u0000\u0000\ufffd?\u0000\u0000\u0000\u0000\u0000\u0000\u0000\u0000\u007f\ufffd\ufffd\ufffd^\u0016\ubfd8;\ufffd\ufffd94\u057f(\ufffd\ufffdB5\ufffd\u1fc3Vw\u001e",
        "\ufffd\ufffd?\ufffdc\ufffd\u0013\u0019(\ufffd?%\u001fu\ufffd8\ufffd\ufffd$8\ufffd\ufffdtB\ufffd?\ufffdp\ufffd\ufffd \ufffd?\ufffd\ufffd\t#\ufffdM\ufffd?\ufffd\ufffd~\ufffdhB\ufffd\u0019\ufffd^\ufffd#\ufffd\ufffd?\ufffdU/\ufffd\ufffd&\ufffd?%\ufffd\ufffd\u000b",
        "\ufffd\ufffd\u063f=~\ufffdk\u001a\u06d6?\ufffd\ufffd\u000b",
        "\ufffda\ufffd\ufffd?:\ufffd\u0004\ufffd8\ufffd\ufffd?\ufffd\ufffd\u0019o\ufffd\u0001\ufffd?\u001a\ufffdt7|\ufffd\u07ff\ufffd\u0018@\ufffd\f",
        "\ufffd\ufffd?Mo\t'\ub553?\u0000\u0000\u0000\u0000\u0000\u0000\u0000\u0000\u0000\u0000\u0000\u0000\u0000\u0000\ufffd?\u0000\u0000\u0000\u0000\u0000\u0000\ufffd?\ufffdn\ufffd\u001aG\ufffd?\ufffdu\ufffd\ufffd\u0255\ufffdy\u0002\ufffd\ufffd}\ufffd\ufffd?\ufffd]\ufffd\ufffd\ufffd\ufffd\ufffd?\ufffd9\ufffd\ufffd\u0019\u0000\ufffd\ufffd\b\ufffd}\ufffd\u037f\ufffd\ufffd\ufffd\ufffd3a\ufffd?\ufffd\ufffd['\ufffd\ufffd\u073f2\ufffdy*\u0013\ufffd\ufffd?\ufffdo\ufffd\u0003Xx\u0006\ufffd\ufffd\ufffd\ufffd\ufffdA-\ufffd?\u0016\u0012\ufffd\ufffd\ufffd\ufffd\u4fc3\u05ba\ufffd\ufffd\ufffd\ufffdw\u0007\ufffd! \ufffd\ufffd?\ufffd3+p\u015a\ufffd\ufffd\u073d\ufffd,>\ufffd\ufffd?\ufffd\ufffda\ufffd}\u001c",
        "\ufffd?\u0017\ufffd\b%\u000b",
        "\u5fc6S\ufffdD\ufffd\ufffd?\ufffdo\ufffd\ufffd\ufffdc\u07ff\u0000\u0000\u0000\u0000\u0000\u0000\u0000\u0000\u0000\u0000\u0000\u0000\u0000\u0000\ufffd?\u0000\u0000\u0000\u0000\u0000\u0000\u0000@\u000f\ufffd\ufffd\ufffd\ufffdr\ufffd?\ufffd\ufffd\ufffd:\u0013\ufffd\ufffd?IjX\ufffdh9\ufffd?\ufffdQ\ufffdm\ufffd\ufffd\ufffd?\ufffd\ufffdm\ufffd\ufffd\ufffd\ufffd\u000b",
        "(P\ufffd\ufffd\"\u077f\ufffdZ\u04b7\ufffd\ufffd\ufffd?\ufffdn\ufffd\ufffdC\ufffd\u063f,\ufffdA>\ufffd}\ufffd?N\u007f\ufffd%\ufffd\ufffd\ufffd?\ufffd\ufffd\ufffd1\u0012:\ufffd?\ufffd\u000edP\ufffd\u0014\ufffd?\ufffd\u0132m\ufffd\ufffd\u8fd0*\ufffd\ufffd\u000f\ufffd\ufffd?jH=\ufffd\ufffd\ufffd\ufffd?]\u07fa\u001c",
        "[]X\ufffd\u07dc4s\u0010\ufffd\ufffd?\ufffd\ufffd[]\u001atD\ufffd?\ufffd\u00e5l\ufffd\ufffd?n\u0006\u001bn\ufffd\u0000\u0000\u0000\u0000\u0000\u0000\u0000\u0000\u0000\u0000\u0000\u0000\u0000\u0000\ufffd?\u0000\u0000\u0000\u0000\u0000\u0000\b@;e\ufffd^ }\ufffd?Cb\u0004\ufffd\u035b\ufffdt>\ufffd\ufffd}\ufffd\ufffd\u0013\u0006_\ufffd\ufffd\ufffd\u043f\ufffd\u001c",
        "E\ufffd\b\ufffd?\ufffdR\ufffd\ufffd\f",
        "H\ufffdYH\u0015\ufffd\u0542\ufffd?\ufffd\ufffd\u007fUq8\u03ff\ufffd\u0019\ufffd( #\ufffd?4M=Mz7\uefefG\u001b\ufffd\ufffd%\ufffd\ufffd0H3,\ufffd\ufffd?1v\u0010[}\ufffd\ufffd?\ufffd\ua977\ufffdb\ufffd?\uf700\ufffd\ufffd3\ufffd?\ufffdg?Xa\ufffd\ufffd4\ufffd\u0000\u045cY\ufffd?H\f",
        "z\ufffd\u0728\ufffd?\u000e3\ufffd\ufffd%\r",
        "\ufffd\ufffd)R-\ufffd\ufffd\b\ufffd?\u0000\u0000\u0000\u0000\u0000\u0000\u0000\u0000\u0000\u0000\u0000\u0000\u0000\u0000\ufffd?\u0000\u0000\u0000\u0000\u0000\u0000\u0010@\ufffdZ\ufffd\ufffd\ufffd\r",
        "\ufffd?\ufffd\ufffd\ufffdA]\ufffd\ubfe1[k\ufffd\ufffd$\ufffd\ufffd\ufffd[]\ufffd\ufffd*:\ufffd?)\ufffd\ufffd,\u0005\u0013\ufffd?rOo\ufffd\ufffd\u0011\ufffd\ufffdi\ufffd\ufffd\u0004\ufffd\u0001\uefc6f\ufffd\ufffd\ufffd\u0003\ufffd\u0010\ufffd\u0003\ufffd\ufffd6\ufffd\ufffd\ufffd\ufffd,\ufffdY\u0005\ufffd?\ufffd\ufffd\u001d",
        "_\ufffd\u057f\u0004\ufffdF1\ufffd\u001b\ufffd\\t\ufffd2\ufffd\u001c",
        "\ufffdWg0\ufffd\ufffdX\ufffd?\ufffd\ufffdh\u0230\ufffd\ufffd\u06f9{i)\ufffd\ufffd\ufffd\u000b",
        "#J\ufffd\ufffd?x\ufffdT\ufffdj\ufffd\ufffd\ufffd}\ufffd\ufffdd$\ufffd?\ufffdMp\ufffd\ufffd\ufffd\ufffd?\u0000\u0000\u0000\u0000\u0000\u0000\u0000\u0000\u0000\u0000\u0000\u0000\u0000\u0000\ufffd?\u0000\u0000\u0000\u0000\u0000\u0000\u0014@\ufffd\ufffdR\u03dc\u0001\ufffd\ufffd\ufffdt\ufffd\ufffd7\ufffd\ufffd?O\u000e\b\ufffd\ufffd\ufffd\ufffd?`e\ufffdJ\ufffd\u0014\ufffd|GH\ufffd5\ufffd\ufffd?\ufffd\u001e",
        "\ufffddF\r",
        "\ufffd?qeY\ufffd\ufffd]\ufffd?\ufffd\ufffd\ufffdH-\u001f\ufffd\ufffd\ufffd\u0016\ufffd\ufffd\ufffd\ufffdbR\ufffd\ufffdC\ufffd?Z\ufffdN7\ufffd~\ufffd?\ufffd\ufffd\u06364\ufffd\ufffd\ufffd\ufffd\ufffd\ufffd(\ufffd\u0002\ufffd\ufffd\ufffd\u0018\ufffdU\ufffd\ufffd?U\ufffdz\ufffd\u069d\ufffd?r\ufffd@\u0013\ufffd\ufffd\u077f\u0016\ufffd,\ufffd\u0734\u05ff\ufffd\ufffdE\u0001\u0013\ufffd\ufffd?\ufffd\ufffdj\ufffd\ufffd\ufffd\ufffd\u0012\ufffd^w\ufffd~\ufffd?\u0000\u0000\u0000\u0000\u0000\u0000\u0000\u0000\u0000\u0000\u0000\u0000\u0000\u0000\ufffd?\u0000\u0000\u0000\u0000\u0000\u0000\u0018@H\ufffdn3\ufffdH\ufffd?&\ufffd\ufffd`\ufffd6\uefed\u0645\ufffdhB\ufffd?_[\u001am,7\ufffd?,!\u001a\ufffd\ufffd\ufffd\ufffdV}\ufffdH!z\ufffd\ufffdE!\ufffdz\ufffd\ufffd\ufffd?E\r",
        "T\u0002\ufffd\u0001\ufffd\u0004\ufffd\u001f\u001d",
        "E[]\ufffd?`\ufffd\ufffdS\ufffd\ufffd?9@\ufffd\u0011\u001a'\ufffd?\ufffd!\ufffdD\ufffd]\ufffdA~v\ufffd7D\ufffd?-\u001d",
        "\u0006\ufffd\ufffd\ufffd?\u001a?[]lz\u0000\ufffd9\ufffd\ufffdN\ufffdy\u6fc5D\ufffd\ufffd{\u04bf\ufffd\ufffd\u02bcj\ufffd\ufffd?l\ufffdT$\ufffd\ufffd\ufffd?\ufffd/M-\ufffd\u0017\u063f\u0000\u0000\u0000\u0000\u0000\u0000\u0000\u0000\u0000\u0000\u0000\u0000\u0000\u0000\ufffd?\u0000\u0000\u0000\u0000\u0000\u0000\u001c",
        "@\ufffd'\u02b4ZP\u067f@\ufffd\ufffd\ufffdeu\ufffd?\ufffdm\ufffdW?\b\ufffd?\ufffdmZ\ufffd\ufffd\ufffd\u00bf\ufffd\ufffd(\ufffd\ufffd\u0084?\ufffd\u0654\ufffd\ufffd\ufffd\u047fVz\ufffdE\u0015\u001f\ufffd?fa\u024a^\ufffd\ufffd?S\ufffdNk\ufffdI\ufffd?\ufffdD\u0012\ufffdO\ufffd\ufffd?;n\ufffd8Hw\ufffd?n\ufffd\ufffd\ufffd*\ufffd\ufffd?(\ufffdO\u0005\ufffd\u0010\ufffd\u000f\u0007\ufffd\b\u000fk\u04ff%\u00ef\ufffd\ufffd\u0001\ufffd\ufffd<\ufffdJa\ufffdj\ufffd?\ufffd\ufffd\ufffd\ufffd9\ufffd\ufffd?H\ufffdr\ufffdl\u0014\u03bfw\ufffdA\u0016\ufffd\b\u057f\ufffdU\ufffd\ufffd&\ufffd\ufffd\u0000\u0000\u0000\u0000\u0000\u0000\u0000\u0000\u0000\u0000\u0000\u0000\u0000\u0000\ufffd?\u0000\u0000\u0000\u0000\u0000\u0000 @\ufffdHl\u0018\ufffd\ufffd\u7fd4\u00a0:a\u0004\ufffd?\ufffdd;sY+\ufffd?|\ufffd\u001a\u0011\u0011z\u073f\ufffd\ufffdl\ufffdL\ufffd\ufffd?\ufffd\ufffd\u0018\ufffd\ufffd\ufffd\ufffd\u0003\ufffdzB:.\ufffd?\ufffd\u000e1\ufffd\"\u001d",
        "\ufffd?G$n\ufffd~\u001a\u06ff\ufffd\ufffd\u0661\ufffd\u0000\ud8bc\udc4d]\ufffdR\ufffd\ufffd?\ufffd\u0013\ufffd\u0018\u001aI\ufffd\ufffd/\ufffd\ufffd\ufffd\r",
        "\ufffd\ufffd\ufffd%\ufffd\ufffdh6\ufffd^\ufffd\u0005q8\u0317\ufffd\ufffd\ufffd\f",
        "IX\ufffd\u2fe9\ufffd\u0012Eqd\ufffd\ufffd\ufffdY\u0004o\ufffd[]\ufffd?\ufffd?]\ufffdO\u0003\ufffd?#\ufffd\ufffd;\ufffd\u0002\ufffd?\u0000\u0000\u0000\u0000\u0000\u0000\u0000\u0000\u0000\u0000\u0000\u0000\u0000\u0000\ufffd?\u0000\u0000\u0000\u0000\u0000\u0000\"@\ufffd~R\r",
        "\u0016I\u057f\ufffd\ufffd\u001aV;\u000e\u0001\ufffdV`\ufffd\ufffdk\u0001\ufffd?\ufffd:xf-\ufffd\u7fd8+\ufffd\ufffdH\u001b\ufffd?\ufffd7T\ufffdtu\ufffd??\ufffd\u0016U\ufffd]\ufffd?\ufffd\ufffdQ@Z)\ufffd,\ufffd\ufffd\ufffd%\u3fdb\u0018\ufffd\u0004\ufffd\u0017\ufffd?\ufffd\u03e3\u0019\ufffd\ufffd\ufffd?\ufffd\ufffdUb\ufffd~\ufffd\ufffd\ufffd+\u000f;\u007f\ufffd\ufffd?\ufffd$\ufffdd\ufffd\u5dff@w\ufffd\u001fA\u0007\u073f\ufffd\u0010t\ufffd \u0015\u0001@{ \u0306\ufffd\ufffd\b\ufffdN,15~\ufffd\ufffd\ufffd\u0000u\ufffd\ufffdV&\u06ff\ufffd$41\u001a\ufffd\ufffd?\n",
        "============Restored==============\n",
        "[ 0.          0.          0.         -0.4810793  -0.96622419  0.71068403\n",
        " -0.70290032  0.00903618  2.06230981  1.05907386 -0.3156516  -0.63261163\n",
        " -0.1678246  -1.71185661  0.50365425  1.51758369  1.02881171 -1.35752122\n",
        " -0.35042412 -1.62309875 -1.33578129  0.23079524 -0.77564994]\n"
       ]
      }
     ],
     "prompt_number": 107
    },
    {
     "cell_type": "markdown",
     "metadata": {},
     "source": [
      "# Testing in Spark"
     ]
    },
    {
     "cell_type": "code",
     "collapsed": false,
     "input": [
      "parts = 50\n",
      "dims = (10, 10, 10, 20)\n",
      "ndata = np.prod(dims[:3])"
     ],
     "language": "python",
     "metadata": {},
     "outputs": [],
     "prompt_number": 239
    },
    {
     "cell_type": "markdown",
     "metadata": {},
     "source": [
      "## Generate the data"
     ]
    },
    {
     "cell_type": "code",
     "collapsed": false,
     "input": [
      "voxes = [gen_vox(ind, dims) for ind in xrange(ndata)]\n",
      "np.savetxt('temp.txt', voxes)\n",
      "t1 = time.clock()\n",
      "voxdata = sc.parallelize(voxes, parts)\n",
      "time_genData = time.clock() - t1\n",
      "time_genData"
     ],
     "language": "python",
     "metadata": {},
     "outputs": [
      {
       "metadata": {},
       "output_type": "pyout",
       "prompt_number": 365,
       "text": [
        "0.030000000000001137"
       ]
      }
     ],
     "prompt_number": 365
    },
    {
     "cell_type": "markdown",
     "metadata": {},
     "source": [
      "## Save using pickle"
     ]
    },
    {
     "cell_type": "code",
     "collapsed": false,
     "input": [
      "fname_pickle = 'vox.pickle'\n",
      "t1 = time.clock()\n",
      "voxdata.saveAsPickleFile(fname_pickle)\n",
      "time_pickle_saveData = time.clock() - t1\n",
      "time_pickle_saveData"
     ],
     "language": "python",
     "metadata": {},
     "outputs": [
      {
       "metadata": {},
       "output_type": "pyout",
       "prompt_number": 370,
       "text": [
        "0.02000000000000135"
       ]
      }
     ],
     "prompt_number": 370
    },
    {
     "cell_type": "markdown",
     "metadata": {},
     "source": [
      "#### Restore using pickle"
     ]
    },
    {
     "cell_type": "code",
     "collapsed": false,
     "input": [
      "t1 = time.clock()\n",
      "voxdata2 = sc.pickleFile(fname_pickle, 10)\n",
      "voxes2 = voxdata2.collect()\n",
      "time_pickle_loadData = time.clock() - t1\n",
      "print(time_pickle_loadData)\n",
      "voxes = np.loadtxt('temp.txt')\n",
      "npt.assert_almost_equal(voxes[0, :], np.array(voxes2[0]))"
     ],
     "language": "python",
     "metadata": {},
     "outputs": [
      {
       "output_type": "stream",
       "stream": "stdout",
       "text": [
        "0.01\n"
       ]
      }
     ],
     "prompt_number": 371
    },
    {
     "cell_type": "markdown",
     "metadata": {},
     "source": [
      "## Save using numpy"
     ]
    },
    {
     "cell_type": "code",
     "collapsed": false,
     "input": [
      "voxdata = sc.pickleFile(fname_pickle, 10)\n",
      "voxes = voxdata.collect()"
     ],
     "language": "python",
     "metadata": {},
     "outputs": [],
     "prompt_number": 372
    },
    {
     "cell_type": "code",
     "collapsed": false,
     "input": [
      "fname = 'vox_np.pickle'\n",
      "t1 = time.clock()\n",
      "voxdata.mapPartitions(part2str).saveAsPickleFile(fname)\n",
      "time_np_saveData = time.clock() - t1\n",
      "time_np_saveData"
     ],
     "language": "python",
     "metadata": {},
     "outputs": [
      {
       "metadata": {},
       "output_type": "pyout",
       "prompt_number": 373,
       "text": [
        "0.009999999999999787"
       ]
      }
     ],
     "prompt_number": 373
    },
    {
     "cell_type": "markdown",
     "metadata": {},
     "source": [
      "#### Restore using numpy"
     ]
    },
    {
     "cell_type": "code",
     "collapsed": false,
     "input": [
      "t1 = time.clock()\n",
      "npdata = sc.pickleFile(fname, 10).mapPartitions(str2part)\n",
      "voxes2 = npdata.collect()\n",
      "time_np_loadData = time.clock() - t1\n",
      "print(time_np_loadData)\n",
      "voxes = voxdata.collect()\n",
      "npt.assert_almost_equal(voxes[0], np.array(voxes2[0]))"
     ],
     "language": "python",
     "metadata": {},
     "outputs": [
      {
       "output_type": "stream",
       "stream": "stdout",
       "text": [
        "0.02\n"
       ]
      }
     ],
     "prompt_number": 374
    },
    {
     "cell_type": "markdown",
     "metadata": {},
     "source": [
      "## Save using custom format"
     ]
    },
    {
     "cell_type": "code",
     "collapsed": false,
     "input": [
      "voxdata = sc.pickleFile(fname_pickle, 10)\n",
      "voxes = voxdata.collect()"
     ],
     "language": "python",
     "metadata": {},
     "outputs": [],
     "prompt_number": 375
    },
    {
     "cell_type": "code",
     "collapsed": false,
     "input": [
      "fname = 'vox.cff'\n",
      "t1 = time.clock()\n",
      "voxdata.map(vox_to_str).saveAsTextFile(fname)\n",
      "time_cff_saveData = time.clock() - t1\n",
      "time_cff_saveData"
     ],
     "language": "python",
     "metadata": {},
     "outputs": [
      {
       "metadata": {},
       "output_type": "pyout",
       "prompt_number": 376,
       "text": [
        "0.009999999999999787"
       ]
      }
     ],
     "prompt_number": 376
    },
    {
     "cell_type": "markdown",
     "metadata": {},
     "source": [
      "#### Restore using custom format"
     ]
    },
    {
     "cell_type": "code",
     "collapsed": false,
     "input": [
      "t1 = time.clock()\n",
      "cffdata = sc.textFile(fname, 10, use_unicode = False).map(str_to_vox)\n",
      "voxes2 = cffdata.collect()\n",
      "time_cff_loadData = time.clock() - t1\n",
      "print(time_cff_loadData)"
     ],
     "language": "python",
     "metadata": {},
     "outputs": [
      {
       "output_type": "stream",
       "stream": "stdout",
       "text": [
        "0.01\n"
       ]
      }
     ],
     "prompt_number": 377
    },
    {
     "cell_type": "code",
     "collapsed": false,
     "input": [
      "zip(voxes[0], voxes2[0])"
     ],
     "language": "python",
     "metadata": {},
     "outputs": [
      {
       "metadata": {},
       "output_type": "pyout",
       "prompt_number": 378,
       "text": [
        "[(0.0, 0.0),\n",
        " (0.0, 0.0),\n",
        " (0.0, 0.0),\n",
        " (-0.23387433987607598, -0.23300000000000001),\n",
        " (-1.3503503537282728, -1.3500000000000001),\n",
        " (-0.31200726616203889, -0.312),\n",
        " (-0.20876043521017115, -0.20799999999999999),\n",
        " (-0.23777023020027255, -0.23699999999999999),\n",
        " (0.38510529040064301, 0.38500000000000001),\n",
        " (1.8933231895908154, 1.893),\n",
        " (-0.22630118553964529, -0.22600000000000001),\n",
        " (0.088669945523464314, 0.087999999999999995),\n",
        " (-1.4798834712534232, -1.4790000000000001),\n",
        " (0.03781891286937436, 0.036999999999999998),\n",
        " (-0.40319348538131583, -0.40300000000000002),\n",
        " (1.4971662181389058, 1.4970000000000001),\n",
        " (0.95882651247666928, 0.95799999999999996),\n",
        " (-1.9569840448027316, -1.956),\n",
        " (-0.21499802461001105, -0.214),\n",
        " (-1.4229853346384689, -1.4219999999999999),\n",
        " (-1.2511453385580935, -1.2509999999999999),\n",
        " (-1.1335101623357586, -1.133),\n",
        " (-1.521003923685164, -1.5209999999999999)]"
       ]
      }
     ],
     "prompt_number": 378
    },
    {
     "cell_type": "code",
     "collapsed": false,
     "input": [],
     "language": "python",
     "metadata": {},
     "outputs": []
    }
   ],
   "metadata": {}
  }
 ]
}