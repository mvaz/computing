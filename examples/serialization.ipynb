{
 "metadata": {
  "name": "",
  "signature": "sha256:a7d05745797498d31c2db54c30ddc4c7168086b0662f437c2f0f606efa5bea3d"
 },
 "nbformat": 3,
 "nbformat_minor": 0,
 "worksheets": [
  {
   "cells": [
    {
     "cell_type": "markdown",
     "metadata": {},
     "source": [
      "# Serialization and deserialization\n",
      "## Using numpy, pickle, and custom formats"
     ]
    },
    {
     "cell_type": "code",
     "collapsed": false,
     "input": [
      "import numpy as np\n",
      "import time\n",
      "import numpy.random as npr\n",
      "from StringIO import StringIO\n",
      "import math\n",
      "import numpy.testing as npt"
     ],
     "language": "python",
     "metadata": {},
     "outputs": [],
     "prompt_number": 1
    },
    {
     "cell_type": "code",
     "collapsed": false,
     "input": [
      "sc"
     ],
     "language": "python",
     "metadata": {},
     "outputs": [
      {
       "metadata": {},
       "output_type": "pyout",
       "prompt_number": 2,
       "text": [
        "<pyspark.context.SparkContext at 0x7fab5a679710>"
       ]
      }
     ],
     "prompt_number": 2
    },
    {
     "cell_type": "markdown",
     "metadata": {},
     "source": [
      "## Functions to generate synthetic data"
     ]
    },
    {
     "cell_type": "code",
     "collapsed": false,
     "input": [
      "# generates a random voxel given dimensions X,Y,Z x W\n",
      "\n",
      "def gen_vox(ind, dims):\n",
      "    dims0 = tuple(dims[:3])\n",
      "    coords = np.unravel_index(ind, dims0)\n",
      "    data = npr.randn(dims[3])\n",
      "    return np.array(np.hstack([coords, data]), dtype=float16)"
     ],
     "language": "python",
     "metadata": {},
     "outputs": [],
     "prompt_number": 3
    },
    {
     "cell_type": "markdown",
     "metadata": {},
     "source": [
      "## My own custom serialization functions"
     ]
    },
    {
     "cell_type": "code",
     "collapsed": false,
     "input": [
      "def int_to_str(z):\n",
      "    z = int(z)\n",
      "    if (z < 0):\n",
      "        return chr(124) + int_to_str(-z)\n",
      "    if (z < 90):\n",
      "        return chr(z+33)\n",
      "    else:\n",
      "        resid = int(z % 90)\n",
      "        z = int(z-resid)/90\n",
      "        return int_to_str(z)+chr(90+33)+chr(resid+33)\n",
      "    \n",
      "def ints_to_str(zs):\n",
      "    return ''.join(int_to_str(z) for z in zs)\n",
      "\n",
      "def floats_to_str(xs, precision):\n",
      "    zs = np.array(np.array(xs) * float(10**precision), dtype=int)\n",
      "    return int_to_str(precision) + '}' + ints_to_str(zs)\n",
      "\n",
      "def str_to_ints(st, maxlen = -1):\n",
      "    os = [ord(c[0])-33 for c in st]\n",
      "    assert(min(os) >= 0 and max(os) <= 91) \n",
      "    zs = []\n",
      "    counter = 0\n",
      "    if maxlen == -1:\n",
      "        maxlen = len(os)\n",
      "    while (counter < len(os)) and (len(zs) < maxlen):\n",
      "        if os[counter] == 90: # 'join' symbol\n",
      "            zs[-1] = zs[-1] * 90 + math.copysign(1, zs[-1]) * os[counter + 1]\n",
      "            counter = counter + 1\n",
      "        elif os[counter] == 91: # 'minus' symbol\n",
      "            zs.append(-os[counter+1])    \n",
      "            counter = counter + 1\n",
      "        else:\n",
      "            zs.append(os[counter])\n",
      "        counter = counter + 1\n",
      "    return [int(z) for z in zs]\n",
      "\n",
      "def str_to_floats(stt):\n",
      "    st = stt.split('}')\n",
      "    if len(st)==1:\n",
      "        return np.array(str_to_ints(st[-1]), dtype=float)\n",
      "    if len(st)==2:\n",
      "        precision = str_to_ints(st[0])[0]\n",
      "        return np.array(str_to_ints(st[-1]), dtype=float)/float(10**precision)\n",
      "    \n",
      "def vox_to_str(vox):\n",
      "    return ints_to_str(vox[:3]) + '~' + floats_to_str(vox[3:], 3)\n",
      "\n",
      "def str_to_vox(st):\n",
      "    return np.hstack([str_to_floats(st) for st in st.split('~')])"
     ],
     "language": "python",
     "metadata": {},
     "outputs": [],
     "prompt_number": 4
    },
    {
     "cell_type": "markdown",
     "metadata": {},
     "source": [
      "### Demonstration"
     ]
    },
    {
     "cell_type": "code",
     "collapsed": false,
     "input": [
      "dims = (10, 10, 10, 20)\n",
      "ndata = np.prod(dims[:3])\n",
      "# generate data\n",
      "voxes = np.array([gen_vox(ind, dims) for ind in xrange(ndata)])\n",
      "# write to file\n",
      "fi = '\\n'.join([vox_to_str(vox) for vox in voxes])\n",
      "si = StringIO(fi)\n",
      "# read file\n",
      "sts = si.getvalue().split('\\n')\n",
      "print('============Original==============')\n",
      "print(voxes[0])\n",
      "print('============Compressed==============')\n",
      "print(sts[0])\n",
      "print('============Restored==============')\n",
      "print(str_to_vox(sts[0]))"
     ],
     "language": "python",
     "metadata": {},
     "outputs": [
      {
       "output_type": "stream",
       "stream": "stdout",
       "text": [
        "============Original==============\n",
        "[ 0.          0.          0.          0.70605469  0.30029297 -0.72460938\n",
        "  0.22802734  1.95800781  0.71679688  1.26757812 -0.13439941  0.24487305\n",
        "  0.46044922  1.31054688  0.37280273 -0.85986328  0.26342773  0.97363281\n",
        "  0.60205078 -0.35717773 -1.82910156 -1.69238281 -0.63769531]\n",
        "============Compressed==============\n",
        "!!!~$}({m${?|){%#{Q6{e({x/{)|\"{M#{a&{+/{T%{-|*{S#{t+{j'{_|${x|5{>|3{i|({(\n",
        "============Restored==============\n",
        "[ 0.     0.     0.     0.706  0.3   -0.724  0.228  1.958  0.717  1.268\n",
        " -0.134  0.244  0.46   1.311  0.372 -0.86   0.263  0.973  0.602 -0.357\n",
        " -1.829 -1.692 -0.637]\n"
       ]
      }
     ],
     "prompt_number": 5
    },
    {
     "cell_type": "markdown",
     "metadata": {},
     "source": [
      "## Serialization functions based on numpy binary format"
     ]
    },
    {
     "cell_type": "code",
     "collapsed": false,
     "input": [
      "def np_to_str(a):\n",
      "    \"\"\"\n",
      "    Converts an np array to a binary string without newline\n",
      "    \"\"\"\n",
      "    a = np.array(a, dtype = float16)\n",
      "    si = StringIO()\n",
      "    np.save(si, a)\n",
      "    st =  si.getvalue()\n",
      "    return st\n",
      "\n",
      "def str_to_np(st): \n",
      "    \"\"\"\n",
      "    Converts a binary string to an np array\n",
      "    \"\"\"\n",
      "    return np.load(StringIO(st))\n",
      "\n",
      "def part_to_str(iterator):\n",
      "    arr = np.vstack(list(iterator))\n",
      "    st = np_to_str(arr)\n",
      "    return [st]\n",
      "\n",
      "def str_to_part(iterator):\n",
      "    sts = list(iterator)\n",
      "    return np.vstack([str_to_np(st) for st in sts])"
     ],
     "language": "python",
     "metadata": {},
     "outputs": [],
     "prompt_number": 20
    },
    {
     "cell_type": "markdown",
     "metadata": {},
     "source": [
      "### Demonstration"
     ]
    },
    {
     "cell_type": "code",
     "collapsed": false,
     "input": [
      "dims = (10, 10, 10, 20)\n",
      "ndata = np.prod(dims[:3])\n",
      "# generate data\n",
      "voxes = np.array([gen_vox(ind, dims) for ind in xrange(ndata)])\n",
      "st = np_to_str(voxes)\n",
      "voxes2 =str_to_np(st)\n",
      "\n",
      "print('============Original==============')\n",
      "print(voxes[0])\n",
      "print('============Compressed==============')\n",
      "print(st.split('\\n')[0])\n",
      "print('============Restored==============')\n",
      "print(voxes2[0])"
     ],
     "language": "python",
     "metadata": {},
     "outputs": [
      {
       "output_type": "stream",
       "stream": "stdout",
       "text": [
        "============Original==============\n",
        "[  0.00000000e+00   0.00000000e+00   0.00000000e+00   5.53222656e-01\n",
        "  -4.89990234e-01  -1.29980469e+00   8.72070312e-01   9.92675781e-01\n",
        "   1.33593750e+00  -4.10644531e-01  -1.15332031e+00   1.46606445e-01\n",
        "   7.04101562e-01   1.03710938e+00  -5.49804688e-01  -2.78320312e+00\n",
        "   1.38085938e+00   1.49316406e+00  -1.11572266e-01  -7.36236572e-04\n",
        "  -7.84179688e-01  -9.87792969e-01  -1.15136719e+00]\n",
        "============Compressed==============\n",
        "\ufffdNUMPY\u0001\u0000F\u0000{'descr': '<f2', 'fortran_order': False, 'shape': (1000, 23), }      \n",
        "============Restored==============\n",
        "[  0.00000000e+00   0.00000000e+00   0.00000000e+00   5.53222656e-01\n",
        "  -4.89990234e-01  -1.29980469e+00   8.72070312e-01   9.92675781e-01\n",
        "   1.33593750e+00  -4.10644531e-01  -1.15332031e+00   1.46606445e-01\n",
        "   7.04101562e-01   1.03710938e+00  -5.49804688e-01  -2.78320312e+00\n",
        "   1.38085938e+00   1.49316406e+00  -1.11572266e-01  -7.36236572e-04\n",
        "  -7.84179688e-01  -9.87792969e-01  -1.15136719e+00]\n"
       ]
      }
     ],
     "prompt_number": 9
    },
    {
     "cell_type": "markdown",
     "metadata": {},
     "source": [
      "# Testing in Spark"
     ]
    },
    {
     "cell_type": "code",
     "collapsed": false,
     "input": [
      "parts = 50\n",
      "dims = (10, 10, 10, 20)\n",
      "ndata = np.prod(dims[:3])"
     ],
     "language": "python",
     "metadata": {},
     "outputs": [],
     "prompt_number": 10
    },
    {
     "cell_type": "markdown",
     "metadata": {},
     "source": [
      "## Generate the data"
     ]
    },
    {
     "cell_type": "code",
     "collapsed": false,
     "input": [
      "voxes = [gen_vox(ind, dims) for ind in xrange(ndata)]\n",
      "np.savetxt('temp.txt', voxes)\n",
      "t1 = time.clock()\n",
      "voxdata = sc.parallelize(voxes, parts)\n",
      "time_genData = time.clock() - t1\n",
      "time_genData"
     ],
     "language": "python",
     "metadata": {},
     "outputs": [
      {
       "metadata": {},
       "output_type": "pyout",
       "prompt_number": 11,
       "text": [
        "0.030000000000000027"
       ]
      }
     ],
     "prompt_number": 11
    },
    {
     "cell_type": "markdown",
     "metadata": {},
     "source": [
      "## Save using pickle"
     ]
    },
    {
     "cell_type": "code",
     "collapsed": false,
     "input": [
      "fname_pickle = 'vox.pickle'\n",
      "t1 = time.clock()\n",
      "voxdata.saveAsPickleFile(fname_pickle)\n",
      "time_pickle_saveData = time.clock() - t1\n",
      "time_pickle_saveData"
     ],
     "language": "python",
     "metadata": {},
     "outputs": [
      {
       "metadata": {},
       "output_type": "pyout",
       "prompt_number": 29,
       "text": [
        "0.010000000000000009"
       ]
      }
     ],
     "prompt_number": 29
    },
    {
     "cell_type": "markdown",
     "metadata": {},
     "source": [
      "#### Restore using pickle"
     ]
    },
    {
     "cell_type": "code",
     "collapsed": false,
     "input": [
      "t1 = time.clock()\n",
      "voxdata2 = sc.pickleFile(fname_pickle, 10)\n",
      "voxes2 = voxdata2.collect()\n",
      "time_pickle_loadData = time.clock() - t1\n",
      "print(time_pickle_loadData)\n",
      "voxes = np.loadtxt('temp.txt')\n",
      "npt.assert_almost_equal(voxes[0, :], np.array(voxes2[0]))"
     ],
     "language": "python",
     "metadata": {},
     "outputs": [
      {
       "output_type": "stream",
       "stream": "stdout",
       "text": [
        "0.0\n"
       ]
      }
     ],
     "prompt_number": 30
    },
    {
     "cell_type": "markdown",
     "metadata": {},
     "source": [
      "## Save using numpy"
     ]
    },
    {
     "cell_type": "code",
     "collapsed": false,
     "input": [
      "voxdata = sc.pickleFile(fname_pickle, 10)\n",
      "voxes = voxdata.collect()"
     ],
     "language": "python",
     "metadata": {},
     "outputs": [],
     "prompt_number": 31
    },
    {
     "cell_type": "code",
     "collapsed": false,
     "input": [
      "fname = 'vox_np.pickle'\n",
      "t1 = time.clock()\n",
      "voxdata.mapPartitions(part_to_str).saveAsPickleFile(fname)\n",
      "time_np_saveData = time.clock() - t1\n",
      "time_np_saveData"
     ],
     "language": "python",
     "metadata": {},
     "outputs": [
      {
       "metadata": {},
       "output_type": "pyout",
       "prompt_number": 12,
       "text": [
        "0.010000000000000009"
       ]
      }
     ],
     "prompt_number": 12
    },
    {
     "cell_type": "markdown",
     "metadata": {},
     "source": [
      "#### Restore using numpy"
     ]
    },
    {
     "cell_type": "code",
     "collapsed": false,
     "input": [
      "npdata = sc.pickleFile(fname, 10).first()"
     ],
     "language": "python",
     "metadata": {},
     "outputs": [],
     "prompt_number": 15
    },
    {
     "cell_type": "code",
     "collapsed": false,
     "input": [
      "t1 = time.clock()\n",
      "npdata = sc.pickleFile(fname, 10).mapPartitions(str_to_part)\n",
      "voxes2 = npdata.collect()\n",
      "time_np_loadData = time.clock() - t1\n",
      "print(time_np_loadData)\n",
      "voxes = voxdata.collect()\n",
      "npt.assert_almost_equal(voxes[0], np.array(voxes2[0]), decimal = 3)"
     ],
     "language": "python",
     "metadata": {},
     "outputs": [
      {
       "output_type": "stream",
       "stream": "stdout",
       "text": [
        "0.02\n"
       ]
      }
     ],
     "prompt_number": 21
    },
    {
     "cell_type": "markdown",
     "metadata": {},
     "source": [
      "## Save using custom format"
     ]
    },
    {
     "cell_type": "code",
     "collapsed": false,
     "input": [
      "voxdata = sc.pickleFile(fname_pickle, 10)\n",
      "voxes = voxdata.collect()"
     ],
     "language": "python",
     "metadata": {},
     "outputs": [],
     "prompt_number": 34
    },
    {
     "cell_type": "code",
     "collapsed": false,
     "input": [
      "fname = 'vox.cff'\n",
      "t1 = time.clock()\n",
      "voxdata.map(vox_to_str).saveAsTextFile(fname)\n",
      "time_cff_saveData = time.clock() - t1\n",
      "time_cff_saveData"
     ],
     "language": "python",
     "metadata": {},
     "outputs": [
      {
       "metadata": {},
       "output_type": "pyout",
       "prompt_number": 35,
       "text": [
        "0.010000000000000009"
       ]
      }
     ],
     "prompt_number": 35
    },
    {
     "cell_type": "markdown",
     "metadata": {},
     "source": [
      "#### Restore using custom format"
     ]
    },
    {
     "cell_type": "code",
     "collapsed": false,
     "input": [
      "t1 = time.clock()\n",
      "cffdata = sc.textFile(fname, 10, use_unicode = False).map(str_to_vox)\n",
      "voxes2 = cffdata.collect()\n",
      "time_cff_loadData = time.clock() - t1\n",
      "print(time_cff_loadData)"
     ],
     "language": "python",
     "metadata": {},
     "outputs": [
      {
       "output_type": "stream",
       "stream": "stdout",
       "text": [
        "0.02\n"
       ]
      }
     ],
     "prompt_number": 36
    },
    {
     "cell_type": "code",
     "collapsed": false,
     "input": [
      "zip(voxes[0], voxes2[0])"
     ],
     "language": "python",
     "metadata": {},
     "outputs": [
      {
       "metadata": {},
       "output_type": "pyout",
       "prompt_number": 37,
       "text": [
        "[(0.0, 0.0),\n",
        " (0.0, 0.0),\n",
        " (0.0, 0.0),\n",
        " (-0.86865, -0.86799999999999999),\n",
        " (-1.2832, -1.2829999999999999),\n",
        " (0.82812, 0.82799999999999996),\n",
        " (1.1807, 1.181),\n",
        " (1.2012, 1.2010000000000001),\n",
        " (1.9814, 1.9810000000000001),\n",
        " (2.7383, 2.738),\n",
        " (0.30469, 0.30399999999999999),\n",
        " (-1.1016, -1.1020000000000001),\n",
        " (-0.39771, -0.39700000000000002),\n",
        " (0.15857, 0.158),\n",
        " (0.53711, 0.53700000000000003),\n",
        " (-0.60449, -0.60399999999999998),\n",
        " (0.30444, 0.30399999999999999),\n",
        " (-0.92969, -0.92900000000000005),\n",
        " (2.1074, 2.1080000000000001),\n",
        " (0.027893, 0.027),\n",
        " (-0.68896, -0.68899999999999995),\n",
        " (-0.75684, -0.75700000000000001),\n",
        " (1.6006, 1.601)]"
       ]
      }
     ],
     "prompt_number": 37
    },
    {
     "cell_type": "markdown",
     "metadata": {},
     "source": [
      "# Sanity check"
     ]
    },
    {
     "cell_type": "code",
     "collapsed": false,
     "input": [
      "np.loadtxt('temp.txt')[0, :]"
     ],
     "language": "python",
     "metadata": {},
     "outputs": [
      {
       "metadata": {},
       "output_type": "pyout",
       "prompt_number": 38,
       "text": [
        "array([ 0.        ,  0.        ,  0.        , -0.86865234, -1.28320312,\n",
        "        0.828125  ,  1.18066406,  1.20117188,  1.98144531,  2.73828125,\n",
        "        0.3046875 , -1.1015625 , -0.39770508,  0.15856934,  0.53710938,\n",
        "       -0.60449219,  0.30444336, -0.9296875 ,  2.10742188,  0.02789307,\n",
        "       -0.68896484, -0.75683594,  1.60058594])"
       ]
      }
     ],
     "prompt_number": 38
    },
    {
     "cell_type": "code",
     "collapsed": false,
     "input": [
      "voxes[0]"
     ],
     "language": "python",
     "metadata": {},
     "outputs": [
      {
       "metadata": {},
       "output_type": "pyout",
       "prompt_number": 39,
       "text": [
        "array([ 0.        ,  0.        ,  0.        , -0.86865234, -1.28320312,\n",
        "        0.828125  ,  1.18066406,  1.20117188,  1.98144531,  2.73828125,\n",
        "        0.3046875 , -1.1015625 , -0.39770508,  0.15856934,  0.53710938,\n",
        "       -0.60449219,  0.30444336, -0.9296875 ,  2.10742188,  0.02789307,\n",
        "       -0.68896484, -0.75683594,  1.60058594], dtype=float16)"
       ]
      }
     ],
     "prompt_number": 39
    },
    {
     "cell_type": "markdown",
     "metadata": {},
     "source": [
      "# Filesizes\n",
      "\n",
      "```\n",
      "-rwxrwxrwx 1 root root  74167 Feb 10 20:31 vox.cff\n",
      "-rwxrwxrwx 1 root root  58751 Feb 10 20:32 vox_np.pickle\n",
      "-rwxrwxrwx 1 root root 123600 Feb 10 20:31 vox.pickle\n",
      "```"
     ]
    }
   ],
   "metadata": {}
  }
 ]
}