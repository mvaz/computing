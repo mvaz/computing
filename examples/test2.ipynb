{
 "metadata": {
  "name": "",
  "signature": "sha256:0e941213c5f3008adbecaae6c9a3f41a40bcc651098bfd737523bb3eaccb4d3e"
 },
 "nbformat": 3,
 "nbformat_minor": 0,
 "worksheets": [
  {
   "cells": [
    {
     "cell_type": "code",
     "collapsed": false,
     "input": [
      "import os\n",
      "import subprocess\n",
      "import inspect\n",
      "from pyspark import SparkContext"
     ],
     "language": "python",
     "metadata": {},
     "outputs": [],
     "prompt_number": 1
    },
    {
     "cell_type": "code",
     "collapsed": false,
     "input": [
      "# Check that SparkPi still works\n",
      "\n",
      "from random import random\n",
      "from operator import add\n",
      "\n",
      "partitions = 2\n",
      "n = 100000 * partitions\n",
      "\n",
      "def f(_):\n",
      "    x = random() * 2 - 1\n",
      "    y = random() * 2 - 1\n",
      "    return 1 if x ** 2 + y ** 2 < 1 else 0\n",
      "\n",
      "count = sc.parallelize(xrange(1, n + 1), partitions).map(f).reduce(add)\n",
      "print \"Pi is roughly %f\" % (4.0 * count / n)"
     ],
     "language": "python",
     "metadata": {},
     "outputs": [
      {
       "output_type": "stream",
       "stream": "stdout",
       "text": [
        "Pi is roughly 3.131960\n"
       ]
      }
     ],
     "prompt_number": 2
    },
    {
     "cell_type": "heading",
     "level": 2,
     "metadata": {},
     "source": [
      "Basic test of scipy, cvxopt"
     ]
    },
    {
     "cell_type": "code",
     "collapsed": false,
     "input": [
      "import cvxopt as cvx\n",
      "import numpy as np\n",
      "import numpy.random as npr\n",
      "import scipy as sp\n",
      "import scipy.optimize as spo"
     ],
     "language": "python",
     "metadata": {},
     "outputs": [],
     "prompt_number": 3
    },
    {
     "cell_type": "markdown",
     "metadata": {},
     "source": [
      "Just testing parallelize"
     ]
    },
    {
     "cell_type": "code",
     "collapsed": false,
     "input": [
      "tuples = [(1,2), (3,4), (4,6)]"
     ],
     "language": "python",
     "metadata": {},
     "outputs": [],
     "prompt_number": 5
    },
    {
     "cell_type": "code",
     "collapsed": false,
     "input": [
      "def f(tup):\n",
      "    return (tup[0]*tup[1], 1)"
     ],
     "language": "python",
     "metadata": {},
     "outputs": [],
     "prompt_number": 12
    },
    {
     "cell_type": "code",
     "collapsed": false,
     "input": [
      "count = sc.parallelize(tuples, partitions).map(f).sortByKey(lambda x : x)"
     ],
     "language": "python",
     "metadata": {},
     "outputs": [],
     "prompt_number": 13
    },
    {
     "cell_type": "code",
     "collapsed": false,
     "input": [
      "count.collect()"
     ],
     "language": "python",
     "metadata": {},
     "outputs": [
      {
       "metadata": {},
       "output_type": "pyout",
       "prompt_number": 15,
       "text": [
        "[(2, 1), (12, 1), (24, 1)]"
       ]
      }
     ],
     "prompt_number": 15
    },
    {
     "cell_type": "markdown",
     "metadata": {},
     "source": [
      "Testing NNLS"
     ]
    },
    {
     "cell_type": "code",
     "collapsed": false,
     "input": [
      "?npr.binomial"
     ],
     "language": "python",
     "metadata": {},
     "outputs": [],
     "prompt_number": 130
    },
    {
     "cell_type": "code",
     "collapsed": false,
     "input": [
      "ncases = 10\n",
      "pp = 10 # dimensions for NNLS matrix\n",
      "nn = 5\n",
      "# cases are a tuple (key, A, b)\n",
      "cases = [(ii, np.absolute(npr.normal(0, 1, (nn,pp))), \\\n",
      "          np.absolute(npr.normal(0, 1, pp)) * npr.binomial(1, 0.1, pp)) for ii in range(ncases)]"
     ],
     "language": "python",
     "metadata": {},
     "outputs": [],
     "prompt_number": 131
    },
    {
     "cell_type": "code",
     "collapsed": false,
     "input": [
      "# try matrix multiply\n",
      "def mm(tup):\n",
      "    return (tup[0], np.dot(tup[1],tup[2]))"
     ],
     "language": "python",
     "metadata": {},
     "outputs": [],
     "prompt_number": 132
    },
    {
     "cell_type": "code",
     "collapsed": false,
     "input": [
      "partitions = 3\n",
      "products = sc.parallelize(cases, partitions).map(mm).sortByKey(lambda x : x)"
     ],
     "language": "python",
     "metadata": {},
     "outputs": [],
     "prompt_number": 133
    },
    {
     "cell_type": "code",
     "collapsed": false,
     "input": [
      "ys = products.collect()"
     ],
     "language": "python",
     "metadata": {},
     "outputs": [],
     "prompt_number": 134
    },
    {
     "cell_type": "code",
     "collapsed": false,
     "input": [
      "len(ys)"
     ],
     "language": "python",
     "metadata": {},
     "outputs": [
      {
       "metadata": {},
       "output_type": "pyout",
       "prompt_number": 135,
       "text": [
        "10"
       ]
      }
     ],
     "prompt_number": 135
    },
    {
     "cell_type": "code",
     "collapsed": false,
     "input": [
      "ys_compare = [mm(tup) for tup in cases]"
     ],
     "language": "python",
     "metadata": {},
     "outputs": [],
     "prompt_number": 136
    },
    {
     "cell_type": "code",
     "collapsed": false,
     "input": [
      "ys_compare[0]"
     ],
     "language": "python",
     "metadata": {},
     "outputs": [
      {
       "metadata": {},
       "output_type": "pyout",
       "prompt_number": 137,
       "text": [
        "(0, array([ 0.04841432,  0.17854732,  1.05415582,  0.05674069,  0.57248161]))"
       ]
      }
     ],
     "prompt_number": 137
    },
    {
     "cell_type": "code",
     "collapsed": false,
     "input": [
      "ys[0]"
     ],
     "language": "python",
     "metadata": {},
     "outputs": [
      {
       "metadata": {},
       "output_type": "pyout",
       "prompt_number": 138,
       "text": [
        "(0, array([ 0.04841432,  0.17854732,  1.05415582,  0.05674069,  0.57248161]))"
       ]
      }
     ],
     "prompt_number": 138
    },
    {
     "cell_type": "code",
     "collapsed": false,
     "input": [
      "newcases = [(ii, cases[ii][1], ys[ii][1]) for ii in range(ncases)]"
     ],
     "language": "python",
     "metadata": {},
     "outputs": [],
     "prompt_number": 139
    },
    {
     "cell_type": "code",
     "collapsed": false,
     "input": [
      "def par_nnls(tup):\n",
      "    return (tup[0], spo.nnls(tup[1], tup[2])[0])"
     ],
     "language": "python",
     "metadata": {},
     "outputs": [],
     "prompt_number": 140
    },
    {
     "cell_type": "code",
     "collapsed": false,
     "input": [
      "ans_compare = [par_nnls(tup) for tup in newcases]\n",
      "ans_compare[0]"
     ],
     "language": "python",
     "metadata": {},
     "outputs": [
      {
       "metadata": {},
       "output_type": "pyout",
       "prompt_number": 141,
       "text": [
        "(0, array([  0.00000000e+00,   0.00000000e+00,   0.00000000e+00,\n",
        "          2.27550437e-17,   0.00000000e+00,   0.00000000e+00,\n",
        "          0.00000000e+00,   1.07094026e+00,   0.00000000e+00,\n",
        "          0.00000000e+00]))"
       ]
      }
     ],
     "prompt_number": 141
    },
    {
     "cell_type": "code",
     "collapsed": false,
     "input": [
      "original_ans = [(ii, cases[ii][2]) for ii in range(ncases)]\n",
      "original_ans[0]"
     ],
     "language": "python",
     "metadata": {},
     "outputs": [
      {
       "metadata": {},
       "output_type": "pyout",
       "prompt_number": 142,
       "text": [
        "(0, array([ 0.        ,  0.        ,  0.        ,  0.        ,  0.        ,\n",
        "         0.        ,  0.        ,  1.07094026,  0.        ,  0.        ]))"
       ]
      }
     ],
     "prompt_number": 142
    },
    {
     "cell_type": "code",
     "collapsed": false,
     "input": [
      "ans_par = sc.parallelize(newcases, partitions).map(par_nnls).sortByKey(lambda x : x).collect()"
     ],
     "language": "python",
     "metadata": {},
     "outputs": [],
     "prompt_number": 143
    },
    {
     "cell_type": "code",
     "collapsed": false,
     "input": [
      "ans_par[0]"
     ],
     "language": "python",
     "metadata": {},
     "outputs": [
      {
       "metadata": {},
       "output_type": "pyout",
       "prompt_number": 144,
       "text": [
        "(0, array([  0.00000000e+00,   0.00000000e+00,   0.00000000e+00,\n",
        "          2.27550437e-17,   0.00000000e+00,   0.00000000e+00,\n",
        "          0.00000000e+00,   1.07094026e+00,   0.00000000e+00,\n",
        "          0.00000000e+00]))"
       ]
      }
     ],
     "prompt_number": 144
    },
    {
     "cell_type": "code",
     "collapsed": false,
     "input": [],
     "language": "python",
     "metadata": {},
     "outputs": []
    }
   ],
   "metadata": {}
  }
 ]
}