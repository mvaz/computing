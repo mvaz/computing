{
 "metadata": {
  "name": "",
  "signature": "sha256:ca7c2e94627b23f7cb0edc21a9d91c10c6b703a23d0615e5944ad03cb6a55a50"
 },
 "nbformat": 3,
 "nbformat_minor": 0,
 "worksheets": [
  {
   "cells": [
    {
     "cell_type": "code",
     "collapsed": false,
     "input": [
      "import os\n",
      "import subprocess\n",
      "import inspect\n",
      "from pyspark import SparkContext"
     ],
     "language": "python",
     "metadata": {},
     "outputs": [],
     "prompt_number": 1
    },
    {
     "cell_type": "code",
     "collapsed": false,
     "input": [
      "# Check that SparkPi still works\n",
      "\n",
      "from random import random\n",
      "from operator import add\n",
      "\n",
      "partitions = 2\n",
      "n = 100000 * partitions\n",
      "\n",
      "def f(_):\n",
      "    x = random() * 2 - 1\n",
      "    y = random() * 2 - 1\n",
      "    return 1 if x ** 2 + y ** 2 < 1 else 0\n",
      "\n",
      "count = sc.parallelize(xrange(1, n + 1), partitions).map(f).reduce(add)\n",
      "print \"Pi is roughly %f\" % (4.0 * count / n)"
     ],
     "language": "python",
     "metadata": {},
     "outputs": []
    },
    {
     "cell_type": "code",
     "collapsed": false,
     "input": [
      "# configure environmental variables\n",
      "os.getenv('HDFS_URL'), os.getenv('JAVA_HOME')"
     ],
     "language": "python",
     "metadata": {},
     "outputs": []
    },
    {
     "cell_type": "code",
     "collapsed": false,
     "input": [],
     "language": "python",
     "metadata": {},
     "outputs": []
    },
    {
     "cell_type": "code",
     "collapsed": false,
     "input": [],
     "language": "python",
     "metadata": {},
     "outputs": []
    },
    {
     "cell_type": "code",
     "collapsed": false,
     "input": [],
     "language": "python",
     "metadata": {},
     "outputs": []
    },
    {
     "cell_type": "heading",
     "level": 2,
     "metadata": {},
     "source": [
      "Basic test of scipy, cvxopt"
     ]
    },
    {
     "cell_type": "code",
     "collapsed": false,
     "input": [
      "import cvxopt as cvx\n",
      "import numpy as np\n",
      "import numpy.random as npr\n",
      "import scipy as sp\n",
      "import scipy.optimize as spo\n",
      "import sys"
     ],
     "language": "python",
     "metadata": {},
     "outputs": [],
     "prompt_number": 19
    },
    {
     "cell_type": "heading",
     "level": 3,
     "metadata": {},
     "source": [
      "Just testing parallelize"
     ]
    },
    {
     "cell_type": "code",
     "collapsed": false,
     "input": [
      "tuples = [(1,2), (3,4), (4,6)]"
     ],
     "language": "python",
     "metadata": {},
     "outputs": []
    },
    {
     "cell_type": "code",
     "collapsed": false,
     "input": [
      "def f(tup):\n",
      "    return (tup[0]*tup[1], 1)"
     ],
     "language": "python",
     "metadata": {},
     "outputs": []
    },
    {
     "cell_type": "code",
     "collapsed": false,
     "input": [
      "count = sc.parallelize(tuples, partitions).map(f).sortByKey(lambda x : x)"
     ],
     "language": "python",
     "metadata": {},
     "outputs": []
    },
    {
     "cell_type": "code",
     "collapsed": false,
     "input": [
      "count.collect()"
     ],
     "language": "python",
     "metadata": {},
     "outputs": []
    },
    {
     "cell_type": "heading",
     "level": 3,
     "metadata": {},
     "source": [
      "Testing NNLS"
     ]
    },
    {
     "cell_type": "code",
     "collapsed": false,
     "input": [
      "ncases = 10\n",
      "pp = 10 # dimensions for NNLS matrix\n",
      "nn = 5\n",
      "# cases are a tuple (key, A, b)\n",
      "cases = [(ii, np.absolute(npr.normal(0, 1, (nn,pp))), \\\n",
      "          np.absolute(npr.normal(0, 1, pp)) * npr.binomial(1, 0.1, pp)) for ii in range(ncases)]"
     ],
     "language": "python",
     "metadata": {},
     "outputs": []
    },
    {
     "cell_type": "code",
     "collapsed": false,
     "input": [
      "# try matrix multiply\n",
      "def mm(tup):\n",
      "    return (tup[0], np.dot(tup[1],tup[2]))"
     ],
     "language": "python",
     "metadata": {},
     "outputs": []
    },
    {
     "cell_type": "code",
     "collapsed": false,
     "input": [
      "partitions = 3\n",
      "products = sc.parallelize(cases, partitions).map(mm).sortByKey(lambda x : x)"
     ],
     "language": "python",
     "metadata": {},
     "outputs": []
    },
    {
     "cell_type": "code",
     "collapsed": false,
     "input": [
      "ys = products.collect()"
     ],
     "language": "python",
     "metadata": {},
     "outputs": []
    },
    {
     "cell_type": "code",
     "collapsed": false,
     "input": [
      "len(ys)"
     ],
     "language": "python",
     "metadata": {},
     "outputs": []
    },
    {
     "cell_type": "code",
     "collapsed": false,
     "input": [
      "ys_compare = [mm(tup) for tup in cases]"
     ],
     "language": "python",
     "metadata": {},
     "outputs": []
    },
    {
     "cell_type": "code",
     "collapsed": false,
     "input": [
      "ys_compare[0]"
     ],
     "language": "python",
     "metadata": {},
     "outputs": []
    },
    {
     "cell_type": "code",
     "collapsed": false,
     "input": [
      "ys[0]"
     ],
     "language": "python",
     "metadata": {},
     "outputs": []
    },
    {
     "cell_type": "code",
     "collapsed": false,
     "input": [
      "newcases = [(ii, cases[ii][1], ys[ii][1]) for ii in range(ncases)]"
     ],
     "language": "python",
     "metadata": {},
     "outputs": []
    },
    {
     "cell_type": "code",
     "collapsed": false,
     "input": [
      "def par_nnls(tup):\n",
      "    return (tup[0], spo.nnls(tup[1], tup[2])[0])"
     ],
     "language": "python",
     "metadata": {},
     "outputs": []
    },
    {
     "cell_type": "code",
     "collapsed": false,
     "input": [
      "ans_compare = [par_nnls(tup) for tup in newcases]\n",
      "ans_compare[0]"
     ],
     "language": "python",
     "metadata": {},
     "outputs": []
    },
    {
     "cell_type": "code",
     "collapsed": false,
     "input": [
      "original_ans = [(ii, cases[ii][2]) for ii in range(ncases)]\n",
      "original_ans[0]"
     ],
     "language": "python",
     "metadata": {},
     "outputs": []
    },
    {
     "cell_type": "code",
     "collapsed": false,
     "input": [
      "ans_par = sc.parallelize(newcases, partitions).map(par_nnls).sortByKey(lambda x : x).collect()"
     ],
     "language": "python",
     "metadata": {},
     "outputs": []
    },
    {
     "cell_type": "code",
     "collapsed": false,
     "input": [
      "ans_par[0]"
     ],
     "language": "python",
     "metadata": {},
     "outputs": []
    },
    {
     "cell_type": "heading",
     "level": 3,
     "metadata": {},
     "source": [
      "Testing CVXopt"
     ]
    },
    {
     "cell_type": "code",
     "collapsed": false,
     "input": [
      "from __future__ import print_function\n",
      "# generate random feasible linear constraints\n",
      "n_g = 30 # number of inqeuality constraints\n",
      "pp = 10\n",
      "eps_g = 0.1\n",
      "gmat = npr.normal(0, 1, (n_g, pp))\n",
      "xg = npr.normal(0, 1, pp)\n",
      "hvec = np.squeeze(np.dot(gmat, xg)) + eps_g"
     ],
     "language": "python",
     "metadata": {},
     "outputs": [],
     "prompt_number": 16
    },
    {
     "cell_type": "code",
     "collapsed": false,
     "input": [
      "G = cvx.matrix(gmat)\n",
      "h = cvx.matrix(hvec)"
     ],
     "language": "python",
     "metadata": {},
     "outputs": [],
     "prompt_number": 17
    },
    {
     "cell_type": "code",
     "collapsed": false,
     "input": [
      "cvec = npr.normal(0, 1, pp)\n",
      "c = cvx.matrix(cvec)"
     ],
     "language": "python",
     "metadata": {},
     "outputs": []
    },
    {
     "cell_type": "code",
     "collapsed": false,
     "input": [
      "sol = cvx.solvers.lp(c, G, h)"
     ],
     "language": "python",
     "metadata": {},
     "outputs": []
    },
    {
     "cell_type": "code",
     "collapsed": false,
     "input": [
      "sol"
     ],
     "language": "python",
     "metadata": {},
     "outputs": []
    },
    {
     "cell_type": "code",
     "collapsed": false,
     "input": [
      "xsol = np.array(sol['x'])"
     ],
     "language": "python",
     "metadata": {},
     "outputs": []
    },
    {
     "cell_type": "code",
     "collapsed": false,
     "input": [
      "np.dot(c.T, xg)"
     ],
     "language": "python",
     "metadata": {},
     "outputs": []
    },
    {
     "cell_type": "code",
     "collapsed": false,
     "input": [
      "np.squeeze(np.dot(gmat, xsol)) - hvec"
     ],
     "language": "python",
     "metadata": {},
     "outputs": []
    },
    {
     "cell_type": "code",
     "collapsed": false,
     "input": [
      "ncases = 100\n",
      "cases = [(ii, cvx.matrix(npr.random(pp))) for ii in range(ncases)]"
     ],
     "language": "python",
     "metadata": {},
     "outputs": [],
     "prompt_number": 29
    },
    {
     "cell_type": "code",
     "collapsed": false,
     "input": [
      "def par_lp(tup, G, h):\n",
      "    cvx.solvers.options['show_progress'] = False\n",
      "    ii = tup[0]\n",
      "    c = tup[1]\n",
      "    ans = np.array(cvx.solvers.lp(c, G, h)['x'])\n",
      "    print(\"A\")\n",
      "    return ((ii, ans))"
     ],
     "language": "python",
     "metadata": {},
     "outputs": [],
     "prompt_number": 24
    },
    {
     "cell_type": "code",
     "collapsed": false,
     "input": [
      "cvx.solvers.options['show_progress'] = False"
     ],
     "language": "python",
     "metadata": {},
     "outputs": [],
     "prompt_number": 25
    },
    {
     "cell_type": "code",
     "collapsed": false,
     "input": [
      "ans_compare = [par_lp(tup, G, h) for tup in cases]\n",
      "ans_compare[0]"
     ],
     "language": "python",
     "metadata": {},
     "outputs": []
    },
    {
     "cell_type": "code",
     "collapsed": false,
     "input": [
      "partitions = 50\n",
      "ans_par = sc.parallelize(cases, partitions).map(lambda x : par_lp(x, G, h)).sortByKey(lambda x : x).collect()"
     ],
     "language": "python",
     "metadata": {},
     "outputs": [],
     "prompt_number": 28
    },
    {
     "cell_type": "code",
     "collapsed": false,
     "input": [
      "ans_par[0]"
     ],
     "language": "python",
     "metadata": {},
     "outputs": [
      {
       "metadata": {},
       "output_type": "pyout",
       "prompt_number": 15,
       "text": [
        "(0, array([[-0.65614609],\n",
        "        [-0.34737491],\n",
        "        [-0.85257795],\n",
        "        [ 0.00194761],\n",
        "        [-1.02007214],\n",
        "        [ 1.03694992],\n",
        "        [ 0.58396528],\n",
        "        [-1.36847961],\n",
        "        [ 0.85966061],\n",
        "        [ 0.70380059]]))"
       ]
      }
     ],
     "prompt_number": 15
    },
    {
     "cell_type": "heading",
     "level": 2,
     "metadata": {},
     "source": [
      "A really long task"
     ]
    },
    {
     "cell_type": "code",
     "collapsed": false,
     "input": [
      "def modexp ( g, u, p ):\n",
      "   \"\"\"computes s = (g ^ u) mod p\n",
      "      args are base, exponent, modulus\n",
      "      (see Bruce Schneier's book, _Applied Cryptography_ p. 244)\"\"\"\n",
      "   s = 1\n",
      "   while u != 0:\n",
      "      if u & 1:\n",
      "         s = (s * g)%p\n",
      "      u >>= 1\n",
      "      g = (g * g)%p;\n",
      "   return s"
     ],
     "language": "python",
     "metadata": {},
     "outputs": [],
     "prompt_number": 30
    },
    {
     "cell_type": "code",
     "collapsed": false,
     "input": [
      "nseq = 1000\n",
      "seq = range(nseq)\n",
      "seq[0] = 1\n",
      "for ii in range(1, nseq):\n",
      "    seq[ii] = (7459 * seq[ii-1]) % 6367"
     ],
     "language": "python",
     "metadata": {},
     "outputs": [],
     "prompt_number": 31
    },
    {
     "cell_type": "code",
     "collapsed": false,
     "input": [
      "def par_lp2(tup, G, h):\n",
      "    cvx.solvers.options['show_progress'] = False\n",
      "    ii = tup[0]\n",
      "    c0 = np.array(tup[1])\n",
      "    sumans = np.array(len(c0))\n",
      "    pp = len(c0)\n",
      "    for jj in range(int(5e3)):\n",
      "        inds = [modexp(7459, kk, 6367) % 10 for kk in range(jj*pp, (jj+1)*pp)]\n",
      "        c = cvx.matrix(c0[inds])\n",
      "        ans = np.array(cvx.solvers.lp(c, G, h)['x'])\n",
      "        sumans = sumans + ans\n",
      "    print('I')\n",
      "    return ((ii, sumans))"
     ],
     "language": "python",
     "metadata": {},
     "outputs": [],
     "prompt_number": 32
    },
    {
     "cell_type": "code",
     "collapsed": false,
     "input": [
      "%timeit par_lp2(cases[0], G, h)"
     ],
     "language": "python",
     "metadata": {},
     "outputs": [
      {
       "output_type": "stream",
       "stream": "stdout",
       "text": [
        "I\n",
        "I"
       ]
      },
      {
       "output_type": "stream",
       "stream": "stdout",
       "text": [
        "\n",
        "I"
       ]
      },
      {
       "output_type": "stream",
       "stream": "stdout",
       "text": [
        "\n",
        "I"
       ]
      },
      {
       "output_type": "stream",
       "stream": "stdout",
       "text": [
        "\n",
        "1 loops, best of 3: 9.29 s per loop\n"
       ]
      }
     ],
     "prompt_number": 33
    },
    {
     "cell_type": "code",
     "collapsed": false,
     "input": [
      "a1 = sc.parallelize(cases, partitions)"
     ],
     "language": "python",
     "metadata": {},
     "outputs": [],
     "prompt_number": 34
    },
    {
     "cell_type": "code",
     "collapsed": false,
     "input": [
      "a2 = a1.map(lambda x : par_lp2(x, G, h))"
     ],
     "language": "python",
     "metadata": {},
     "outputs": [],
     "prompt_number": 35
    },
    {
     "cell_type": "code",
     "collapsed": false,
     "input": [
      "ans_par = a2.collect()"
     ],
     "language": "python",
     "metadata": {},
     "outputs": [],
     "prompt_number": 37
    },
    {
     "cell_type": "code",
     "collapsed": false,
     "input": [
      "ans_par[0]"
     ],
     "language": "python",
     "metadata": {},
     "outputs": [
      {
       "metadata": {},
       "output_type": "pyout",
       "prompt_number": 38,
       "text": [
        "(0, array([[ -425.62612051],\n",
        "        [  -95.21249578],\n",
        "        [ 2772.74875977],\n",
        "        [  946.44650383],\n",
        "        [ 3634.59552054],\n",
        "        [ -114.21072878],\n",
        "        [ -431.85697013],\n",
        "        [-2089.23471811],\n",
        "        [ 1523.78378855],\n",
        "        [-3688.07539706]]))"
       ]
      }
     ],
     "prompt_number": 38
    },
    {
     "cell_type": "heading",
     "level": 2,
     "metadata": {},
     "source": [
      "Task with large parameters"
     ]
    },
    {
     "cell_type": "code",
     "collapsed": false,
     "input": [
      "npar = 1e6\n",
      "w = npr.normal(0, 1, npar)\n",
      "h = np.absolute(npr.normal(0, 1, npar))"
     ],
     "language": "python",
     "metadata": {},
     "outputs": [],
     "prompt_number": 64
    },
    {
     "cell_type": "code",
     "collapsed": false,
     "input": [
      "ncases = 200\n",
      "cases = np.absolute(npr.normal(0, 1, ncases))"
     ],
     "language": "python",
     "metadata": {},
     "outputs": [],
     "prompt_number": 74
    },
    {
     "cell_type": "code",
     "collapsed": false,
     "input": [
      "def f(case, w, h):\n",
      "    return sum(np.exp(-h*case) * w)"
     ],
     "language": "python",
     "metadata": {},
     "outputs": [],
     "prompt_number": 75
    },
    {
     "cell_type": "code",
     "collapsed": false,
     "input": [
      "%timeit [f(case, w, h) for case in cases]"
     ],
     "language": "python",
     "metadata": {},
     "outputs": [
      {
       "output_type": "stream",
       "stream": "stdout",
       "text": [
        "1 loops, best of 3: 5.2 s per loop\n"
       ]
      }
     ],
     "prompt_number": 76
    },
    {
     "cell_type": "code",
     "collapsed": false,
     "input": [
      "ans = sc.parallelize(cases).map(lambda x : f(x, w, h)).collect()"
     ],
     "language": "python",
     "metadata": {},
     "outputs": [],
     "prompt_number": 77
    },
    {
     "cell_type": "heading",
     "level": 2,
     "metadata": {},
     "source": [
      "Tes of pyemd"
     ]
    },
    {
     "cell_type": "code",
     "collapsed": false,
     "input": [
      "from pyemd import emd"
     ],
     "language": "python",
     "metadata": {},
     "outputs": []
    },
    {
     "cell_type": "code",
     "collapsed": false,
     "input": [
      "def norms(x) :\n",
      "    \"\"\" computes the norms of the rows of x \"\"\"\n",
      "    nms = np.sum(np.abs(x)**2,axis=-1)**(1./2)\n",
      "    return nms\n",
      "\n",
      "def normalize_rows(x):\n",
      "    \"\"\" normalizes the rows of x \"\"\"\n",
      "    n = np.shape(x)[0]\n",
      "    p = np.shape(x)[1]\n",
      "    nms = norms(x).reshape(-1,1)\n",
      "    x = np.multiply(x, 1./np.tile(nms,(1,p)))\n",
      "    return x\n",
      "\n",
      "def arcdist(xx,yy):\n",
      "    \"\"\" Computes pairwise arc-distance matrix\"\"\"\n",
      "    dm = np.absolute(np.dot(xx,yy.T))\n",
      "    dm[dm > .99999999999999999] = .99999999999999999\n",
      "    dd = np.arccos(dm)\n",
      "    return dd\n",
      "\n",
      "def divsum(x):\n",
      "    return x/sum(x)\n"
     ],
     "language": "python",
     "metadata": {},
     "outputs": []
    },
    {
     "cell_type": "code",
     "collapsed": false,
     "input": [
      "k1 = 5\n",
      "pp = 3\n",
      "x1 = normalize_rows(npr.normal(0, 1, (k1, pp)))\n",
      "w1 = divsum(npr.exponential(1, k1))\n",
      "w2 = divsum(npr.exponential(1, k1))\n",
      "dm = arcdist(x1, x1)"
     ],
     "language": "python",
     "metadata": {},
     "outputs": []
    },
    {
     "cell_type": "code",
     "collapsed": false,
     "input": [
      "emd(w1, w2, dm)"
     ],
     "language": "python",
     "metadata": {},
     "outputs": []
    },
    {
     "cell_type": "code",
     "collapsed": false,
     "input": [
      "tups = [(ii, divsum(npr.exponential(1, k1)), divsum(npr.exponential(1, k1)), dm) for ii in range(10)]"
     ],
     "language": "python",
     "metadata": {},
     "outputs": []
    },
    {
     "cell_type": "code",
     "collapsed": false,
     "input": [
      "def comp_emd(tup):\n",
      "    return (tup[0], emd(tup[1], tup[2], tup[3]))"
     ],
     "language": "python",
     "metadata": {},
     "outputs": []
    },
    {
     "cell_type": "code",
     "collapsed": false,
     "input": [
      "emds = sc.parallelize(tups, 9).map(comp_emd).collect()"
     ],
     "language": "python",
     "metadata": {},
     "outputs": []
    },
    {
     "cell_type": "code",
     "collapsed": false,
     "input": [
      "emds"
     ],
     "language": "python",
     "metadata": {},
     "outputs": []
    },
    {
     "cell_type": "code",
     "collapsed": false,
     "input": [],
     "language": "python",
     "metadata": {},
     "outputs": []
    },
    {
     "cell_type": "heading",
     "level": 2,
     "metadata": {},
     "source": [
      "Hadoop read and write"
     ]
    },
    {
     "cell_type": "markdown",
     "metadata": {},
     "source": [
      "Note: requires data files"
     ]
    },
    {
     "cell_type": "code",
     "collapsed": false,
     "input": [
      "def v2str(v):\n",
      "    return ', '.join([\"%g\" % round(num, 3) for num in v])"
     ],
     "language": "python",
     "metadata": {},
     "outputs": [],
     "prompt_number": 90
    },
    {
     "cell_type": "code",
     "collapsed": false,
     "input": [
      "datfile = \"dat11.txt\""
     ],
     "language": "python",
     "metadata": {},
     "outputs": [],
     "prompt_number": 39
    },
    {
     "cell_type": "code",
     "collapsed": false,
     "input": [
      "rawrdd = sc.textFile(datfile, 1)"
     ],
     "language": "python",
     "metadata": {},
     "outputs": [],
     "prompt_number": 40
    },
    {
     "cell_type": "code",
     "collapsed": false,
     "input": [
      "def readPoint(stt):\n",
      "    ans = np.fromstring(stt.replace(',', ' '), dtype = np.float32, sep=' ')\n",
      "    return ans"
     ],
     "language": "python",
     "metadata": {},
     "outputs": [],
     "prompt_number": 79
    },
    {
     "cell_type": "code",
     "collapsed": false,
     "input": [
      "vecrdd = rawrdd.map(readPoint)"
     ],
     "language": "python",
     "metadata": {},
     "outputs": [],
     "prompt_number": 80
    },
    {
     "cell_type": "code",
     "collapsed": false,
     "input": [
      "def fconv(v):\n",
      "    v[1] = v[2] + v[1]\n",
      "    return v2str(v)"
     ],
     "language": "python",
     "metadata": {},
     "outputs": [],
     "prompt_number": 98
    },
    {
     "cell_type": "code",
     "collapsed": false,
     "input": [
      "newtxt_rdd = vecrdd.map(fconv)"
     ],
     "language": "python",
     "metadata": {},
     "outputs": [],
     "prompt_number": 99
    },
    {
     "cell_type": "code",
     "collapsed": false,
     "input": [
      "newtxt_rdd.saveAsTextFile(\"out.txt\")"
     ],
     "language": "python",
     "metadata": {},
     "outputs": [],
     "prompt_number": 100
    },
    {
     "cell_type": "heading",
     "level": 2,
     "metadata": {},
     "source": [
      "Mapreduce for smoothing"
     ]
    },
    {
     "cell_type": "code",
     "collapsed": false,
     "input": [
      "nseq = 1000\n",
      "rawvals = npr.normal(0, 1, nseq)"
     ],
     "language": "python",
     "metadata": {},
     "outputs": [],
     "prompt_number": 108
    },
    {
     "cell_type": "code",
     "collapsed": false,
     "input": [
      "raw2 = np.hstack([rawvals, rawvals])\n",
      "hband = 200\n",
      "smoothed1 = np.array([np.mean(raw2[range(ii, ii+hband)]) for ii in range(nseq)])"
     ],
     "language": "python",
     "metadata": {},
     "outputs": [],
     "prompt_number": 109
    },
    {
     "cell_type": "code",
     "collapsed": false,
     "input": [
      "plt.scatter(np.arange(0, nseq, 1), smoothed1)\n",
      "plt.show()"
     ],
     "language": "python",
     "metadata": {},
     "outputs": [
      {
       "metadata": {},
       "output_type": "display_data",
       "png": "[encoded data removed]",
       "text": [
        "<matplotlib.figure.Figure at 0x7fd22bac3410>"
       ]
      }
     ],
     "prompt_number": 110
    },
    {
     "cell_type": "code",
     "collapsed": false,
     "input": [],
     "language": "python",
     "metadata": {},
     "outputs": []
    },
    {
     "cell_type": "code",
     "collapsed": false,
     "input": [],
     "language": "python",
     "metadata": {},
     "outputs": []
    },
    {
     "cell_type": "code",
     "collapsed": false,
     "input": [],
     "language": "python",
     "metadata": {},
     "outputs": []
    },
    {
     "cell_type": "code",
     "collapsed": false,
     "input": [],
     "language": "python",
     "metadata": {},
     "outputs": []
    },
    {
     "cell_type": "code",
     "collapsed": false,
     "input": [],
     "language": "python",
     "metadata": {},
     "outputs": []
    },
    {
     "cell_type": "code",
     "collapsed": false,
     "input": [],
     "language": "python",
     "metadata": {},
     "outputs": []
    },
    {
     "cell_type": "code",
     "collapsed": false,
     "input": [],
     "language": "python",
     "metadata": {},
     "outputs": []
    },
    {
     "cell_type": "code",
     "collapsed": false,
     "input": [],
     "language": "python",
     "metadata": {},
     "outputs": []
    },
    {
     "cell_type": "code",
     "collapsed": false,
     "input": [],
     "language": "python",
     "metadata": {},
     "outputs": []
    },
    {
     "cell_type": "code",
     "collapsed": false,
     "input": [],
     "language": "python",
     "metadata": {},
     "outputs": []
    },
    {
     "cell_type": "code",
     "collapsed": false,
     "input": [],
     "language": "python",
     "metadata": {},
     "outputs": []
    },
    {
     "cell_type": "code",
     "collapsed": false,
     "input": [],
     "language": "python",
     "metadata": {},
     "outputs": []
    },
    {
     "cell_type": "code",
     "collapsed": false,
     "input": [],
     "language": "python",
     "metadata": {},
     "outputs": []
    },
    {
     "cell_type": "code",
     "collapsed": false,
     "input": [],
     "language": "python",
     "metadata": {},
     "outputs": []
    },
    {
     "cell_type": "code",
     "collapsed": false,
     "input": [],
     "language": "python",
     "metadata": {},
     "outputs": []
    },
    {
     "cell_type": "code",
     "collapsed": false,
     "input": [],
     "language": "python",
     "metadata": {},
     "outputs": []
    },
    {
     "cell_type": "code",
     "collapsed": false,
     "input": [],
     "language": "python",
     "metadata": {},
     "outputs": []
    },
    {
     "cell_type": "code",
     "collapsed": false,
     "input": [],
     "language": "python",
     "metadata": {},
     "outputs": []
    },
    {
     "cell_type": "code",
     "collapsed": false,
     "input": [],
     "language": "python",
     "metadata": {},
     "outputs": []
    },
    {
     "cell_type": "code",
     "collapsed": false,
     "input": [],
     "language": "python",
     "metadata": {},
     "outputs": []
    },
    {
     "cell_type": "code",
     "collapsed": false,
     "input": [],
     "language": "python",
     "metadata": {},
     "outputs": []
    },
    {
     "cell_type": "code",
     "collapsed": false,
     "input": [],
     "language": "python",
     "metadata": {},
     "outputs": []
    },
    {
     "cell_type": "code",
     "collapsed": false,
     "input": [],
     "language": "python",
     "metadata": {},
     "outputs": []
    },
    {
     "cell_type": "code",
     "collapsed": false,
     "input": [],
     "language": "python",
     "metadata": {},
     "outputs": []
    },
    {
     "cell_type": "code",
     "collapsed": false,
     "input": [],
     "language": "python",
     "metadata": {},
     "outputs": []
    },
    {
     "cell_type": "code",
     "collapsed": false,
     "input": [],
     "language": "python",
     "metadata": {},
     "outputs": []
    },
    {
     "cell_type": "code",
     "collapsed": false,
     "input": [],
     "language": "python",
     "metadata": {},
     "outputs": []
    },
    {
     "cell_type": "code",
     "collapsed": false,
     "input": [
      "import subprocess\n",
      "subprocess.check_output(\"git config --global user.name Charles EC2\", shell=True)"
     ],
     "language": "python",
     "metadata": {},
     "outputs": []
    },
    {
     "cell_type": "code",
     "collapsed": false,
     "input": [
      "subprocess.check_output(\"git -C /root/computing commit -a -m 'commited in python'\", shell=True)"
     ],
     "language": "python",
     "metadata": {},
     "outputs": []
    },
    {
     "cell_type": "code",
     "collapsed": false,
     "input": [],
     "language": "python",
     "metadata": {},
     "outputs": []
    }
   ],
   "metadata": {}
  }
 ]
}