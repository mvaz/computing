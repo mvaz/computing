{
 "metadata": {
  "name": "",
  "signature": "sha256:59eb3062c05afde20eeedaa902e4736654571a8bc4514cc7c1fce586b5a6bad0"
 },
 "nbformat": 3,
 "nbformat_minor": 0,
 "worksheets": [
  {
   "cells": [
    {
     "cell_type": "code",
     "collapsed": false,
     "input": [
      "import os\n",
      "import subprocess\n",
      "import inspect\n",
      "from pyspark import SparkContext"
     ],
     "language": "python",
     "metadata": {},
     "outputs": [],
     "prompt_number": 1
    },
    {
     "cell_type": "code",
     "collapsed": false,
     "input": [
      "# Check that SparkPi still works\n",
      "\n",
      "from random import random\n",
      "from operator import add\n",
      "\n",
      "partitions = 2\n",
      "n = 100000 * partitions\n",
      "\n",
      "def f(_):\n",
      "    x = random() * 2 - 1\n",
      "    y = random() * 2 - 1\n",
      "    return 1 if x ** 2 + y ** 2 < 1 else 0\n",
      "\n",
      "count = sc.parallelize(xrange(1, n + 1), partitions).map(f).reduce(add)\n",
      "print \"Pi is roughly %f\" % (4.0 * count / n)"
     ],
     "language": "python",
     "metadata": {},
     "outputs": [
      {
       "output_type": "stream",
       "stream": "stdout",
       "text": [
        "Pi is roughly 3.139540\n"
       ]
      }
     ],
     "prompt_number": 9
    },
    {
     "cell_type": "heading",
     "level": 2,
     "metadata": {},
     "source": [
      "Basic test of scipy, cvxopt"
     ]
    },
    {
     "cell_type": "code",
     "collapsed": false,
     "input": [
      "import cvxopt as cvx\n",
      "import numpy as np\n",
      "import numpy.random as npr\n",
      "import scipy as sp\n",
      "import scipy.optimize as spo"
     ],
     "language": "python",
     "metadata": {},
     "outputs": [],
     "prompt_number": 10
    },
    {
     "cell_type": "heading",
     "level": 3,
     "metadata": {},
     "source": [
      "Just testing parallelize"
     ]
    },
    {
     "cell_type": "code",
     "collapsed": false,
     "input": [
      "tuples = [(1,2), (3,4), (4,6)]"
     ],
     "language": "python",
     "metadata": {},
     "outputs": [],
     "prompt_number": 11
    },
    {
     "cell_type": "code",
     "collapsed": false,
     "input": [
      "def f(tup):\n",
      "    return (tup[0]*tup[1], 1)"
     ],
     "language": "python",
     "metadata": {},
     "outputs": [],
     "prompt_number": 12
    },
    {
     "cell_type": "code",
     "collapsed": false,
     "input": [
      "count = sc.parallelize(tuples, partitions).map(f).sortByKey(lambda x : x)"
     ],
     "language": "python",
     "metadata": {},
     "outputs": [],
     "prompt_number": 13
    },
    {
     "cell_type": "code",
     "collapsed": false,
     "input": [
      "count.collect()"
     ],
     "language": "python",
     "metadata": {},
     "outputs": [
      {
       "metadata": {},
       "output_type": "pyout",
       "prompt_number": 14,
       "text": [
        "[(2, 1), (12, 1), (24, 1)]"
       ]
      }
     ],
     "prompt_number": 14
    },
    {
     "cell_type": "heading",
     "level": 3,
     "metadata": {},
     "source": [
      "Testing NNLS"
     ]
    },
    {
     "cell_type": "code",
     "collapsed": false,
     "input": [
      "ncases = 10\n",
      "pp = 10 # dimensions for NNLS matrix\n",
      "nn = 5\n",
      "# cases are a tuple (key, A, b)\n",
      "cases = [(ii, np.absolute(npr.normal(0, 1, (nn,pp))), \\\n",
      "          np.absolute(npr.normal(0, 1, pp)) * npr.binomial(1, 0.1, pp)) for ii in range(ncases)]"
     ],
     "language": "python",
     "metadata": {},
     "outputs": [],
     "prompt_number": 15
    },
    {
     "cell_type": "code",
     "collapsed": false,
     "input": [
      "# try matrix multiply\n",
      "def mm(tup):\n",
      "    return (tup[0], np.dot(tup[1],tup[2]))"
     ],
     "language": "python",
     "metadata": {},
     "outputs": [],
     "prompt_number": 16
    },
    {
     "cell_type": "code",
     "collapsed": false,
     "input": [
      "partitions = 3\n",
      "products = sc.parallelize(cases, partitions).map(mm).sortByKey(lambda x : x)"
     ],
     "language": "python",
     "metadata": {},
     "outputs": [],
     "prompt_number": 17
    },
    {
     "cell_type": "code",
     "collapsed": false,
     "input": [
      "ys = products.collect()"
     ],
     "language": "python",
     "metadata": {},
     "outputs": [],
     "prompt_number": 18
    },
    {
     "cell_type": "code",
     "collapsed": false,
     "input": [
      "len(ys)"
     ],
     "language": "python",
     "metadata": {},
     "outputs": [
      {
       "metadata": {},
       "output_type": "pyout",
       "prompt_number": 19,
       "text": [
        "10"
       ]
      }
     ],
     "prompt_number": 19
    },
    {
     "cell_type": "code",
     "collapsed": false,
     "input": [
      "ys_compare = [mm(tup) for tup in cases]"
     ],
     "language": "python",
     "metadata": {},
     "outputs": [],
     "prompt_number": 20
    },
    {
     "cell_type": "code",
     "collapsed": false,
     "input": [
      "ys_compare[0]"
     ],
     "language": "python",
     "metadata": {},
     "outputs": [
      {
       "metadata": {},
       "output_type": "pyout",
       "prompt_number": 21,
       "text": [
        "(0, array([ 0.,  0.,  0.,  0.,  0.]))"
       ]
      }
     ],
     "prompt_number": 21
    },
    {
     "cell_type": "code",
     "collapsed": false,
     "input": [
      "ys[0]"
     ],
     "language": "python",
     "metadata": {},
     "outputs": [
      {
       "metadata": {},
       "output_type": "pyout",
       "prompt_number": 22,
       "text": [
        "(0, array([ 0.,  0.,  0.,  0.,  0.]))"
       ]
      }
     ],
     "prompt_number": 22
    },
    {
     "cell_type": "code",
     "collapsed": false,
     "input": [
      "newcases = [(ii, cases[ii][1], ys[ii][1]) for ii in range(ncases)]"
     ],
     "language": "python",
     "metadata": {},
     "outputs": [],
     "prompt_number": 23
    },
    {
     "cell_type": "code",
     "collapsed": false,
     "input": [
      "def par_nnls(tup):\n",
      "    return (tup[0], spo.nnls(tup[1], tup[2])[0])"
     ],
     "language": "python",
     "metadata": {},
     "outputs": [],
     "prompt_number": 24
    },
    {
     "cell_type": "code",
     "collapsed": false,
     "input": [
      "ans_compare = [par_nnls(tup) for tup in newcases]\n",
      "ans_compare[0]"
     ],
     "language": "python",
     "metadata": {},
     "outputs": [
      {
       "metadata": {},
       "output_type": "pyout",
       "prompt_number": 25,
       "text": [
        "(0, array([ 0.,  0.,  0.,  0.,  0.,  0.,  0.,  0.,  0.,  0.]))"
       ]
      }
     ],
     "prompt_number": 25
    },
    {
     "cell_type": "code",
     "collapsed": false,
     "input": [
      "original_ans = [(ii, cases[ii][2]) for ii in range(ncases)]\n",
      "original_ans[0]"
     ],
     "language": "python",
     "metadata": {},
     "outputs": [
      {
       "metadata": {},
       "output_type": "pyout",
       "prompt_number": 26,
       "text": [
        "(0, array([ 0.,  0.,  0.,  0.,  0.,  0.,  0.,  0.,  0.,  0.]))"
       ]
      }
     ],
     "prompt_number": 26
    },
    {
     "cell_type": "code",
     "collapsed": false,
     "input": [
      "ans_par = sc.parallelize(newcases, partitions).map(par_nnls).sortByKey(lambda x : x).collect()"
     ],
     "language": "python",
     "metadata": {},
     "outputs": [],
     "prompt_number": 143
    },
    {
     "cell_type": "code",
     "collapsed": false,
     "input": [
      "ans_par[0]"
     ],
     "language": "python",
     "metadata": {},
     "outputs": [
      {
       "metadata": {},
       "output_type": "pyout",
       "prompt_number": 144,
       "text": [
        "(0, array([  0.00000000e+00,   0.00000000e+00,   0.00000000e+00,\n",
        "          2.27550437e-17,   0.00000000e+00,   0.00000000e+00,\n",
        "          0.00000000e+00,   1.07094026e+00,   0.00000000e+00,\n",
        "          0.00000000e+00]))"
       ]
      }
     ],
     "prompt_number": 144
    },
    {
     "cell_type": "heading",
     "level": 3,
     "metadata": {},
     "source": [
      "Testing CVXopt"
     ]
    },
    {
     "cell_type": "code",
     "collapsed": false,
     "input": [
      "# generate random feasible linear constraints\n",
      "n_g = 30 # number of inqeuality constraints\n",
      "pp = 10\n",
      "eps_g = 0.1\n",
      "gmat = npr.normal(0, 1, (n_g, pp))\n",
      "xg = npr.normal(0, 1, pp)\n",
      "hvec = np.squeeze(np.dot(gmat, xg)) + eps_g"
     ],
     "language": "python",
     "metadata": {},
     "outputs": [],
     "prompt_number": 59
    },
    {
     "cell_type": "code",
     "collapsed": false,
     "input": [
      "G = cvx.matrix(gmat)\n",
      "h = cvx.matrix(hvec)"
     ],
     "language": "python",
     "metadata": {},
     "outputs": [],
     "prompt_number": 60
    },
    {
     "cell_type": "code",
     "collapsed": false,
     "input": [
      "cvec = npr.normal(0, 1, pp)\n",
      "c = cvx.matrix(cvec)"
     ],
     "language": "python",
     "metadata": {},
     "outputs": [],
     "prompt_number": 61
    },
    {
     "cell_type": "code",
     "collapsed": false,
     "input": [
      "sol = cvx.solvers.lp(c, G, h)"
     ],
     "language": "python",
     "metadata": {},
     "outputs": [],
     "prompt_number": 62
    },
    {
     "cell_type": "code",
     "collapsed": false,
     "input": [
      "sol"
     ],
     "language": "python",
     "metadata": {},
     "outputs": [
      {
       "metadata": {},
       "output_type": "pyout",
       "prompt_number": 63,
       "text": [
        "{'dual infeasibility': 2.963179526718089e-09,\n",
        " 'dual objective': -3.988691434485262,\n",
        " 'dual slack': 2.8889979389594474e-10,\n",
        " 'gap': 4.930314834870297e-09,\n",
        " 'iterations': 9,\n",
        " 'primal infeasibility': 1.0478865564612265e-10,\n",
        " 'primal objective': -3.988691421459392,\n",
        " 'primal slack': 2.817402799215987e-10,\n",
        " 'relative gap': 1.2360732666219593e-09,\n",
        " 'residual as dual infeasibility certificate': None,\n",
        " 'residual as primal infeasibility certificate': None,\n",
        " 's': <30x1 matrix, tc='d'>,\n",
        " 'status': 'optimal',\n",
        " 'x': <10x1 matrix, tc='d'>,\n",
        " 'y': <0x1 matrix, tc='d'>,\n",
        " 'z': <30x1 matrix, tc='d'>}"
       ]
      }
     ],
     "prompt_number": 63
    },
    {
     "cell_type": "code",
     "collapsed": false,
     "input": [
      "xsol = np.array(sol['x'])"
     ],
     "language": "python",
     "metadata": {},
     "outputs": [],
     "prompt_number": 64
    },
    {
     "cell_type": "code",
     "collapsed": false,
     "input": [
      "np.dot(c.T, xg)"
     ],
     "language": "python",
     "metadata": {},
     "outputs": [
      {
       "metadata": {},
       "output_type": "pyout",
       "prompt_number": 65,
       "text": [
        "array([-3.61605745])"
       ]
      }
     ],
     "prompt_number": 65
    },
    {
     "cell_type": "code",
     "collapsed": false,
     "input": [
      "np.squeeze(np.dot(gmat, xsol)) - hvec"
     ],
     "language": "python",
     "metadata": {},
     "outputs": [
      {
       "metadata": {},
       "output_type": "pyout",
       "prompt_number": 66,
       "text": [
        "array([ -1.72158440e-01,   1.21207488e-10,   1.92656557e-10,\n",
        "        -5.25197322e-01,  -3.40103605e-01,  -1.57274385e-01,\n",
        "        -3.29582210e-01,   6.55119292e-11,  -2.61707586e-01,\n",
        "        -1.80003268e-01,  -1.46489827e-01,  -1.15856832e-07,\n",
        "         1.73317360e-10,  -5.10938197e-01,  -1.54313779e-01,\n",
        "        -1.91231141e-01,   7.31208427e-11,  -5.25755753e-01,\n",
        "        -2.18778892e-01,  -5.21672536e-01,  -1.11846213e-03,\n",
        "         1.57681868e-10,  -4.14055202e-02,   2.49578136e-11,\n",
        "        -2.88169564e-01,  -3.10013883e-01,  -8.09743561e-02,\n",
        "        -4.48375115e-10,  -2.97708430e-01,  -7.64386865e-09])"
       ]
      }
     ],
     "prompt_number": 66
    },
    {
     "cell_type": "code",
     "collapsed": false,
     "input": [
      "ncases = 10\n",
      "cases = [(ii, cvx.matrix(npr.random(pp))) for ii in range(ncases)]"
     ],
     "language": "python",
     "metadata": {},
     "outputs": [],
     "prompt_number": 67
    },
    {
     "cell_type": "code",
     "collapsed": false,
     "input": [
      "def par_lp(tup, G, h):\n",
      "    ii = tup[0]\n",
      "    c = tup[1]\n",
      "    ans = np.array(cvx.solvers.lp(c, G, h)['x'])\n",
      "    return ((ii, ans))"
     ],
     "language": "python",
     "metadata": {},
     "outputs": [],
     "prompt_number": 68
    },
    {
     "cell_type": "code",
     "collapsed": false,
     "input": [
      "cvx.solvers.options['show_progress'] = False"
     ],
     "language": "python",
     "metadata": {},
     "outputs": [],
     "prompt_number": 69
    },
    {
     "cell_type": "code",
     "collapsed": false,
     "input": [
      "ans_compare = [par_lp(tup, G, h) for tup in cases]\n",
      "ans_compare[0]"
     ],
     "language": "python",
     "metadata": {},
     "outputs": [
      {
       "metadata": {},
       "output_type": "pyout",
       "prompt_number": 70,
       "text": [
        "(0, array([[ 2.13043241],\n",
        "        [ 0.22265299],\n",
        "        [ 1.13695171],\n",
        "        [-0.54120302],\n",
        "        [-1.32754199],\n",
        "        [ 2.28403492],\n",
        "        [ 0.10023515],\n",
        "        [ 0.44860991],\n",
        "        [ 1.22277871],\n",
        "        [-0.32054503]]))"
       ]
      }
     ],
     "prompt_number": 70
    },
    {
     "cell_type": "code",
     "collapsed": false,
     "input": [
      "partitions = 3\n",
      "ans_par = sc.parallelize(cases, partitions).map(lambda x : par_lp(x, G, h)).sortByKey(lambda x : x).collect()"
     ],
     "language": "python",
     "metadata": {},
     "outputs": [],
     "prompt_number": 71
    },
    {
     "cell_type": "code",
     "collapsed": false,
     "input": [
      "ans_par[0]"
     ],
     "language": "python",
     "metadata": {},
     "outputs": [
      {
       "metadata": {},
       "output_type": "pyout",
       "prompt_number": 72,
       "text": [
        "(0, array([[ 2.13043241],\n",
        "        [ 0.22265299],\n",
        "        [ 1.13695171],\n",
        "        [-0.54120302],\n",
        "        [-1.32754199],\n",
        "        [ 2.28403492],\n",
        "        [ 0.10023515],\n",
        "        [ 0.44860991],\n",
        "        [ 1.22277871],\n",
        "        [-0.32054503]]))"
       ]
      }
     ],
     "prompt_number": 72
    },
    {
     "cell_type": "heading",
     "level": 2,
     "metadata": {},
     "source": [
      "A really long task"
     ]
    },
    {
     "cell_type": "code",
     "collapsed": false,
     "input": [
      "def modexp ( g, u, p ):\n",
      "   \"\"\"computes s = (g ^ u) mod p\n",
      "      args are base, exponent, modulus\n",
      "      (see Bruce Schneier's book, _Applied Cryptography_ p. 244)\"\"\"\n",
      "   s = 1\n",
      "   while u != 0:\n",
      "      if u & 1:\n",
      "         s = (s * g)%p\n",
      "      u >>= 1\n",
      "      g = (g * g)%p;\n",
      "   return s"
     ],
     "language": "python",
     "metadata": {},
     "outputs": [],
     "prompt_number": 83
    },
    {
     "cell_type": "code",
     "collapsed": false,
     "input": [
      "nseq = 1000\n",
      "seq = range(nseq)\n",
      "seq[0] = 1\n",
      "for ii in range(1, nseq):\n",
      "    seq[ii] = (7459 * seq[ii-1]) % 6367"
     ],
     "language": "python",
     "metadata": {},
     "outputs": [],
     "prompt_number": 79
    },
    {
     "cell_type": "code",
     "collapsed": false,
     "input": [
      "def par_lp2(tup, G, h):\n",
      "    ii = tup[0]\n",
      "    c0 = np.array(tup[1])\n",
      "    sumans = np.array(len(c0))\n",
      "    pp = len(c0)\n",
      "    for jj in range(int(1e5)):\n",
      "        inds = [modexp(7459, kk, 6367) % 10 for kk in range(jj*pp, (jj+1)*pp)]\n",
      "        c = cvx.matrix(c0[inds])\n",
      "        ans = np.array(cvx.solvers.lp(c, G, h)['x'])\n",
      "        sumans = sumans + ans\n",
      "    return ((ii, sumans))"
     ],
     "language": "python",
     "metadata": {},
     "outputs": [],
     "prompt_number": 91
    },
    {
     "cell_type": "code",
     "collapsed": false,
     "input": [
      "par_lp2(cases[0], G, h)"
     ],
     "language": "python",
     "metadata": {},
     "outputs": [
      {
       "metadata": {},
       "output_type": "pyout",
       "prompt_number": 92,
       "text": [
        "(0, array([[ 208286.06291702],\n",
        "        [  24048.99114   ],\n",
        "        [ 123305.44952014],\n",
        "        [ -55246.13939427],\n",
        "        [-132099.75821043],\n",
        "        [ 230544.64004005],\n",
        "        [   3750.02240766],\n",
        "        [  42515.14444397],\n",
        "        [ 120045.79696973],\n",
        "        [ -32134.37088238]]))"
       ]
      }
     ],
     "prompt_number": 92
    },
    {
     "cell_type": "code",
     "collapsed": false,
     "input": [
      "ans_par = sc.parallelize(cases, partitions).map(lambda x : par_lp2(x, G, h)).sortByKey(lambda x : x).collect()"
     ],
     "language": "python",
     "metadata": {},
     "outputs": [],
     "prompt_number": 93
    },
    {
     "cell_type": "code",
     "collapsed": false,
     "input": [
      "ans_par"
     ],
     "language": "python",
     "metadata": {},
     "outputs": [
      {
       "metadata": {},
       "output_type": "pyout",
       "prompt_number": 94,
       "text": [
        "[(0, array([[ 208286.06291702],\n",
        "         [  24048.99114   ],\n",
        "         [ 123305.44952014],\n",
        "         [ -55246.13939427],\n",
        "         [-132099.75821043],\n",
        "         [ 230544.64004005],\n",
        "         [   3750.02240766],\n",
        "         [  42515.14444397],\n",
        "         [ 120045.79696973],\n",
        "         [ -32134.37088238]])), (1, array([[ 208349.99638896],\n",
        "         [  24030.58461704],\n",
        "         [ 123194.70999129],\n",
        "         [ -55267.72031391],\n",
        "         [-132020.834175  ],\n",
        "         [ 230557.1334909 ],\n",
        "         [   3865.08634553],\n",
        "         [  42474.20520244],\n",
        "         [ 120034.60986086],\n",
        "         [ -32143.99458674]])), (2, array([[ 208269.90478579],\n",
        "         [  24250.51025261],\n",
        "         [ 123622.73382435],\n",
        "         [ -55212.8107577 ],\n",
        "         [-132382.59743197],\n",
        "         [ 230199.21339149],\n",
        "         [   3448.23086286],\n",
        "         [  42168.87129614],\n",
        "         [ 120100.21376015],\n",
        "         [ -32135.65209649]])), (3, array([[ 208478.32456514],\n",
        "         [  23552.92544468],\n",
        "         [ 122676.13093997],\n",
        "         [ -55345.65996678],\n",
        "         [-131421.98982246],\n",
        "         [ 231342.92065112],\n",
        "         [   4482.87265833],\n",
        "         [  43112.97868566],\n",
        "         [ 119888.01487229],\n",
        "         [ -32123.70170506]])), (4, array([[ 208430.33638268],\n",
        "         [  23736.42889187],\n",
        "         [ 122878.00038391],\n",
        "         [ -55273.22195367],\n",
        "         [-131671.59545699],\n",
        "         [ 231085.51769994],\n",
        "         [   4228.41606621],\n",
        "         [  42858.10201506],\n",
        "         [ 119958.65705727],\n",
        "         [ -32111.72490413]])), (5, array([[ 208185.48294613],\n",
        "         [  24599.0119945 ],\n",
        "         [ 124181.38550354],\n",
        "         [ -55126.23085091],\n",
        "         [-132825.11551357],\n",
        "         [ 229622.10985841],\n",
        "         [   2914.55168659],\n",
        "         [  41549.53694437],\n",
        "         [ 120207.80794627],\n",
        "         [ -32115.3066842 ]])), (6, array([[ 208503.53846947],\n",
        "         [  23489.83393703],\n",
        "         [ 122367.22402551],\n",
        "         [ -55301.35925275],\n",
        "         [-131338.98969823],\n",
        "         [ 231499.45239552],\n",
        "         [   4673.63828989],\n",
        "         [  43326.17785904],\n",
        "         [ 119876.09946044],\n",
        "         [ -32166.47445909]])), (7, array([[ 208372.28651939],\n",
        "         [  23674.15543266],\n",
        "         [ 122673.540236  ],\n",
        "         [ -55250.46834358],\n",
        "         [-131632.95817165],\n",
        "         [ 231175.94267348],\n",
        "         [   4282.32307865],\n",
        "         [  43094.75972798],\n",
        "         [ 119918.64406376],\n",
        "         [ -32138.10312693]])), (8, array([[ 208080.55080902],\n",
        "         [  24432.40198549],\n",
        "         [ 124064.90946409],\n",
        "         [ -55203.36735586],\n",
        "         [-132644.51963043],\n",
        "         [ 229899.54348021],\n",
        "         [   3072.41181805],\n",
        "         [  41952.23291128],\n",
        "         [ 120128.9108515 ],\n",
        "         [ -32148.65096172]])), (9, array([[ 208191.46401795],\n",
        "         [  24489.67100453],\n",
        "         [ 124055.39350336],\n",
        "         [ -55165.23538673],\n",
        "         [-132763.02451819],\n",
        "         [ 229735.39662091],\n",
        "         [   3055.39083661],\n",
        "         [  41827.07454128],\n",
        "         [ 120201.45702799],\n",
        "         [ -32141.90586791]]))]"
       ]
      }
     ],
     "prompt_number": 94
    },
    {
     "cell_type": "code",
     "collapsed": false,
     "input": [],
     "language": "python",
     "metadata": {},
     "outputs": [],
     "prompt_number": 0
    },
    {
     "cell_type": "code",
     "collapsed": false,
     "input": [],
     "language": "python",
     "metadata": {},
     "outputs": [],
     "prompt_number": 0
    },
    {
     "cell_type": "code",
     "collapsed": false,
     "input": [],
     "language": "python",
     "metadata": {},
     "outputs": [],
     "prompt_number": 0
    },
    {
     "cell_type": "code",
     "collapsed": false,
     "input": [],
     "language": "python",
     "metadata": {},
     "outputs": [],
     "prompt_number": 0
    },
    {
     "cell_type": "code",
     "collapsed": false,
     "input": [],
     "language": "python",
     "metadata": {},
     "outputs": [],
     "prompt_number": 0
    },
    {
     "cell_type": "code",
     "collapsed": false,
     "input": [],
     "language": "python",
     "metadata": {},
     "outputs": [],
     "prompt_number": 0
    },
    {
     "cell_type": "code",
     "collapsed": false,
     "input": [],
     "language": "python",
     "metadata": {},
     "outputs": [],
     "prompt_number": 0
    },
    {
     "cell_type": "code",
     "collapsed": false,
     "input": [],
     "language": "python",
     "metadata": {},
     "outputs": [],
     "prompt_number": 0
    },
    {
     "cell_type": "code",
     "collapsed": false,
     "input": [],
     "language": "python",
     "metadata": {},
     "outputs": [],
     "prompt_number": 0
    },
    {
     "cell_type": "code",
     "collapsed": false,
     "input": [],
     "language": "python",
     "metadata": {},
     "outputs": [],
     "prompt_number": 0
    },
    {
     "cell_type": "code",
     "collapsed": false,
     "input": [],
     "language": "python",
     "metadata": {},
     "outputs": [],
     "prompt_number": 0
    },
    {
     "cell_type": "code",
     "collapsed": false,
     "input": [],
     "language": "python",
     "metadata": {},
     "outputs": [],
     "prompt_number": 0
    },
    {
     "cell_type": "code",
     "collapsed": false,
     "input": [],
     "language": "python",
     "metadata": {},
     "outputs": [],
     "prompt_number": 0
    },
    {
     "cell_type": "code",
     "collapsed": false,
     "input": [],
     "language": "python",
     "metadata": {},
     "outputs": [],
     "prompt_number": 0
    },
    {
     "cell_type": "code",
     "collapsed": false,
     "input": [],
     "language": "python",
     "metadata": {},
     "outputs": [],
     "prompt_number": 0
    },
    {
     "cell_type": "code",
     "collapsed": false,
     "input": [],
     "language": "python",
     "metadata": {},
     "outputs": [],
     "prompt_number": 0
    },
    {
     "cell_type": "code",
     "collapsed": false,
     "input": [],
     "language": "python",
     "metadata": {},
     "outputs": [],
     "prompt_number": 0
    },
    {
     "cell_type": "code",
     "collapsed": false,
     "input": [],
     "language": "python",
     "metadata": {},
     "outputs": [],
     "prompt_number": 0
    },
    {
     "cell_type": "code",
     "collapsed": false,
     "input": [],
     "language": "python",
     "metadata": {},
     "outputs": [],
     "prompt_number": 0
    },
    {
     "cell_type": "code",
     "collapsed": false,
     "input": [],
     "language": "python",
     "metadata": {},
     "outputs": [],
     "prompt_number": 0
    },
    {
     "cell_type": "code",
     "collapsed": false,
     "input": [],
     "language": "python",
     "metadata": {},
     "outputs": [],
     "prompt_number": 0
    },
    {
     "cell_type": "code",
     "collapsed": false,
     "input": [],
     "language": "python",
     "metadata": {},
     "outputs": [],
     "prompt_number": 0
    },
    {
     "cell_type": "code",
     "collapsed": false,
     "input": [],
     "language": "python",
     "metadata": {},
     "outputs": [],
     "prompt_number": 0
    },
    {
     "cell_type": "code",
     "collapsed": false,
     "input": [],
     "language": "python",
     "metadata": {},
     "outputs": [],
     "prompt_number": 0
    },
    {
     "cell_type": "code",
     "collapsed": false,
     "input": [],
     "language": "python",
     "metadata": {},
     "outputs": [],
     "prompt_number": 0
    },
    {
     "cell_type": "code",
     "collapsed": false,
     "input": [],
     "language": "python",
     "metadata": {},
     "outputs": [],
     "prompt_number": 0
    },
    {
     "cell_type": "code",
     "collapsed": false,
     "input": [],
     "language": "python",
     "metadata": {},
     "outputs": [],
     "prompt_number": 0
    },
    {
     "cell_type": "code",
     "collapsed": false,
     "input": [],
     "language": "python",
     "metadata": {},
     "outputs": [],
     "prompt_number": 0
    },
    {
     "cell_type": "code",
     "collapsed": false,
     "input": [],
     "language": "python",
     "metadata": {},
     "outputs": [],
     "prompt_number": 0
    },
    {
     "cell_type": "code",
     "collapsed": false,
     "input": [],
     "language": "python",
     "metadata": {},
     "outputs": [],
     "prompt_number": 0
    },
    {
     "cell_type": "code",
     "collapsed": false,
     "input": [],
     "language": "python",
     "metadata": {},
     "outputs": [],
     "prompt_number": 0
    },
    {
     "cell_type": "code",
     "collapsed": false,
     "input": [],
     "language": "python",
     "metadata": {},
     "outputs": [],
     "prompt_number": 0
    },
    {
     "cell_type": "code",
     "collapsed": false,
     "input": [],
     "language": "python",
     "metadata": {},
     "outputs": [],
     "prompt_number": 0
    },
    {
     "cell_type": "code",
     "collapsed": false,
     "input": [],
     "language": "python",
     "metadata": {},
     "outputs": [],
     "prompt_number": 0
    },
    {
     "cell_type": "code",
     "collapsed": false,
     "input": [],
     "language": "python",
     "metadata": {},
     "outputs": [],
     "prompt_number": 0
    },
    {
     "cell_type": "code",
     "collapsed": false,
     "input": [],
     "language": "python",
     "metadata": {},
     "outputs": [],
     "prompt_number": 0
    },
    {
     "cell_type": "code",
     "collapsed": false,
     "input": [],
     "language": "python",
     "metadata": {},
     "outputs": [],
     "prompt_number": 0
    },
    {
     "cell_type": "code",
     "collapsed": false,
     "input": [],
     "language": "python",
     "metadata": {},
     "outputs": [],
     "prompt_number": 0
    },
    {
     "cell_type": "code",
     "collapsed": false,
     "input": [],
     "language": "python",
     "metadata": {},
     "outputs": [],
     "prompt_number": 0
    },
    {
     "cell_type": "code",
     "collapsed": false,
     "input": [],
     "language": "python",
     "metadata": {},
     "outputs": [],
     "prompt_number": 0
    },
    {
     "cell_type": "code",
     "collapsed": false,
     "input": [],
     "language": "python",
     "metadata": {},
     "outputs": [],
     "prompt_number": 0
    },
    {
     "cell_type": "code",
     "collapsed": false,
     "input": [],
     "language": "python",
     "metadata": {},
     "outputs": [],
     "prompt_number": 0
    },
    {
     "cell_type": "code",
     "collapsed": false,
     "input": [],
     "language": "python",
     "metadata": {},
     "outputs": [],
     "prompt_number": 0
    },
    {
     "cell_type": "code",
     "collapsed": false,
     "input": [],
     "language": "python",
     "metadata": {},
     "outputs": [],
     "prompt_number": 0
    },
    {
     "cell_type": "code",
     "collapsed": false,
     "input": [],
     "language": "python",
     "metadata": {},
     "outputs": [],
     "prompt_number": 0
    },
    {
     "cell_type": "code",
     "collapsed": false,
     "input": [],
     "language": "python",
     "metadata": {},
     "outputs": [],
     "prompt_number": 0
    },
    {
     "cell_type": "code",
     "collapsed": false,
     "input": [],
     "language": "python",
     "metadata": {},
     "outputs": [],
     "prompt_number": 0
    },
    {
     "cell_type": "code",
     "collapsed": false,
     "input": [],
     "language": "python",
     "metadata": {},
     "outputs": [],
     "prompt_number": 0
    },
    {
     "cell_type": "code",
     "collapsed": false,
     "input": [],
     "language": "python",
     "metadata": {},
     "outputs": [],
     "prompt_number": 0
    },
    {
     "cell_type": "code",
     "collapsed": false,
     "input": [],
     "language": "python",
     "metadata": {},
     "outputs": [],
     "prompt_number": 0
    },
    {
     "cell_type": "code",
     "collapsed": false,
     "input": [],
     "language": "python",
     "metadata": {},
     "outputs": [],
     "prompt_number": 0
    },
    {
     "cell_type": "code",
     "collapsed": false,
     "input": [],
     "language": "python",
     "metadata": {},
     "outputs": [],
     "prompt_number": 0
    },
    {
     "cell_type": "code",
     "collapsed": false,
     "input": [
      "import subprocess\n",
      "subprocess.check_output(\"git config --global user.name Charles EC2\", shell=True)"
     ],
     "language": "python",
     "metadata": {},
     "outputs": [
      {
       "metadata": {},
       "output_type": "pyout",
       "prompt_number": 3,
       "text": [
        "''"
       ]
      }
     ],
     "prompt_number": 3
    },
    {
     "cell_type": "code",
     "collapsed": false,
     "input": [
      "subprocess.check_output(\"git -C /root/computing commit -a -m 'commited in python'\", shell=True)"
     ],
     "language": "python",
     "metadata": {},
     "outputs": [
      {
       "metadata": {},
       "output_type": "pyout",
       "prompt_number": 8,
       "text": [
        "'[master 4a059e1] commited in python\\n Committer: Charles <root@ip-172-31-20-178.us-west-2.compute.internal>\\nYour name and email address were configured automatically based\\non your username and hostname. Please check that they are accurate.\\nYou can suppress this message by setting them explicitly:\\n\\n    git config --global user.name \"Your Name\"\\n    git config --global user.email you@example.com\\n\\nAfter doing this, you may fix the identity used for this commit with:\\n\\n    git commit --amend --reset-author\\n\\n 1 file changed, 8 insertions(+), 11 deletions(-)\\n'"
       ]
      }
     ],
     "prompt_number": 8
    },
    {
     "cell_type": "code",
     "collapsed": false,
     "input": [],
     "language": "python",
     "metadata": {},
     "outputs": []
    }
   ],
   "metadata": {}
  }
 ]
}